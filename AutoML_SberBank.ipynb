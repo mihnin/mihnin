{
  "cells": [
    {
      "cell_type": "markdown",
      "metadata": {
        "id": "view-in-github",
        "colab_type": "text"
      },
      "source": [
        "<a href=\"https://colab.research.google.com/github/mihnin/mihnin/blob/master/AutoML_SberBank.ipynb\" target=\"_parent\"><img src=\"https://colab.research.google.com/assets/colab-badge.svg\" alt=\"Open In Colab\"/></a>"
      ]
    },
    {
      "cell_type": "markdown",
      "metadata": {
        "id": "HeYXyYsPTHGs"
      },
      "source": [
        "# Описание проекта\n",
        "В вашем распоряжении данные сервиса Яндекс.Недвижимость — архив объявлений о продаже квартир в Санкт-Петербурге и соседних населённых пунктах. Нужно научиться определять рыночную стоимость объектов недвижимости с применением машинного обучения.\n",
        "Auto ML\n"
      ]
    },
    {
      "cell_type": "markdown",
      "metadata": {
        "id": "xXd7fmC5THGw"
      },
      "source": [
        "## Загрузим библиотеку AutoML"
      ]
    },
    {
      "cell_type": "code",
      "execution_count": null,
      "metadata": {
        "id": "anDRy7EyTHGx",
        "outputId": "6bb66767-9d95-47d2-d1f0-28b5705f4351"
      },
      "outputs": [
        {
          "name": "stdout",
          "output_type": "stream",
          "text": [
            "Requirement already satisfied: lightautoml in c:\\users\\workstation\\anaconda3\\lib\\site-packages (0.3.2)\n",
            "Requirement already satisfied: json2html in c:\\users\\workstation\\anaconda3\\lib\\site-packages (from lightautoml) (1.3.0)\n",
            "Requirement already satisfied: optuna in c:\\users\\workstation\\anaconda3\\lib\\site-packages (from lightautoml) (2.10.0)\n",
            "Requirement already satisfied: autowoe>=1.2 in c:\\users\\workstation\\anaconda3\\lib\\site-packages (from lightautoml) (1.2.5)\n",
            "Requirement already satisfied: torchvision in c:\\users\\workstation\\anaconda3\\lib\\site-packages (from lightautoml) (0.9.1)\n",
            "Requirement already satisfied: pandas>=1 in c:\\users\\workstation\\anaconda3\\lib\\site-packages (from lightautoml) (1.3.4)\n",
            "Requirement already satisfied: jinja2 in c:\\users\\workstation\\anaconda3\\lib\\site-packages (from lightautoml) (2.11.3)\n",
            "Requirement already satisfied: tqdm in c:\\users\\workstation\\anaconda3\\lib\\site-packages (from lightautoml) (4.62.3)\n",
            "Requirement already satisfied: scipy in c:\\users\\workstation\\anaconda3\\lib\\site-packages (from lightautoml) (1.7.1)\n",
            "Requirement already satisfied: holidays in c:\\users\\workstation\\anaconda3\\lib\\site-packages (from lightautoml) (0.12)\n",
            "Requirement already satisfied: torch<1.9 in c:\\users\\workstation\\anaconda3\\lib\\site-packages (from lightautoml) (1.8.1)\n",
            "Requirement already satisfied: numpy>=1.20.0 in c:\\users\\workstation\\anaconda3\\lib\\site-packages (from lightautoml) (1.20.3)\n",
            "Requirement already satisfied: scikit-learn>=0.22 in c:\\users\\workstation\\anaconda3\\lib\\site-packages (from lightautoml) (0.24.2)\n",
            "Requirement already satisfied: seaborn in c:\\users\\workstation\\anaconda3\\lib\\site-packages (from lightautoml) (0.11.2)\n",
            "Requirement already satisfied: catboost in c:\\users\\workstation\\anaconda3\\lib\\site-packages (from lightautoml) (1.0.4)\n",
            "Requirement already satisfied: networkx in c:\\users\\workstation\\anaconda3\\lib\\site-packages (from lightautoml) (2.6.3)\n",
            "Requirement already satisfied: poetry-core<2.0.0,>=1.0.0 in c:\\users\\workstation\\anaconda3\\lib\\site-packages (from lightautoml) (1.0.7)\n",
            "Requirement already satisfied: pyyaml in c:\\users\\workstation\\anaconda3\\lib\\site-packages (from lightautoml) (6.0)\n",
            "Requirement already satisfied: joblib in c:\\users\\workstation\\anaconda3\\lib\\site-packages (from lightautoml) (1.1.0)\n",
            "Requirement already satisfied: cmaes in c:\\users\\workstation\\anaconda3\\lib\\site-packages (from lightautoml) (0.8.2)\n",
            "Requirement already satisfied: dataclasses==0.6 in c:\\users\\workstation\\anaconda3\\lib\\site-packages (from lightautoml) (0.6)\n",
            "Requirement already satisfied: lightgbm<3.0,>=2.3 in c:\\users\\workstation\\anaconda3\\lib\\site-packages (from lightautoml) (2.3.1)\n",
            "Requirement already satisfied: matplotlib in c:\\users\\workstation\\anaconda3\\lib\\site-packages (from autowoe>=1.2->lightautoml) (3.4.3)\n",
            "Requirement already satisfied: pytest in c:\\users\\workstation\\anaconda3\\lib\\site-packages (from autowoe>=1.2->lightautoml) (6.2.4)\n",
            "Requirement already satisfied: pytz in c:\\users\\workstation\\anaconda3\\lib\\site-packages (from autowoe>=1.2->lightautoml) (2021.3)\n",
            "Requirement already satisfied: sphinx in c:\\users\\workstation\\anaconda3\\lib\\site-packages (from autowoe>=1.2->lightautoml) (4.2.0)\n",
            "Requirement already satisfied: sphinx-rtd-theme in c:\\users\\workstation\\anaconda3\\lib\\site-packages (from autowoe>=1.2->lightautoml) (1.0.0)\n",
            "Requirement already satisfied: python-dateutil>=2.7.3 in c:\\users\\workstation\\anaconda3\\lib\\site-packages (from pandas>=1->lightautoml) (2.8.2)\n",
            "Requirement already satisfied: six>=1.5 in c:\\users\\workstation\\anaconda3\\lib\\site-packages (from python-dateutil>=2.7.3->pandas>=1->lightautoml) (1.16.0)\n",
            "Requirement already satisfied: threadpoolctl>=2.0.0 in c:\\users\\workstation\\anaconda3\\lib\\site-packages (from scikit-learn>=0.22->lightautoml) (2.2.0)\n",
            "Requirement already satisfied: typing-extensions in c:\\users\\workstation\\anaconda3\\lib\\site-packages (from torch<1.9->lightautoml) (3.10.0.2)\n",
            "Requirement already satisfied: plotly in c:\\users\\workstation\\anaconda3\\lib\\site-packages (from catboost->lightautoml) (5.5.0)\n",
            "Requirement already satisfied: graphviz in c:\\users\\workstation\\anaconda3\\lib\\site-packages (from catboost->lightautoml) (0.19.1)\n",
            "Requirement already satisfied: convertdate>=2.3.0 in c:\\users\\workstation\\anaconda3\\lib\\site-packages (from holidays->lightautoml) (2.4.0)\n",
            "Requirement already satisfied: hijri-converter in c:\\users\\workstation\\anaconda3\\lib\\site-packages (from holidays->lightautoml) (2.2.2)\n",
            "Requirement already satisfied: korean-lunar-calendar in c:\\users\\workstation\\anaconda3\\lib\\site-packages (from holidays->lightautoml) (0.2.1)\n",
            "Requirement already satisfied: pymeeus<=1,>=0.3.13 in c:\\users\\workstation\\anaconda3\\lib\\site-packages (from convertdate>=2.3.0->holidays->lightautoml) (0.5.11)\n",
            "Requirement already satisfied: MarkupSafe>=0.23 in c:\\users\\workstation\\anaconda3\\lib\\site-packages (from jinja2->lightautoml) (1.1.1)\n",
            "Requirement already satisfied: pillow>=6.2.0 in c:\\users\\workstation\\anaconda3\\lib\\site-packages (from matplotlib->autowoe>=1.2->lightautoml) (8.4.0)\n",
            "Requirement already satisfied: pyparsing>=2.2.1 in c:\\users\\workstation\\anaconda3\\lib\\site-packages (from matplotlib->autowoe>=1.2->lightautoml) (3.0.4)\n",
            "Requirement already satisfied: cycler>=0.10 in c:\\users\\workstation\\anaconda3\\lib\\site-packages (from matplotlib->autowoe>=1.2->lightautoml) (0.10.0)\n",
            "Requirement already satisfied: kiwisolver>=1.0.1 in c:\\users\\workstation\\anaconda3\\lib\\site-packages (from matplotlib->autowoe>=1.2->lightautoml) (1.3.1)\n",
            "Requirement already satisfied: alembic in c:\\users\\workstation\\anaconda3\\lib\\site-packages (from optuna->lightautoml) (1.7.5)\n",
            "Requirement already satisfied: colorlog in c:\\users\\workstation\\anaconda3\\lib\\site-packages (from optuna->lightautoml) (6.6.0)\n",
            "Requirement already satisfied: cliff in c:\\users\\workstation\\anaconda3\\lib\\site-packages (from optuna->lightautoml) (3.10.0)\n",
            "Requirement already satisfied: packaging>=20.0 in c:\\users\\workstation\\anaconda3\\lib\\site-packages (from optuna->lightautoml) (21.0)\n",
            "Requirement already satisfied: sqlalchemy>=1.1.0 in c:\\users\\workstation\\anaconda3\\lib\\site-packages (from optuna->lightautoml) (1.4.22)\n",
            "Requirement already satisfied: greenlet!=0.4.17 in c:\\users\\workstation\\anaconda3\\lib\\site-packages (from sqlalchemy>=1.1.0->optuna->lightautoml) (1.1.1)\n",
            "Requirement already satisfied: Mako in c:\\users\\workstation\\anaconda3\\lib\\site-packages (from alembic->optuna->lightautoml) (1.1.6)\n",
            "Requirement already satisfied: autopage>=0.4.0 in c:\\users\\workstation\\anaconda3\\lib\\site-packages (from cliff->optuna->lightautoml) (0.5.0)\n",
            "Requirement already satisfied: stevedore>=2.0.1 in c:\\users\\workstation\\anaconda3\\lib\\site-packages (from cliff->optuna->lightautoml) (3.5.0)\n",
            "Requirement already satisfied: PrettyTable>=0.7.2 in c:\\users\\workstation\\anaconda3\\lib\\site-packages (from cliff->optuna->lightautoml) (3.0.0)\n",
            "Requirement already satisfied: cmd2>=1.0.0 in c:\\users\\workstation\\anaconda3\\lib\\site-packages (from cliff->optuna->lightautoml) (2.3.3)\n",
            "Requirement already satisfied: pbr!=2.1.0,>=2.0.0 in c:\\users\\workstation\\anaconda3\\lib\\site-packages (from cliff->optuna->lightautoml) (5.8.0)\n",
            "Requirement already satisfied: wcwidth>=0.1.7 in c:\\users\\workstation\\anaconda3\\lib\\site-packages (from cmd2>=1.0.0->cliff->optuna->lightautoml) (0.2.5)\n",
            "Requirement already satisfied: attrs>=16.3.0 in c:\\users\\workstation\\anaconda3\\lib\\site-packages (from cmd2>=1.0.0->cliff->optuna->lightautoml) (21.2.0)\n",
            "Requirement already satisfied: pyperclip>=1.6 in c:\\users\\workstation\\anaconda3\\lib\\site-packages (from cmd2>=1.0.0->cliff->optuna->lightautoml) (1.8.2)\n",
            "Requirement already satisfied: pyreadline3 in c:\\users\\workstation\\anaconda3\\lib\\site-packages (from cmd2>=1.0.0->cliff->optuna->lightautoml) (3.3)\n",
            "Requirement already satisfied: colorama in c:\\users\\workstation\\anaconda3\\lib\\site-packages (from colorlog->optuna->lightautoml) (0.4.4)\n",
            "Requirement already satisfied: tenacity>=6.2.0 in c:\\users\\workstation\\anaconda3\\lib\\site-packages (from plotly->catboost->lightautoml) (8.0.1)\n",
            "Requirement already satisfied: iniconfig in c:\\users\\workstation\\anaconda3\\lib\\site-packages (from pytest->autowoe>=1.2->lightautoml) (1.1.1)\n",
            "Requirement already satisfied: pluggy<1.0.0a1,>=0.12 in c:\\users\\workstation\\anaconda3\\lib\\site-packages (from pytest->autowoe>=1.2->lightautoml) (0.13.1)\n",
            "Requirement already satisfied: py>=1.8.2 in c:\\users\\workstation\\anaconda3\\lib\\site-packages (from pytest->autowoe>=1.2->lightautoml) (1.10.0)\n",
            "Requirement already satisfied: toml in c:\\users\\workstation\\anaconda3\\lib\\site-packages (from pytest->autowoe>=1.2->lightautoml) (0.10.2)\n",
            "Requirement already satisfied: atomicwrites>=1.0 in c:\\users\\workstation\\anaconda3\\lib\\site-packages (from pytest->autowoe>=1.2->lightautoml) (1.4.0)\n",
            "Requirement already satisfied: sphinxcontrib-applehelp in c:\\users\\workstation\\anaconda3\\lib\\site-packages (from sphinx->autowoe>=1.2->lightautoml) (1.0.2)\n",
            "Requirement already satisfied: sphinxcontrib-devhelp in c:\\users\\workstation\\anaconda3\\lib\\site-packages (from sphinx->autowoe>=1.2->lightautoml) (1.0.2)\n",
            "Requirement already satisfied: sphinxcontrib-jsmath in c:\\users\\workstation\\anaconda3\\lib\\site-packages (from sphinx->autowoe>=1.2->lightautoml) (1.0.1)\n",
            "Requirement already satisfied: sphinxcontrib-htmlhelp>=2.0.0 in c:\\users\\workstation\\anaconda3\\lib\\site-packages (from sphinx->autowoe>=1.2->lightautoml) (2.0.0)\n",
            "Requirement already satisfied: sphinxcontrib-serializinghtml>=1.1.5 in c:\\users\\workstation\\anaconda3\\lib\\site-packages (from sphinx->autowoe>=1.2->lightautoml) (1.1.5)\n",
            "Requirement already satisfied: sphinxcontrib-qthelp in c:\\users\\workstation\\anaconda3\\lib\\site-packages (from sphinx->autowoe>=1.2->lightautoml) (1.0.3)\n",
            "Requirement already satisfied: Pygments>=2.0 in c:\\users\\workstation\\anaconda3\\lib\\site-packages (from sphinx->autowoe>=1.2->lightautoml) (2.10.0)\n",
            "Requirement already satisfied: docutils<0.18,>=0.14 in c:\\users\\workstation\\anaconda3\\lib\\site-packages (from sphinx->autowoe>=1.2->lightautoml) (0.17.1)\n",
            "Requirement already satisfied: snowballstemmer>=1.1 in c:\\users\\workstation\\anaconda3\\lib\\site-packages (from sphinx->autowoe>=1.2->lightautoml) (2.1.0)\n",
            "Requirement already satisfied: babel>=1.3 in c:\\users\\workstation\\anaconda3\\lib\\site-packages (from sphinx->autowoe>=1.2->lightautoml) (2.9.1)\n",
            "Requirement already satisfied: alabaster<0.8,>=0.7 in c:\\users\\workstation\\anaconda3\\lib\\site-packages (from sphinx->autowoe>=1.2->lightautoml) (0.7.12)\n",
            "Requirement already satisfied: imagesize in c:\\users\\workstation\\anaconda3\\lib\\site-packages (from sphinx->autowoe>=1.2->lightautoml) (1.2.0)\n",
            "Requirement already satisfied: requests>=2.5.0 in c:\\users\\workstation\\anaconda3\\lib\\site-packages (from sphinx->autowoe>=1.2->lightautoml) (2.26.0)\n",
            "Requirement already satisfied: setuptools in c:\\users\\workstation\\anaconda3\\lib\\site-packages (from sphinx->autowoe>=1.2->lightautoml) (58.0.4)\n",
            "Requirement already satisfied: certifi>=2017.4.17 in c:\\users\\workstation\\anaconda3\\lib\\site-packages (from requests>=2.5.0->sphinx->autowoe>=1.2->lightautoml) (2021.10.8)\n",
            "Requirement already satisfied: urllib3<1.27,>=1.21.1 in c:\\users\\workstation\\anaconda3\\lib\\site-packages (from requests>=2.5.0->sphinx->autowoe>=1.2->lightautoml) (1.26.7)\n",
            "Requirement already satisfied: idna<4,>=2.5 in c:\\users\\workstation\\anaconda3\\lib\\site-packages (from requests>=2.5.0->sphinx->autowoe>=1.2->lightautoml) (3.2)\n",
            "Requirement already satisfied: charset-normalizer~=2.0.0 in c:\\users\\workstation\\anaconda3\\lib\\site-packages (from requests>=2.5.0->sphinx->autowoe>=1.2->lightautoml) (2.0.4)\n"
          ]
        }
      ],
      "source": [
        "!pip install -U lightautoml\n",
        "\n"
      ]
    },
    {
      "cell_type": "markdown",
      "metadata": {
        "id": "dSVl-mvyTHGy"
      },
      "source": [
        "## Step 1. Import all libs"
      ]
    },
    {
      "cell_type": "code",
      "execution_count": null,
      "metadata": {
        "id": "e8lb7ysfTHGz"
      },
      "outputs": [],
      "source": [
        "%matplotlib inline\n",
        "\n",
        "import warnings  # Применяю библиотеку варнингс для сокрытия предупреждений.\n",
        "warnings.filterwarnings(\"ignore\")\n",
        "\n",
        "# Standard python libraries\n",
        "import os\n",
        "import time\n",
        "import re\n",
        "\n",
        "# Installed libraries\n",
        "import numpy as np\n",
        "import pandas as pd\n",
        "from sklearn.metrics import mean_squared_log_error\n",
        "from sklearn.model_selection import train_test_split\n",
        "import torch\n",
        "import matplotlib.pyplot as plt\n",
        "\n",
        "# Imports from our package\n",
        "from lightautoml.automl.presets.tabular_presets import TabularAutoML, TabularUtilizedAutoML\n",
        "from lightautoml.tasks import Task\n",
        "\n",
        "\n",
        "from pathlib import Path\n",
        "# в переменную записываем путь к файлу с которым будем работать\n",
        "file = Path.cwd() / 'data' / 'raw' / 'train_data.csv'\n",
        "#data = pd.read_csv('c:/Temp/train_data.csv') #Загружаем данные из csv в переменную data\n",
        "data = pd.read_csv(file)"
      ]
    },
    {
      "cell_type": "code",
      "execution_count": null,
      "metadata": {
        "id": "RgU2KH08THG0",
        "outputId": "382f8fc0-0265-4da6-b556-57e42c164802"
      },
      "outputs": [
        {
          "data": {
            "text/html": [
              "<div>\n",
              "<style scoped>\n",
              "    .dataframe tbody tr th:only-of-type {\n",
              "        vertical-align: middle;\n",
              "    }\n",
              "\n",
              "    .dataframe tbody tr th {\n",
              "        vertical-align: top;\n",
              "    }\n",
              "\n",
              "    .dataframe thead th {\n",
              "        text-align: right;\n",
              "    }\n",
              "</style>\n",
              "<table border=\"1\" class=\"dataframe\">\n",
              "  <thead>\n",
              "    <tr style=\"text-align: right;\">\n",
              "      <th></th>\n",
              "      <th>last_price</th>\n",
              "      <th>total_area</th>\n",
              "      <th>rooms</th>\n",
              "      <th>ceiling_height</th>\n",
              "      <th>floors_total</th>\n",
              "      <th>living_area</th>\n",
              "      <th>floor</th>\n",
              "      <th>is_apartment</th>\n",
              "      <th>studio</th>\n",
              "      <th>open_plan</th>\n",
              "      <th>kitchen_area</th>\n",
              "      <th>balcony</th>\n",
              "      <th>airports_nearest</th>\n",
              "      <th>cityCenters_nearest</th>\n",
              "    </tr>\n",
              "  </thead>\n",
              "  <tbody>\n",
              "    <tr>\n",
              "      <th>0</th>\n",
              "      <td>5400000.0</td>\n",
              "      <td>59.0</td>\n",
              "      <td>2</td>\n",
              "      <td>2.87</td>\n",
              "      <td>4.0</td>\n",
              "      <td>31.5</td>\n",
              "      <td>2</td>\n",
              "      <td>0.0</td>\n",
              "      <td>0.0</td>\n",
              "      <td>0.0</td>\n",
              "      <td>6.6</td>\n",
              "      <td>0.0</td>\n",
              "      <td>20485.0</td>\n",
              "      <td>8180.0</td>\n",
              "    </tr>\n",
              "    <tr>\n",
              "      <th>1</th>\n",
              "      <td>13200000.0</td>\n",
              "      <td>109.0</td>\n",
              "      <td>4</td>\n",
              "      <td>3.15</td>\n",
              "      <td>5.0</td>\n",
              "      <td>72.0</td>\n",
              "      <td>2</td>\n",
              "      <td>0.0</td>\n",
              "      <td>0.0</td>\n",
              "      <td>0.0</td>\n",
              "      <td>12.2</td>\n",
              "      <td>0.0</td>\n",
              "      <td>42683.0</td>\n",
              "      <td>8643.0</td>\n",
              "    </tr>\n",
              "    <tr>\n",
              "      <th>2</th>\n",
              "      <td>7000000.0</td>\n",
              "      <td>74.5</td>\n",
              "      <td>3</td>\n",
              "      <td>2.58</td>\n",
              "      <td>10.0</td>\n",
              "      <td>49.0</td>\n",
              "      <td>9</td>\n",
              "      <td>0.0</td>\n",
              "      <td>0.0</td>\n",
              "      <td>0.0</td>\n",
              "      <td>10.8</td>\n",
              "      <td>0.0</td>\n",
              "      <td>14078.0</td>\n",
              "      <td>16670.0</td>\n",
              "    </tr>\n",
              "    <tr>\n",
              "      <th>3</th>\n",
              "      <td>3200000.0</td>\n",
              "      <td>37.4</td>\n",
              "      <td>1</td>\n",
              "      <td>2.50</td>\n",
              "      <td>9.0</td>\n",
              "      <td>20.0</td>\n",
              "      <td>4</td>\n",
              "      <td>0.0</td>\n",
              "      <td>0.0</td>\n",
              "      <td>0.0</td>\n",
              "      <td>6.2</td>\n",
              "      <td>2.0</td>\n",
              "      <td>17792.0</td>\n",
              "      <td>17699.0</td>\n",
              "    </tr>\n",
              "    <tr>\n",
              "      <th>4</th>\n",
              "      <td>6650000.0</td>\n",
              "      <td>64.9</td>\n",
              "      <td>3</td>\n",
              "      <td>2.65</td>\n",
              "      <td>12.0</td>\n",
              "      <td>41.9</td>\n",
              "      <td>11</td>\n",
              "      <td>0.0</td>\n",
              "      <td>0.0</td>\n",
              "      <td>0.0</td>\n",
              "      <td>10.4</td>\n",
              "      <td>0.0</td>\n",
              "      <td>14767.0</td>\n",
              "      <td>10573.0</td>\n",
              "    </tr>\n",
              "  </tbody>\n",
              "</table>\n",
              "</div>"
            ],
            "text/plain": [
              "   last_price  total_area  rooms  ceiling_height  floors_total  living_area  \\\n",
              "0   5400000.0        59.0      2            2.87           4.0         31.5   \n",
              "1  13200000.0       109.0      4            3.15           5.0         72.0   \n",
              "2   7000000.0        74.5      3            2.58          10.0         49.0   \n",
              "3   3200000.0        37.4      1            2.50           9.0         20.0   \n",
              "4   6650000.0        64.9      3            2.65          12.0         41.9   \n",
              "\n",
              "   floor  is_apartment  studio  open_plan  kitchen_area  balcony  \\\n",
              "0      2           0.0     0.0        0.0           6.6      0.0   \n",
              "1      2           0.0     0.0        0.0          12.2      0.0   \n",
              "2      9           0.0     0.0        0.0          10.8      0.0   \n",
              "3      4           0.0     0.0        0.0           6.2      2.0   \n",
              "4     11           0.0     0.0        0.0          10.4      0.0   \n",
              "\n",
              "   airports_nearest  cityCenters_nearest  \n",
              "0           20485.0               8180.0  \n",
              "1           42683.0               8643.0  \n",
              "2           14078.0              16670.0  \n",
              "3           17792.0              17699.0  \n",
              "4           14767.0              10573.0  "
            ]
          },
          "execution_count": 3,
          "metadata": {},
          "output_type": "execute_result"
        }
      ],
      "source": [
        "data.head()"
      ]
    },
    {
      "cell_type": "markdown",
      "metadata": {
        "id": "N8-kh43DTHG0"
      },
      "source": [
        "## Step 2. Define Parameters"
      ]
    },
    {
      "cell_type": "code",
      "execution_count": null,
      "metadata": {
        "id": "4gEcQR0FTHG1"
      },
      "outputs": [],
      "source": [
        "N_THREADS = 4 # threads number for lightgbm and linear models\n",
        "N_FOLDS = 5 # folds number for AutoML\n",
        "RANDOM_STATE = 42 # fixed random state for various reasons\n",
        "TEST_SIZE = 0.2 # Test size for metric check\n",
        "TIMEOUT = 3600 # Time in seconds for automl run\n",
        "TARGET_NAME = 'last_price' # Name for target column "
      ]
    },
    {
      "cell_type": "markdown",
      "metadata": {
        "id": "jty1PvaLTHG1"
      },
      "source": [
        "## Step 3. Fix torch number of threads and numpy seed"
      ]
    },
    {
      "cell_type": "code",
      "execution_count": null,
      "metadata": {
        "id": "O5NoCSS1THG2"
      },
      "outputs": [],
      "source": [
        "np.random.seed(RANDOM_STATE)\n",
        "torch.set_num_threads(N_THREADS)"
      ]
    },
    {
      "cell_type": "markdown",
      "metadata": {
        "id": "wT6nV9faTHG2"
      },
      "source": [
        "## Step 4. Data load"
      ]
    },
    {
      "cell_type": "code",
      "execution_count": null,
      "metadata": {
        "id": "RkRPpeQoTHG3",
        "outputId": "01b1293f-67bf-4d19-9255-3e5d8f151107"
      },
      "outputs": [
        {
          "name": "stdout",
          "output_type": "stream",
          "text": [
            "Wall time: 1e+03 µs\n"
          ]
        },
        {
          "data": {
            "text/html": [
              "<div>\n",
              "<style scoped>\n",
              "    .dataframe tbody tr th:only-of-type {\n",
              "        vertical-align: middle;\n",
              "    }\n",
              "\n",
              "    .dataframe tbody tr th {\n",
              "        vertical-align: top;\n",
              "    }\n",
              "\n",
              "    .dataframe thead th {\n",
              "        text-align: right;\n",
              "    }\n",
              "</style>\n",
              "<table border=\"1\" class=\"dataframe\">\n",
              "  <thead>\n",
              "    <tr style=\"text-align: right;\">\n",
              "      <th></th>\n",
              "      <th>last_price</th>\n",
              "      <th>total_area</th>\n",
              "      <th>rooms</th>\n",
              "      <th>ceiling_height</th>\n",
              "      <th>floors_total</th>\n",
              "      <th>living_area</th>\n",
              "      <th>floor</th>\n",
              "      <th>is_apartment</th>\n",
              "      <th>studio</th>\n",
              "      <th>open_plan</th>\n",
              "      <th>kitchen_area</th>\n",
              "      <th>balcony</th>\n",
              "      <th>airports_nearest</th>\n",
              "      <th>cityCenters_nearest</th>\n",
              "    </tr>\n",
              "  </thead>\n",
              "  <tbody>\n",
              "    <tr>\n",
              "      <th>1201</th>\n",
              "      <td>3730000.0</td>\n",
              "      <td>36.2</td>\n",
              "      <td>1</td>\n",
              "      <td>2.60</td>\n",
              "      <td>12.0</td>\n",
              "      <td>21.4</td>\n",
              "      <td>12</td>\n",
              "      <td>0.0</td>\n",
              "      <td>0.0</td>\n",
              "      <td>0.0</td>\n",
              "      <td>7.3</td>\n",
              "      <td>0.0</td>\n",
              "      <td>43692.0</td>\n",
              "      <td>10473.0</td>\n",
              "    </tr>\n",
              "    <tr>\n",
              "      <th>1202</th>\n",
              "      <td>10950000.0</td>\n",
              "      <td>101.3</td>\n",
              "      <td>3</td>\n",
              "      <td>3.15</td>\n",
              "      <td>5.0</td>\n",
              "      <td>61.6</td>\n",
              "      <td>5</td>\n",
              "      <td>0.0</td>\n",
              "      <td>0.0</td>\n",
              "      <td>0.0</td>\n",
              "      <td>34.7</td>\n",
              "      <td>0.0</td>\n",
              "      <td>16431.0</td>\n",
              "      <td>6511.0</td>\n",
              "    </tr>\n",
              "    <tr>\n",
              "      <th>1203</th>\n",
              "      <td>36800000.0</td>\n",
              "      <td>152.2</td>\n",
              "      <td>3</td>\n",
              "      <td>3.30</td>\n",
              "      <td>5.0</td>\n",
              "      <td>53.9</td>\n",
              "      <td>5</td>\n",
              "      <td>0.0</td>\n",
              "      <td>0.0</td>\n",
              "      <td>0.0</td>\n",
              "      <td>43.4</td>\n",
              "      <td>1.0</td>\n",
              "      <td>36779.0</td>\n",
              "      <td>14931.0</td>\n",
              "    </tr>\n",
              "    <tr>\n",
              "      <th>1204</th>\n",
              "      <td>4800000.0</td>\n",
              "      <td>35.7</td>\n",
              "      <td>1</td>\n",
              "      <td>2.70</td>\n",
              "      <td>19.0</td>\n",
              "      <td>15.1</td>\n",
              "      <td>8</td>\n",
              "      <td>0.0</td>\n",
              "      <td>0.0</td>\n",
              "      <td>0.0</td>\n",
              "      <td>9.3</td>\n",
              "      <td>0.0</td>\n",
              "      <td>16501.0</td>\n",
              "      <td>10163.0</td>\n",
              "    </tr>\n",
              "    <tr>\n",
              "      <th>1205</th>\n",
              "      <td>3699000.0</td>\n",
              "      <td>45.0</td>\n",
              "      <td>2</td>\n",
              "      <td>2.55</td>\n",
              "      <td>9.0</td>\n",
              "      <td>23.9</td>\n",
              "      <td>3</td>\n",
              "      <td>0.0</td>\n",
              "      <td>0.0</td>\n",
              "      <td>0.0</td>\n",
              "      <td>6.0</td>\n",
              "      <td>2.0</td>\n",
              "      <td>14852.0</td>\n",
              "      <td>16447.0</td>\n",
              "    </tr>\n",
              "  </tbody>\n",
              "</table>\n",
              "</div>"
            ],
            "text/plain": [
              "      last_price  total_area  rooms  ceiling_height  floors_total  \\\n",
              "1201   3730000.0        36.2      1            2.60          12.0   \n",
              "1202  10950000.0       101.3      3            3.15           5.0   \n",
              "1203  36800000.0       152.2      3            3.30           5.0   \n",
              "1204   4800000.0        35.7      1            2.70          19.0   \n",
              "1205   3699000.0        45.0      2            2.55           9.0   \n",
              "\n",
              "      living_area  floor  is_apartment  studio  open_plan  kitchen_area  \\\n",
              "1201         21.4     12           0.0     0.0        0.0           7.3   \n",
              "1202         61.6      5           0.0     0.0        0.0          34.7   \n",
              "1203         53.9      5           0.0     0.0        0.0          43.4   \n",
              "1204         15.1      8           0.0     0.0        0.0           9.3   \n",
              "1205         23.9      3           0.0     0.0        0.0           6.0   \n",
              "\n",
              "      balcony  airports_nearest  cityCenters_nearest  \n",
              "1201      0.0           43692.0              10473.0  \n",
              "1202      0.0           16431.0               6511.0  \n",
              "1203      1.0           36779.0              14931.0  \n",
              "1204      0.0           16501.0              10163.0  \n",
              "1205      2.0           14852.0              16447.0  "
            ]
          },
          "execution_count": 6,
          "metadata": {},
          "output_type": "execute_result"
        }
      ],
      "source": [
        "%%time\n",
        "train_data = data.loc[1201: 6494, :]\n",
        "train_data.head()"
      ]
    },
    {
      "cell_type": "code",
      "execution_count": null,
      "metadata": {
        "id": "gsU6ZJP3THG3",
        "outputId": "ef4f2a96-f3ff-4987-e1f1-b4b1abb371f8"
      },
      "outputs": [
        {
          "data": {
            "text/html": [
              "<div>\n",
              "<style scoped>\n",
              "    .dataframe tbody tr th:only-of-type {\n",
              "        vertical-align: middle;\n",
              "    }\n",
              "\n",
              "    .dataframe tbody tr th {\n",
              "        vertical-align: top;\n",
              "    }\n",
              "\n",
              "    .dataframe thead th {\n",
              "        text-align: right;\n",
              "    }\n",
              "</style>\n",
              "<table border=\"1\" class=\"dataframe\">\n",
              "  <thead>\n",
              "    <tr style=\"text-align: right;\">\n",
              "      <th></th>\n",
              "      <th>total_area</th>\n",
              "      <th>rooms</th>\n",
              "      <th>ceiling_height</th>\n",
              "      <th>floors_total</th>\n",
              "      <th>living_area</th>\n",
              "      <th>floor</th>\n",
              "      <th>is_apartment</th>\n",
              "      <th>studio</th>\n",
              "      <th>open_plan</th>\n",
              "      <th>kitchen_area</th>\n",
              "      <th>balcony</th>\n",
              "      <th>airports_nearest</th>\n",
              "      <th>cityCenters_nearest</th>\n",
              "    </tr>\n",
              "  </thead>\n",
              "  <tbody>\n",
              "    <tr>\n",
              "      <th>0</th>\n",
              "      <td>59.0</td>\n",
              "      <td>2</td>\n",
              "      <td>2.87</td>\n",
              "      <td>4.0</td>\n",
              "      <td>31.5</td>\n",
              "      <td>2</td>\n",
              "      <td>0.0</td>\n",
              "      <td>0.0</td>\n",
              "      <td>0.0</td>\n",
              "      <td>6.6</td>\n",
              "      <td>0.0</td>\n",
              "      <td>20485.0</td>\n",
              "      <td>8180.0</td>\n",
              "    </tr>\n",
              "    <tr>\n",
              "      <th>1</th>\n",
              "      <td>109.0</td>\n",
              "      <td>4</td>\n",
              "      <td>3.15</td>\n",
              "      <td>5.0</td>\n",
              "      <td>72.0</td>\n",
              "      <td>2</td>\n",
              "      <td>0.0</td>\n",
              "      <td>0.0</td>\n",
              "      <td>0.0</td>\n",
              "      <td>12.2</td>\n",
              "      <td>0.0</td>\n",
              "      <td>42683.0</td>\n",
              "      <td>8643.0</td>\n",
              "    </tr>\n",
              "    <tr>\n",
              "      <th>2</th>\n",
              "      <td>74.5</td>\n",
              "      <td>3</td>\n",
              "      <td>2.58</td>\n",
              "      <td>10.0</td>\n",
              "      <td>49.0</td>\n",
              "      <td>9</td>\n",
              "      <td>0.0</td>\n",
              "      <td>0.0</td>\n",
              "      <td>0.0</td>\n",
              "      <td>10.8</td>\n",
              "      <td>0.0</td>\n",
              "      <td>14078.0</td>\n",
              "      <td>16670.0</td>\n",
              "    </tr>\n",
              "    <tr>\n",
              "      <th>3</th>\n",
              "      <td>37.4</td>\n",
              "      <td>1</td>\n",
              "      <td>2.50</td>\n",
              "      <td>9.0</td>\n",
              "      <td>20.0</td>\n",
              "      <td>4</td>\n",
              "      <td>0.0</td>\n",
              "      <td>0.0</td>\n",
              "      <td>0.0</td>\n",
              "      <td>6.2</td>\n",
              "      <td>2.0</td>\n",
              "      <td>17792.0</td>\n",
              "      <td>17699.0</td>\n",
              "    </tr>\n",
              "    <tr>\n",
              "      <th>4</th>\n",
              "      <td>64.9</td>\n",
              "      <td>3</td>\n",
              "      <td>2.65</td>\n",
              "      <td>12.0</td>\n",
              "      <td>41.9</td>\n",
              "      <td>11</td>\n",
              "      <td>0.0</td>\n",
              "      <td>0.0</td>\n",
              "      <td>0.0</td>\n",
              "      <td>10.4</td>\n",
              "      <td>0.0</td>\n",
              "      <td>14767.0</td>\n",
              "      <td>10573.0</td>\n",
              "    </tr>\n",
              "  </tbody>\n",
              "</table>\n",
              "</div>"
            ],
            "text/plain": [
              "   total_area  rooms  ceiling_height  floors_total  living_area  floor  \\\n",
              "0        59.0      2            2.87           4.0         31.5      2   \n",
              "1       109.0      4            3.15           5.0         72.0      2   \n",
              "2        74.5      3            2.58          10.0         49.0      9   \n",
              "3        37.4      1            2.50           9.0         20.0      4   \n",
              "4        64.9      3            2.65          12.0         41.9     11   \n",
              "\n",
              "   is_apartment  studio  open_plan  kitchen_area  balcony  airports_nearest  \\\n",
              "0           0.0     0.0        0.0           6.6      0.0           20485.0   \n",
              "1           0.0     0.0        0.0          12.2      0.0           42683.0   \n",
              "2           0.0     0.0        0.0          10.8      0.0           14078.0   \n",
              "3           0.0     0.0        0.0           6.2      2.0           17792.0   \n",
              "4           0.0     0.0        0.0          10.4      0.0           14767.0   \n",
              "\n",
              "   cityCenters_nearest  \n",
              "0               8180.0  \n",
              "1               8643.0  \n",
              "2              16670.0  \n",
              "3              17699.0  \n",
              "4              10573.0  "
            ]
          },
          "execution_count": 7,
          "metadata": {},
          "output_type": "execute_result"
        }
      ],
      "source": [
        "features = data.loc[0: 1200, :]\n",
        "test_data = features.drop(['last_price'], axis=1)  # извлекаем целевой признак в целевую переменную\n",
        "test_data.head()"
      ]
    },
    {
      "cell_type": "code",
      "execution_count": null,
      "metadata": {
        "id": "eeYd23OATHG3",
        "outputId": "a86c1631-8451-45e2-db90-29ab0f23a6a1"
      },
      "outputs": [
        {
          "data": {
            "text/plain": [
              "0     5400000.0\n",
              "1    13200000.0\n",
              "2     7000000.0\n",
              "3     3200000.0\n",
              "4     6650000.0\n",
              "Name: last_price, dtype: float64"
            ]
          },
          "execution_count": 8,
          "metadata": {},
          "output_type": "execute_result"
        }
      ],
      "source": [
        "target = data.loc[0: 1200, :]\n",
        "submission = target['last_price']  # создаем перменную target из значений целевого признаков\n",
        "submission.head()"
      ]
    },
    {
      "cell_type": "code",
      "execution_count": null,
      "metadata": {
        "id": "k6vTWZt7THG4",
        "outputId": "6da043a9-f7a8-4b21-8a8f-5555606c0b5b"
      },
      "outputs": [
        {
          "data": {
            "text/plain": [
              "((5294, 14), (1201, 13))"
            ]
          },
          "execution_count": 9,
          "metadata": {},
          "output_type": "execute_result"
        }
      ],
      "source": [
        "train_data.shape, test_data.shape"
      ]
    },
    {
      "cell_type": "code",
      "execution_count": null,
      "metadata": {
        "id": "77wCyQKDTHG4",
        "outputId": "4791a08f-2713-4ab8-e6f3-402be81a32e2"
      },
      "outputs": [
        {
          "data": {
            "text/plain": [
              "count    5.294000e+03\n",
              "mean     8.053649e+06\n",
              "std      1.191627e+07\n",
              "min      1.219000e+04\n",
              "25%      4.320000e+06\n",
              "50%      5.650000e+06\n",
              "75%      8.260000e+06\n",
              "max      4.200000e+08\n",
              "Name: last_price, dtype: float64"
            ]
          },
          "execution_count": 10,
          "metadata": {},
          "output_type": "execute_result"
        }
      ],
      "source": [
        "train_data[TARGET_NAME].describe()"
      ]
    },
    {
      "cell_type": "code",
      "execution_count": null,
      "metadata": {
        "id": "qIps0c8STHG5",
        "outputId": "89d11ee5-e50c-4210-f084-d1c3414d8189"
      },
      "outputs": [
        {
          "data": {
            "text/plain": [
              "<AxesSubplot:>"
            ]
          },
          "execution_count": 11,
          "metadata": {},
          "output_type": "execute_result"
        },
        {
          "data": {
            "image/png": "[encoded data removed]",
            "text/plain": [
              "<Figure size 1440x720 with 1 Axes>"
            ]
          },
          "metadata": {
            "needs_background": "light"
          },
          "output_type": "display_data"
        }
      ],
      "source": [
        "train_data[TARGET_NAME].hist(bins = 100  , figsize = (20, 10))"
      ]
    },
    {
      "cell_type": "code",
      "execution_count": null,
      "metadata": {
        "id": "4j0hB4zETHG5",
        "outputId": "f0f9a599-1d3b-4744-bd85-7e73e9035bde"
      },
      "outputs": [
        {
          "data": {
            "text/plain": [
              "<AxesSubplot:>"
            ]
          },
          "execution_count": 12,
          "metadata": {},
          "output_type": "execute_result"
        },
        {
          "data": {
            "image/png": "[encoded data removed]",
            "text/plain": [
              "<Figure size 1440x720 with 1 Axes>"
            ]
          },
          "metadata": {
            "needs_background": "light"
          },
          "output_type": "display_data"
        }
      ],
      "source": [
        "np.log(train_data[TARGET_NAME] + 1).hist(bins = 100, figsize = (20, 10))"
      ]
    },
    {
      "cell_type": "markdown",
      "metadata": {
        "id": "XILAGtsdTHG5"
      },
      "source": [
        "## Step 5. Add new features"
      ]
    },
    {
      "cell_type": "code",
      "execution_count": null,
      "metadata": {
        "id": "lcOZPNZ5THG6",
        "outputId": "3b1aee8e-c169-4aae-a7ae-37314c263360"
      },
      "outputs": [
        {
          "name": "stdout",
          "output_type": "stream",
          "text": [
            "(5294, 16) (1201, 16)\n"
          ]
        }
      ],
      "source": [
        "def create_extra_features(dt):\n",
        "    dt['FloorDiff'] = dt['floors_total'] - dt['floor']\n",
        "    dt['MeanRoomSize'] = dt['living_area'] / dt['rooms']\n",
        "\n",
        "#def create_gr_feats(data):\n",
        "#    for col in ['Walls', 'District', 'Okrug']:\n",
        "#        for n, f in [('mean', np.mean), ('min', np.nanmin), ('max', np.nanmax)]:\n",
        "#            data[n + '_size_by_' + col] = data.groupby(col)['Size'].transform(f)\n",
        "#    for col in ['Size', 'Room', 'Balcony', 'Floor', 'FloorsTotal',\n",
        "#               'Walls','Age','Lift', 'District', 'Okrug']:\n",
        "#        data[col + '_cnt'] = data[col].map(data[col].value_counts(dropna = False))\n",
        "\n",
        "create_extra_features(train_data)\n",
        "create_extra_features(test_data)\n",
        "\n",
        "all_df = pd.concat([train_data, test_data]).reset_index(drop = True)\n",
        "\n",
        "#create_gr_feats(all_df)\n",
        "train_data, test_data = all_df[:len(train_data)], all_df[len(train_data):]\n",
        "print(train_data.shape, test_data.shape)"
      ]
    },
    {
      "cell_type": "code",
      "execution_count": null,
      "metadata": {
        "id": "KV2mnB6oTHG6",
        "outputId": "b52e969b-924c-4b50-bec9-1f7e79528769"
      },
      "outputs": [
        {
          "data": {
            "text/html": [
              "<div>\n",
              "<style scoped>\n",
              "    .dataframe tbody tr th:only-of-type {\n",
              "        vertical-align: middle;\n",
              "    }\n",
              "\n",
              "    .dataframe tbody tr th {\n",
              "        vertical-align: top;\n",
              "    }\n",
              "\n",
              "    .dataframe thead th {\n",
              "        text-align: right;\n",
              "    }\n",
              "</style>\n",
              "<table border=\"1\" class=\"dataframe\">\n",
              "  <thead>\n",
              "    <tr style=\"text-align: right;\">\n",
              "      <th></th>\n",
              "      <th>last_price</th>\n",
              "      <th>total_area</th>\n",
              "      <th>rooms</th>\n",
              "      <th>ceiling_height</th>\n",
              "      <th>floors_total</th>\n",
              "      <th>living_area</th>\n",
              "      <th>floor</th>\n",
              "      <th>is_apartment</th>\n",
              "      <th>studio</th>\n",
              "      <th>open_plan</th>\n",
              "      <th>kitchen_area</th>\n",
              "      <th>balcony</th>\n",
              "      <th>airports_nearest</th>\n",
              "      <th>cityCenters_nearest</th>\n",
              "      <th>FloorDiff</th>\n",
              "      <th>MeanRoomSize</th>\n",
              "    </tr>\n",
              "  </thead>\n",
              "  <tbody>\n",
              "    <tr>\n",
              "      <th>0</th>\n",
              "      <td>3730000.0</td>\n",
              "      <td>36.2</td>\n",
              "      <td>1</td>\n",
              "      <td>2.60</td>\n",
              "      <td>12.0</td>\n",
              "      <td>21.4</td>\n",
              "      <td>12</td>\n",
              "      <td>0.0</td>\n",
              "      <td>0.0</td>\n",
              "      <td>0.0</td>\n",
              "      <td>7.3</td>\n",
              "      <td>0.0</td>\n",
              "      <td>43692.0</td>\n",
              "      <td>10473.0</td>\n",
              "      <td>0.0</td>\n",
              "      <td>21.400000</td>\n",
              "    </tr>\n",
              "    <tr>\n",
              "      <th>1</th>\n",
              "      <td>10950000.0</td>\n",
              "      <td>101.3</td>\n",
              "      <td>3</td>\n",
              "      <td>3.15</td>\n",
              "      <td>5.0</td>\n",
              "      <td>61.6</td>\n",
              "      <td>5</td>\n",
              "      <td>0.0</td>\n",
              "      <td>0.0</td>\n",
              "      <td>0.0</td>\n",
              "      <td>34.7</td>\n",
              "      <td>0.0</td>\n",
              "      <td>16431.0</td>\n",
              "      <td>6511.0</td>\n",
              "      <td>0.0</td>\n",
              "      <td>20.533333</td>\n",
              "    </tr>\n",
              "    <tr>\n",
              "      <th>2</th>\n",
              "      <td>36800000.0</td>\n",
              "      <td>152.2</td>\n",
              "      <td>3</td>\n",
              "      <td>3.30</td>\n",
              "      <td>5.0</td>\n",
              "      <td>53.9</td>\n",
              "      <td>5</td>\n",
              "      <td>0.0</td>\n",
              "      <td>0.0</td>\n",
              "      <td>0.0</td>\n",
              "      <td>43.4</td>\n",
              "      <td>1.0</td>\n",
              "      <td>36779.0</td>\n",
              "      <td>14931.0</td>\n",
              "      <td>0.0</td>\n",
              "      <td>17.966667</td>\n",
              "    </tr>\n",
              "    <tr>\n",
              "      <th>3</th>\n",
              "      <td>4800000.0</td>\n",
              "      <td>35.7</td>\n",
              "      <td>1</td>\n",
              "      <td>2.70</td>\n",
              "      <td>19.0</td>\n",
              "      <td>15.1</td>\n",
              "      <td>8</td>\n",
              "      <td>0.0</td>\n",
              "      <td>0.0</td>\n",
              "      <td>0.0</td>\n",
              "      <td>9.3</td>\n",
              "      <td>0.0</td>\n",
              "      <td>16501.0</td>\n",
              "      <td>10163.0</td>\n",
              "      <td>11.0</td>\n",
              "      <td>15.100000</td>\n",
              "    </tr>\n",
              "    <tr>\n",
              "      <th>4</th>\n",
              "      <td>3699000.0</td>\n",
              "      <td>45.0</td>\n",
              "      <td>2</td>\n",
              "      <td>2.55</td>\n",
              "      <td>9.0</td>\n",
              "      <td>23.9</td>\n",
              "      <td>3</td>\n",
              "      <td>0.0</td>\n",
              "      <td>0.0</td>\n",
              "      <td>0.0</td>\n",
              "      <td>6.0</td>\n",
              "      <td>2.0</td>\n",
              "      <td>14852.0</td>\n",
              "      <td>16447.0</td>\n",
              "      <td>6.0</td>\n",
              "      <td>11.950000</td>\n",
              "    </tr>\n",
              "    <tr>\n",
              "      <th>...</th>\n",
              "      <td>...</td>\n",
              "      <td>...</td>\n",
              "      <td>...</td>\n",
              "      <td>...</td>\n",
              "      <td>...</td>\n",
              "      <td>...</td>\n",
              "      <td>...</td>\n",
              "      <td>...</td>\n",
              "      <td>...</td>\n",
              "      <td>...</td>\n",
              "      <td>...</td>\n",
              "      <td>...</td>\n",
              "      <td>...</td>\n",
              "      <td>...</td>\n",
              "      <td>...</td>\n",
              "      <td>...</td>\n",
              "    </tr>\n",
              "    <tr>\n",
              "      <th>5289</th>\n",
              "      <td>5000000.0</td>\n",
              "      <td>40.1</td>\n",
              "      <td>1</td>\n",
              "      <td>2.65</td>\n",
              "      <td>10.0</td>\n",
              "      <td>20.1</td>\n",
              "      <td>6</td>\n",
              "      <td>0.0</td>\n",
              "      <td>0.0</td>\n",
              "      <td>0.0</td>\n",
              "      <td>10.8</td>\n",
              "      <td>1.0</td>\n",
              "      <td>26495.0</td>\n",
              "      <td>14198.0</td>\n",
              "      <td>4.0</td>\n",
              "      <td>20.100000</td>\n",
              "    </tr>\n",
              "    <tr>\n",
              "      <th>5290</th>\n",
              "      <td>15350000.0</td>\n",
              "      <td>158.5</td>\n",
              "      <td>7</td>\n",
              "      <td>2.95</td>\n",
              "      <td>7.0</td>\n",
              "      <td>57.4</td>\n",
              "      <td>7</td>\n",
              "      <td>0.0</td>\n",
              "      <td>0.0</td>\n",
              "      <td>0.0</td>\n",
              "      <td>12.4</td>\n",
              "      <td>1.0</td>\n",
              "      <td>23546.0</td>\n",
              "      <td>3088.0</td>\n",
              "      <td>0.0</td>\n",
              "      <td>8.200000</td>\n",
              "    </tr>\n",
              "    <tr>\n",
              "      <th>5291</th>\n",
              "      <td>6850000.0</td>\n",
              "      <td>62.1</td>\n",
              "      <td>2</td>\n",
              "      <td>2.75</td>\n",
              "      <td>20.0</td>\n",
              "      <td>31.0</td>\n",
              "      <td>6</td>\n",
              "      <td>0.0</td>\n",
              "      <td>0.0</td>\n",
              "      <td>0.0</td>\n",
              "      <td>13.9</td>\n",
              "      <td>2.0</td>\n",
              "      <td>34506.0</td>\n",
              "      <td>14375.0</td>\n",
              "      <td>14.0</td>\n",
              "      <td>15.500000</td>\n",
              "    </tr>\n",
              "    <tr>\n",
              "      <th>5292</th>\n",
              "      <td>5650000.0</td>\n",
              "      <td>66.0</td>\n",
              "      <td>3</td>\n",
              "      <td>2.50</td>\n",
              "      <td>12.0</td>\n",
              "      <td>42.2</td>\n",
              "      <td>6</td>\n",
              "      <td>0.0</td>\n",
              "      <td>0.0</td>\n",
              "      <td>0.0</td>\n",
              "      <td>10.5</td>\n",
              "      <td>0.0</td>\n",
              "      <td>12892.0</td>\n",
              "      <td>11225.0</td>\n",
              "      <td>6.0</td>\n",
              "      <td>14.066667</td>\n",
              "    </tr>\n",
              "    <tr>\n",
              "      <th>5293</th>\n",
              "      <td>4500000.0</td>\n",
              "      <td>48.0</td>\n",
              "      <td>1</td>\n",
              "      <td>2.70</td>\n",
              "      <td>9.0</td>\n",
              "      <td>20.0</td>\n",
              "      <td>9</td>\n",
              "      <td>0.0</td>\n",
              "      <td>0.0</td>\n",
              "      <td>0.0</td>\n",
              "      <td>13.0</td>\n",
              "      <td>2.0</td>\n",
              "      <td>33641.0</td>\n",
              "      <td>14027.0</td>\n",
              "      <td>0.0</td>\n",
              "      <td>20.000000</td>\n",
              "    </tr>\n",
              "  </tbody>\n",
              "</table>\n",
              "<p>5294 rows × 16 columns</p>\n",
              "</div>"
            ],
            "text/plain": [
              "      last_price  total_area  rooms  ceiling_height  floors_total  \\\n",
              "0      3730000.0        36.2      1            2.60          12.0   \n",
              "1     10950000.0       101.3      3            3.15           5.0   \n",
              "2     36800000.0       152.2      3            3.30           5.0   \n",
              "3      4800000.0        35.7      1            2.70          19.0   \n",
              "4      3699000.0        45.0      2            2.55           9.0   \n",
              "...          ...         ...    ...             ...           ...   \n",
              "5289   5000000.0        40.1      1            2.65          10.0   \n",
              "5290  15350000.0       158.5      7            2.95           7.0   \n",
              "5291   6850000.0        62.1      2            2.75          20.0   \n",
              "5292   5650000.0        66.0      3            2.50          12.0   \n",
              "5293   4500000.0        48.0      1            2.70           9.0   \n",
              "\n",
              "      living_area  floor  is_apartment  studio  open_plan  kitchen_area  \\\n",
              "0            21.4     12           0.0     0.0        0.0           7.3   \n",
              "1            61.6      5           0.0     0.0        0.0          34.7   \n",
              "2            53.9      5           0.0     0.0        0.0          43.4   \n",
              "3            15.1      8           0.0     0.0        0.0           9.3   \n",
              "4            23.9      3           0.0     0.0        0.0           6.0   \n",
              "...           ...    ...           ...     ...        ...           ...   \n",
              "5289         20.1      6           0.0     0.0        0.0          10.8   \n",
              "5290         57.4      7           0.0     0.0        0.0          12.4   \n",
              "5291         31.0      6           0.0     0.0        0.0          13.9   \n",
              "5292         42.2      6           0.0     0.0        0.0          10.5   \n",
              "5293         20.0      9           0.0     0.0        0.0          13.0   \n",
              "\n",
              "      balcony  airports_nearest  cityCenters_nearest  FloorDiff  MeanRoomSize  \n",
              "0         0.0           43692.0              10473.0        0.0     21.400000  \n",
              "1         0.0           16431.0               6511.0        0.0     20.533333  \n",
              "2         1.0           36779.0              14931.0        0.0     17.966667  \n",
              "3         0.0           16501.0              10163.0       11.0     15.100000  \n",
              "4         2.0           14852.0              16447.0        6.0     11.950000  \n",
              "...       ...               ...                  ...        ...           ...  \n",
              "5289      1.0           26495.0              14198.0        4.0     20.100000  \n",
              "5290      1.0           23546.0               3088.0        0.0      8.200000  \n",
              "5291      2.0           34506.0              14375.0       14.0     15.500000  \n",
              "5292      0.0           12892.0              11225.0        6.0     14.066667  \n",
              "5293      2.0           33641.0              14027.0        0.0     20.000000  \n",
              "\n",
              "[5294 rows x 16 columns]"
            ]
          },
          "execution_count": 14,
          "metadata": {},
          "output_type": "execute_result"
        }
      ],
      "source": [
        "train_data"
      ]
    },
    {
      "cell_type": "markdown",
      "metadata": {
        "id": "bRFgGQHfTHG6"
      },
      "source": [
        "## ========= AutoML preset usage ========="
      ]
    },
    {
      "cell_type": "markdown",
      "metadata": {
        "id": "yZGt1DzWTHG7"
      },
      "source": [
        "## Step 1. Create Task"
      ]
    },
    {
      "cell_type": "code",
      "execution_count": null,
      "metadata": {
        "id": "ySx0-BVoTHG7",
        "outputId": "64bad08a-4b13-4d29-ce6c-2259cc195478"
      },
      "outputs": [
        {
          "name": "stdout",
          "output_type": "stream",
          "text": [
            "Wall time: 999 µs\n"
          ]
        }
      ],
      "source": [
        "%%time\n",
        "\n",
        "task = Task('reg', loss = 'rmsle', metric = 'rmsle')"
      ]
    },
    {
      "cell_type": "markdown",
      "metadata": {
        "id": "H6zwhxuiTHG7"
      },
      "source": [
        "## Step 2. Setup columns roles"
      ]
    },
    {
      "cell_type": "code",
      "execution_count": null,
      "metadata": {
        "id": "UExQQUIHTHG7",
        "outputId": "f87660ea-8fc8-4747-967c-dc9a7c7ff88d"
      },
      "outputs": [
        {
          "name": "stdout",
          "output_type": "stream",
          "text": [
            "Wall time: 0 ns\n"
          ]
        }
      ],
      "source": [
        "%%time\n",
        "\n",
        "roles = {\n",
        "    'target': TARGET_NAME,\n",
        "    'drop': ['Id'],\n",
        "}"
      ]
    },
    {
      "cell_type": "markdown",
      "metadata": {
        "id": "5sjLJJwpTHG8"
      },
      "source": [
        "Let's set the powerful preset for tabular AutoML with iterations and informative training log"
      ]
    },
    {
      "cell_type": "code",
      "execution_count": null,
      "metadata": {
        "id": "YGPeFjCRTHG8",
        "outputId": "6df80975-2a38-4bcb-804b-de33a7458be0"
      },
      "outputs": [
        {
          "name": "stdout",
          "output_type": "stream",
          "text": [
            "==============================\n",
            "START RANDOM_STATE = 2000\n",
            "==============================\n",
            "Check scores...\n",
            "Holdout score: 0.22604906086026252\n",
            "Holdout score full: 0.22604906086026252\n",
            "Difference: 0.0\n",
            "==============================\n",
            "START RANDOM_STATE = 2001\n",
            "==============================\n",
            "Check scores...\n",
            "Holdout score: 0.2279356038860417\n",
            "Holdout score full: 0.22514971139813286\n",
            "Difference: -0.0027858924879088365\n",
            "==============================\n",
            "START RANDOM_STATE = 2002\n",
            "==============================\n",
            "Check scores...\n",
            "Holdout score: 0.22840156481172244\n",
            "Holdout score full: 0.2251248372685865\n",
            "Difference: -0.003276727543135932\n",
            "==============================\n",
            "START RANDOM_STATE = 2003\n",
            "==============================\n",
            "Check scores...\n",
            "Holdout score: 0.22818520668706227\n",
            "Holdout score full: 0.22507709912483723\n",
            "Difference: -0.003108107562225043\n",
            "==============================\n",
            "START RANDOM_STATE = 2004\n",
            "==============================\n",
            "Check scores...\n",
            "Holdout score: 0.22713952301771656\n",
            "Holdout score full: 0.22490318523506125\n",
            "Difference: -0.0022363377826553066\n",
            "==============================\n",
            "START RANDOM_STATE = 2005\n",
            "==============================\n",
            "Check scores...\n",
            "Holdout score: 0.22583850242656492\n",
            "Holdout score full: 0.2244764160523174\n",
            "Difference: -0.0013620863742475064\n",
            "==============================\n",
            "START RANDOM_STATE = 2006\n",
            "==============================\n",
            "Check scores...\n",
            "Holdout score: 0.22650486183163868\n",
            "Holdout score full: 0.2242643961018839\n",
            "Difference: -0.0022404657297547814\n",
            "Wall time: 36min 4s\n"
          ]
        }
      ],
      "source": [
        "%%time\n",
        "\n",
        "cnt_trained = 0\n",
        "results = []\n",
        "rs_list = list(range(2000, 2007))\n",
        "for it, rs in enumerate(rs_list):\n",
        "    print('=' * 30)\n",
        "    print('START RANDOM_STATE = {}'.format(rs))\n",
        "    print('=' * 30)\n",
        "    \n",
        "    # Train AutoML\n",
        "    automl = TabularAutoML(task = task, \n",
        "                       timeout = TIMEOUT,\n",
        "                       cpu_limit = N_THREADS,\n",
        "                       reader_params = {'n_jobs': N_THREADS, 'cv': N_FOLDS, 'random_state': rs})\n",
        "    oof_pred = automl.fit_predict(train_data, roles = roles)\n",
        "    \n",
        "    # Predict on test\n",
        "    test_pred = automl.predict(test_data)\n",
        "    cnt_trained += 1\n",
        "    \n",
        "    # Save predictions\n",
        "    if it == 0:\n",
        "        oof_pred_full = oof_pred.data[:, 0].copy()\n",
        "        test_pred_full = test_pred.data[:, 0].copy()\n",
        "    else:\n",
        "        oof_pred_full += oof_pred.data[:, 0]\n",
        "        test_pred_full += test_pred.data[:, 0]\n",
        "    \n",
        "    # Check scores for current predict and aggregated one\n",
        "    rmsle_usual = mean_squared_log_error(train_data[TARGET_NAME].values, oof_pred.data[:, 0]) ** 0.5\n",
        "    rmsle_full = mean_squared_log_error(train_data[TARGET_NAME].values, oof_pred_full / cnt_trained) ** 0.5\n",
        "    results.append((rmsle_usual, rmsle_full, rmsle_full - rmsle_usual))\n",
        "    \n",
        "    print('Check scores...')\n",
        "    print('Holdout score: {}'.format(rmsle_usual))\n",
        "    print('Holdout score full: {}'.format(rmsle_full))\n",
        "    print('Difference: {}'.format(rmsle_full - rmsle_usual))"
      ]
    },
    {
      "cell_type": "markdown",
      "metadata": {
        "id": "0cXDPiINTHG8"
      },
      "source": [
        "Let's make the submission file"
      ]
    },
    {
      "cell_type": "code",
      "execution_count": null,
      "metadata": {
        "id": "mUNAQK69THG8"
      },
      "outputs": [],
      "source": [
        "test_pred_full_0 = test_pred_full.copy() / cnt_trained"
      ]
    },
    {
      "cell_type": "code",
      "execution_count": null,
      "metadata": {
        "id": "J1qZAWGOTHG9",
        "outputId": "197f1772-7041-4567-c326-89522ac16495"
      },
      "outputs": [
        {
          "data": {
            "text/plain": [
              "['saved_preds.pkl']"
            ]
          },
          "execution_count": 19,
          "metadata": {},
          "output_type": "execute_result"
        }
      ],
      "source": [
        "import joblib\n",
        "joblib.dump(test_pred_full_0, 'saved_preds.pkl')"
      ]
    },
    {
      "cell_type": "code",
      "execution_count": null,
      "metadata": {
        "id": "Yq9Rk-dGTHG9"
      },
      "outputs": [],
      "source": [
        "submission[TARGET_NAME] = test_pred_full_0\n",
        "submission.to_csv('LightAutoML_multistart_before_pseudo_v.0.2.11.csv', index = False)"
      ]
    },
    {
      "cell_type": "code",
      "execution_count": null,
      "metadata": {
        "id": "aTo9RwfoTHG9",
        "outputId": "ddb98c02-ce18-4561-bec0-217cf936a6ac"
      },
      "outputs": [
        {
          "data": {
            "text/plain": [
              "count        1202.0\n",
              "unique        435.0\n",
              "top       4500000.0\n",
              "freq           18.0\n",
              "Name: last_price, dtype: float64"
            ]
          },
          "execution_count": 21,
          "metadata": {},
          "output_type": "execute_result"
        }
      ],
      "source": [
        "submission.describe()"
      ]
    },
    {
      "cell_type": "markdown",
      "metadata": {
        "id": "snXoYRHJTHG9"
      },
      "source": [
        "LightAutoML can show feature importance"
      ]
    },
    {
      "cell_type": "code",
      "execution_count": null,
      "metadata": {
        "id": "9vAtD0XATHG9",
        "outputId": "7d4e9bb1-1ca6-4e31-c7f2-629cb691e2ed"
      },
      "outputs": [
        {
          "name": "stdout",
          "output_type": "stream",
          "text": [
            "Wall time: 41 ms\n"
          ]
        },
        {
          "data": {
            "text/plain": [
              "<AxesSubplot:xlabel='Feature'>"
            ]
          },
          "execution_count": 22,
          "metadata": {},
          "output_type": "execute_result"
        },
        {
          "data": {
            "image/png": "[encoded data removed]",
            "text/plain": [
              "<Figure size 1440x720 with 1 Axes>"
            ]
          },
          "metadata": {
            "needs_background": "light"
          },
          "output_type": "display_data"
        }
      ],
      "source": [
        "%%time\n",
        "\n",
        "# Fast feature importances calculation - logged for better visual (size is dominated in normal scale)\n",
        "fast_fi = automl.get_feature_scores('fast')\n",
        "fast_fi.set_index('Feature')['Importance'].plot.bar(figsize = (20, 10), grid = True)"
      ]
    },
    {
      "cell_type": "markdown",
      "metadata": {
        "id": "KP_4Uep5THG-"
      },
      "source": [
        "## Step 4. Graphical check"
      ]
    },
    {
      "cell_type": "code",
      "execution_count": null,
      "metadata": {
        "id": "eG8IdixITHG-",
        "outputId": "d3baf798-c6a1-4eb6-a000-e9ebe44df8c6"
      },
      "outputs": [
        {
          "data": {
            "image/png": "[encoded data removed]",
            "text/plain": [
              "<Figure size 1440x720 with 1 Axes>"
            ]
          },
          "metadata": {
            "needs_background": "light"
          },
          "output_type": "display_data"
        }
      ],
      "source": [
        "plt.figure(figsize = (20, 10))\n",
        "plt.plot(range(1, cnt_trained + 1), [res[0] for res in results], color = 'b', linewidth = 2, label = 'Usual LightAutoML model RMSLE')\n",
        "plt.plot(range(1, cnt_trained + 1), [res[1] for res in results], color = 'g', linewidth = 2, label = 'RMSLE for averaged LightAutoMLs')\n",
        "plt.grid()\n",
        "plt.legend()\n",
        "plt.title('LightAutoML RMSLE vs. averaged LightAutoMLs composition RMSLE')\n",
        "plt.xlabel('Iteration number')\n",
        "plt.ylabel('RMSLE')\n",
        "plt.show()"
      ]
    },
    {
      "cell_type": "code",
      "execution_count": null,
      "metadata": {
        "id": "XGaFCYlDTHG-",
        "outputId": "1cfa6cc7-1bd8-4a71-8396-fad561f8a7ee"
      },
      "outputs": [
        {
          "data": {
            "text/plain": [
              "0.22715061764585845"
            ]
          },
          "execution_count": 24,
          "metadata": {},
          "output_type": "execute_result"
        }
      ],
      "source": [
        "mean_rmsle = np.mean([res[0] for res in results])\n",
        "mean_rmsle"
      ]
    },
    {
      "cell_type": "code",
      "execution_count": null,
      "metadata": {
        "id": "ULXn_uwiTHG-"
      },
      "outputs": [],
      "source": [
        "differences = np.array([res[1] - mean_rmsle for res in results])"
      ]
    },
    {
      "cell_type": "code",
      "execution_count": null,
      "metadata": {
        "id": "PKIX8BqCTHG_",
        "outputId": "a3bf289c-2b51-4130-8b6f-1c6daba32d40"
      },
      "outputs": [
        {
          "data": {
            "image/png": "[encoded data removed]",
            "text/plain": [
              "<Figure size 1440x720 with 1 Axes>"
            ]
          },
          "metadata": {
            "needs_background": "light"
          },
          "output_type": "display_data"
        }
      ],
      "source": [
        "plt.figure(figsize = (20, 10))\n",
        "plt.plot(range(1, cnt_trained + 1), differences, color = 'g', linewidth = 2, label = 'Difference')\n",
        "plt.plot(range(1, cnt_trained + 1), [np.mean(differences[0:i+1]) for i in range(len(differences))], 'b-.', linewidth = 2, label = 'Cumulative mean difference')\n",
        "plt.plot(range(1, cnt_trained + 1), [0.0 for res in results], 'r--', linewidth = 2, label = 'Zero line')\n",
        "plt.grid()\n",
        "plt.legend()\n",
        "plt.title('Difference between mean LightAutoML RMSLE and averaged LightAutoMLs composition RMSLE at each iteration')\n",
        "plt.xlabel('Iteration number')\n",
        "plt.ylabel('RMSLE difference')\n",
        "plt.show()"
      ]
    },
    {
      "cell_type": "markdown",
      "metadata": {
        "id": "7Z4ZjuRhTHG_"
      },
      "source": [
        "## Test"
      ]
    },
    {
      "cell_type": "code",
      "execution_count": null,
      "metadata": {
        "id": "cHRoi4D2THG_",
        "outputId": "ab2d8496-716f-42a8-e30d-d49959eac983"
      },
      "outputs": [
        {
          "data": {
            "text/html": [
              "<div>\n",
              "<style scoped>\n",
              "    .dataframe tbody tr th:only-of-type {\n",
              "        vertical-align: middle;\n",
              "    }\n",
              "\n",
              "    .dataframe tbody tr th {\n",
              "        vertical-align: top;\n",
              "    }\n",
              "\n",
              "    .dataframe thead th {\n",
              "        text-align: right;\n",
              "    }\n",
              "</style>\n",
              "<table border=\"1\" class=\"dataframe\">\n",
              "  <thead>\n",
              "    <tr style=\"text-align: right;\">\n",
              "      <th></th>\n",
              "      <th>last_price</th>\n",
              "      <th>total_area</th>\n",
              "      <th>rooms</th>\n",
              "      <th>ceiling_height</th>\n",
              "      <th>floors_total</th>\n",
              "      <th>living_area</th>\n",
              "      <th>floor</th>\n",
              "      <th>is_apartment</th>\n",
              "      <th>studio</th>\n",
              "      <th>open_plan</th>\n",
              "      <th>kitchen_area</th>\n",
              "      <th>balcony</th>\n",
              "      <th>airports_nearest</th>\n",
              "      <th>cityCenters_nearest</th>\n",
              "      <th>FloorDiff</th>\n",
              "      <th>MeanRoomSize</th>\n",
              "    </tr>\n",
              "  </thead>\n",
              "  <tbody>\n",
              "    <tr>\n",
              "      <th>0</th>\n",
              "      <td>5400000.0</td>\n",
              "      <td>59.0</td>\n",
              "      <td>2</td>\n",
              "      <td>2.87</td>\n",
              "      <td>4.0</td>\n",
              "      <td>31.5</td>\n",
              "      <td>2</td>\n",
              "      <td>0.0</td>\n",
              "      <td>0.0</td>\n",
              "      <td>0.0</td>\n",
              "      <td>6.6</td>\n",
              "      <td>0.0</td>\n",
              "      <td>20485.0</td>\n",
              "      <td>8180.0</td>\n",
              "      <td>2.0</td>\n",
              "      <td>15.75</td>\n",
              "    </tr>\n",
              "    <tr>\n",
              "      <th>1</th>\n",
              "      <td>13200000.0</td>\n",
              "      <td>109.0</td>\n",
              "      <td>4</td>\n",
              "      <td>3.15</td>\n",
              "      <td>5.0</td>\n",
              "      <td>72.0</td>\n",
              "      <td>2</td>\n",
              "      <td>0.0</td>\n",
              "      <td>0.0</td>\n",
              "      <td>0.0</td>\n",
              "      <td>12.2</td>\n",
              "      <td>0.0</td>\n",
              "      <td>42683.0</td>\n",
              "      <td>8643.0</td>\n",
              "      <td>3.0</td>\n",
              "      <td>18.00</td>\n",
              "    </tr>\n",
              "  </tbody>\n",
              "</table>\n",
              "</div>"
            ],
            "text/plain": [
              "   last_price  total_area  rooms  ceiling_height  floors_total  living_area  \\\n",
              "0   5400000.0        59.0      2            2.87           4.0         31.5   \n",
              "1  13200000.0       109.0      4            3.15           5.0         72.0   \n",
              "\n",
              "   floor  is_apartment  studio  open_plan  kitchen_area  balcony  \\\n",
              "0      2           0.0     0.0        0.0           6.6      0.0   \n",
              "1      2           0.0     0.0        0.0          12.2      0.0   \n",
              "\n",
              "   airports_nearest  cityCenters_nearest  FloorDiff  MeanRoomSize  \n",
              "0           20485.0               8180.0        2.0         15.75  \n",
              "1           42683.0               8643.0        3.0         18.00  "
            ]
          },
          "execution_count": 55,
          "metadata": {},
          "output_type": "execute_result"
        }
      ],
      "source": [
        "def create_extra_features(dt):\n",
        "    dt['FloorDiff'] = dt['floors_total'] - dt['floor']\n",
        "    dt['MeanRoomSize'] = dt['living_area'] / dt['rooms']\n",
        "\n",
        "create_extra_features(data)\n",
        "data.head(2) # Посмотрим стоимость 2-х квартир и проверим как наша новая модель предскажет конечную стоимость и какова будет погрешность"
      ]
    },
    {
      "cell_type": "code",
      "execution_count": null,
      "metadata": {
        "id": "VtQOkMVqTHG_"
      },
      "outputs": [],
      "source": [
        "new_features3 = pd.DataFrame(\n",
        "    [['NaN', 59.0, 2, 2.87, 4.0, 31.5, 2, 0.0, 0.0, 0.0, 6.6, 0.0, 20485.0, 8180.0, 2.0, 15.75],\n",
        "     ['NaN', 109.0, 4, 3.15, 5.0, 72.0, 2, 0.0, 0.0, 0.0, 12.2, 0.0, 42683.0, 8643.0, 3.0, 18.00 ]],\n",
        "    columns=data.columns)  #Создаем для теста датафрейм "
      ]
    },
    {
      "cell_type": "code",
      "execution_count": null,
      "metadata": {
        "id": "dpQnKkp6THG_",
        "outputId": "beb9b691-6b77-42cf-d8b5-f95317764af7"
      },
      "outputs": [
        {
          "data": {
            "text/plain": [
              "'Результаты AutoML'"
            ]
          },
          "metadata": {},
          "output_type": "display_data"
        },
        {
          "data": {
            "text/plain": [
              "array([[ 5576424.],\n",
              "       [10933290.]], dtype=float32)"
            ]
          },
          "metadata": {},
          "output_type": "display_data"
        }
      ],
      "source": [
        "# Проверяем что предскажет наша модель\n",
        "new_features33 = new_features3\n",
        "\n",
        "result_my_model = automl.predict(new_features33)\n",
        "\n",
        "display('Результаты AutoML', result_my_model)\n"
      ]
    },
    {
      "cell_type": "markdown",
      "metadata": {
        "id": "3CYDDAZUTHHA"
      },
      "source": [
        "## Итого: модель AutoML предсказала мне стоимость 5576424 , которая отличается от первоначальной 5400000\n",
        "в части второй квартиры, все очень плохо 13200000. против 10933290"
      ]
    },
    {
      "cell_type": "code",
      "execution_count": null,
      "metadata": {
        "id": "2c1G3m5mTHHA"
      },
      "outputs": [],
      "source": [
        ""
      ]
    }
  ],
  "metadata": {
    "ExecuteTimeLog": [
      {
        "duration": 897,
        "start_time": "2022-01-14T12:45:54.174Z"
      },
      {
        "duration": 4,
        "start_time": "2022-01-14T12:45:59.854Z"
      },
      {
        "duration": 23,
        "start_time": "2022-01-14T12:46:48.536Z"
      },
      {
        "duration": 14,
        "start_time": "2022-01-14T12:48:55.384Z"
      },
      {
        "duration": 46,
        "start_time": "2022-01-14T13:58:29.873Z"
      },
      {
        "duration": 23,
        "start_time": "2022-01-14T13:59:35.867Z"
      },
      {
        "duration": 1051,
        "start_time": "2022-01-14T23:14:17.019Z"
      },
      {
        "duration": 7,
        "start_time": "2022-01-14T23:14:23.806Z"
      },
      {
        "duration": 8,
        "start_time": "2022-01-14T23:15:06.986Z"
      },
      {
        "duration": 4,
        "start_time": "2022-01-14T23:15:37.455Z"
      },
      {
        "duration": 4,
        "start_time": "2022-01-14T23:16:09.607Z"
      },
      {
        "duration": 43,
        "start_time": "2022-01-14T23:31:51.239Z"
      },
      {
        "duration": 384,
        "start_time": "2022-01-14T23:31:59.830Z"
      },
      {
        "duration": 17,
        "start_time": "2022-01-14T23:32:30.034Z"
      },
      {
        "duration": 272,
        "start_time": "2022-01-14T23:32:33.058Z"
      },
      {
        "duration": 7,
        "start_time": "2022-01-14T23:33:16.973Z"
      },
      {
        "duration": 275,
        "start_time": "2022-01-14T23:33:22.444Z"
      },
      {
        "duration": 19,
        "start_time": "2022-01-14T23:33:28.475Z"
      },
      {
        "duration": 9,
        "start_time": "2022-01-14T23:33:39.602Z"
      },
      {
        "duration": 20,
        "start_time": "2022-01-14T23:33:48.586Z"
      },
      {
        "duration": 266,
        "start_time": "2022-01-14T23:34:53.845Z"
      },
      {
        "duration": 1511,
        "start_time": "2022-01-14T23:35:16.424Z"
      },
      {
        "duration": 34,
        "start_time": "2022-01-14T23:44:12.010Z"
      },
      {
        "duration": 15,
        "start_time": "2022-01-14T23:44:12.046Z"
      },
      {
        "duration": 29,
        "start_time": "2022-01-14T23:44:12.070Z"
      },
      {
        "duration": 16,
        "start_time": "2022-01-14T23:44:12.102Z"
      },
      {
        "duration": 11,
        "start_time": "2022-01-14T23:44:12.119Z"
      },
      {
        "duration": 552,
        "start_time": "2022-01-14T23:44:12.133Z"
      },
      {
        "duration": -870,
        "start_time": "2022-01-14T23:44:13.558Z"
      },
      {
        "duration": -873,
        "start_time": "2022-01-14T23:44:13.562Z"
      },
      {
        "duration": -872,
        "start_time": "2022-01-14T23:44:13.563Z"
      },
      {
        "duration": -872,
        "start_time": "2022-01-14T23:44:13.564Z"
      },
      {
        "duration": -871,
        "start_time": "2022-01-14T23:44:13.565Z"
      },
      {
        "duration": 927,
        "start_time": "2022-01-14T23:49:28.059Z"
      },
      {
        "duration": 10,
        "start_time": "2022-01-14T23:49:28.988Z"
      },
      {
        "duration": 36,
        "start_time": "2022-01-14T23:49:29.002Z"
      },
      {
        "duration": 14,
        "start_time": "2022-01-14T23:49:29.040Z"
      },
      {
        "duration": 5,
        "start_time": "2022-01-14T23:49:29.056Z"
      },
      {
        "duration": 8,
        "start_time": "2022-01-14T23:49:29.062Z"
      },
      {
        "duration": 27,
        "start_time": "2022-01-14T23:49:29.071Z"
      },
      {
        "duration": 5,
        "start_time": "2022-01-14T23:49:29.101Z"
      },
      {
        "duration": 384,
        "start_time": "2022-01-14T23:49:29.110Z"
      },
      {
        "duration": -872,
        "start_time": "2022-01-14T23:49:30.368Z"
      },
      {
        "duration": -870,
        "start_time": "2022-01-14T23:49:30.368Z"
      },
      {
        "duration": -879,
        "start_time": "2022-01-14T23:49:30.378Z"
      },
      {
        "duration": 30,
        "start_time": "2022-01-14T23:49:44.213Z"
      },
      {
        "duration": 304,
        "start_time": "2022-01-14T23:50:26.409Z"
      },
      {
        "duration": 9,
        "start_time": "2022-01-15T00:04:20.903Z"
      },
      {
        "duration": 4,
        "start_time": "2022-01-15T00:04:24.553Z"
      },
      {
        "duration": 2,
        "start_time": "2022-01-15T00:04:35.830Z"
      },
      {
        "duration": 37,
        "start_time": "2022-01-15T00:05:06.389Z"
      },
      {
        "duration": 42,
        "start_time": "2022-01-15T00:05:31.151Z"
      },
      {
        "duration": 60,
        "start_time": "2022-01-15T00:05:53.158Z"
      },
      {
        "duration": 9,
        "start_time": "2022-01-15T00:11:22.025Z"
      },
      {
        "duration": 280,
        "start_time": "2022-01-15T00:11:23.764Z"
      },
      {
        "duration": 2,
        "start_time": "2022-01-15T00:17:57.029Z"
      },
      {
        "duration": 19,
        "start_time": "2022-01-15T00:17:58.301Z"
      },
      {
        "duration": 177,
        "start_time": "2022-01-15T00:20:58.329Z"
      },
      {
        "duration": 36,
        "start_time": "2022-01-15T00:21:11.777Z"
      },
      {
        "duration": 10,
        "start_time": "2022-01-15T00:40:36.500Z"
      },
      {
        "duration": 6,
        "start_time": "2022-01-15T00:42:04.285Z"
      },
      {
        "duration": 4,
        "start_time": "2022-01-15T00:42:10.522Z"
      },
      {
        "duration": 4,
        "start_time": "2022-01-15T00:42:15.629Z"
      },
      {
        "duration": 6,
        "start_time": "2022-01-15T00:51:33.789Z"
      },
      {
        "duration": 7,
        "start_time": "2022-01-15T00:52:28.469Z"
      },
      {
        "duration": 3,
        "start_time": "2022-01-15T00:52:30.421Z"
      },
      {
        "duration": 8,
        "start_time": "2022-01-15T00:55:06.815Z"
      },
      {
        "duration": 8,
        "start_time": "2022-01-15T00:56:04.152Z"
      },
      {
        "duration": 296,
        "start_time": "2022-01-15T00:56:10.641Z"
      },
      {
        "duration": 4,
        "start_time": "2022-01-15T00:56:21.400Z"
      },
      {
        "duration": 48,
        "start_time": "2022-01-15T00:56:25.828Z"
      },
      {
        "duration": 7,
        "start_time": "2022-01-15T00:56:55.970Z"
      },
      {
        "duration": 3,
        "start_time": "2022-01-15T00:57:46.694Z"
      },
      {
        "duration": 231,
        "start_time": "2022-01-15T00:57:49.179Z"
      },
      {
        "duration": 8,
        "start_time": "2022-01-15T00:57:55.478Z"
      },
      {
        "duration": 3,
        "start_time": "2022-01-15T00:58:08.866Z"
      },
      {
        "duration": 27,
        "start_time": "2022-01-15T00:58:08.870Z"
      },
      {
        "duration": 6,
        "start_time": "2022-01-15T00:58:13.570Z"
      },
      {
        "duration": 55,
        "start_time": "2022-01-15T00:59:55.681Z"
      },
      {
        "duration": 229,
        "start_time": "2022-01-15T01:01:47.932Z"
      },
      {
        "duration": 33,
        "start_time": "2022-01-15T01:02:30.804Z"
      },
      {
        "duration": 287,
        "start_time": "2022-01-15T01:06:41.125Z"
      },
      {
        "duration": 52,
        "start_time": "2022-01-15T01:11:33.602Z"
      },
      {
        "duration": 25,
        "start_time": "2022-01-15T01:16:50.869Z"
      },
      {
        "duration": 232,
        "start_time": "2022-01-15T01:16:54.983Z"
      },
      {
        "duration": 11,
        "start_time": "2022-01-15T01:16:58.766Z"
      },
      {
        "duration": 3,
        "start_time": "2022-01-15T01:23:48.818Z"
      },
      {
        "duration": 9,
        "start_time": "2022-01-15T01:28:46.505Z"
      },
      {
        "duration": 5,
        "start_time": "2022-01-15T01:33:22.745Z"
      },
      {
        "duration": 262,
        "start_time": "2022-01-15T01:38:35.382Z"
      },
      {
        "duration": 6,
        "start_time": "2022-01-15T01:39:16.928Z"
      },
      {
        "duration": 6,
        "start_time": "2022-01-15T01:40:31.858Z"
      },
      {
        "duration": 6,
        "start_time": "2022-01-15T01:41:27.286Z"
      },
      {
        "duration": 6,
        "start_time": "2022-01-15T01:41:50.115Z"
      },
      {
        "duration": 884,
        "start_time": "2022-01-15T01:42:38.799Z"
      },
      {
        "duration": 11,
        "start_time": "2022-01-15T01:42:39.685Z"
      },
      {
        "duration": 30,
        "start_time": "2022-01-15T01:42:39.700Z"
      },
      {
        "duration": 16,
        "start_time": "2022-01-15T01:42:39.731Z"
      },
      {
        "duration": 6,
        "start_time": "2022-01-15T01:42:39.749Z"
      },
      {
        "duration": 5,
        "start_time": "2022-01-15T01:42:39.756Z"
      },
      {
        "duration": 5,
        "start_time": "2022-01-15T01:42:39.763Z"
      },
      {
        "duration": 3,
        "start_time": "2022-01-15T01:42:39.800Z"
      },
      {
        "duration": 379,
        "start_time": "2022-01-15T01:42:39.805Z"
      },
      {
        "duration": -832,
        "start_time": "2022-01-15T01:42:41.018Z"
      },
      {
        "duration": -833,
        "start_time": "2022-01-15T01:42:41.020Z"
      },
      {
        "duration": -833,
        "start_time": "2022-01-15T01:42:41.021Z"
      },
      {
        "duration": -834,
        "start_time": "2022-01-15T01:42:41.023Z"
      },
      {
        "duration": -840,
        "start_time": "2022-01-15T01:42:41.030Z"
      },
      {
        "duration": -841,
        "start_time": "2022-01-15T01:42:41.032Z"
      },
      {
        "duration": -841,
        "start_time": "2022-01-15T01:42:41.033Z"
      },
      {
        "duration": -842,
        "start_time": "2022-01-15T01:42:41.034Z"
      },
      {
        "duration": -842,
        "start_time": "2022-01-15T01:42:41.035Z"
      },
      {
        "duration": -842,
        "start_time": "2022-01-15T01:42:41.036Z"
      },
      {
        "duration": -842,
        "start_time": "2022-01-15T01:42:41.037Z"
      },
      {
        "duration": 889,
        "start_time": "2022-01-15T01:43:43.379Z"
      },
      {
        "duration": 10,
        "start_time": "2022-01-15T01:43:44.270Z"
      },
      {
        "duration": 36,
        "start_time": "2022-01-15T01:43:44.282Z"
      },
      {
        "duration": 17,
        "start_time": "2022-01-15T01:43:44.319Z"
      },
      {
        "duration": 6,
        "start_time": "2022-01-15T01:43:44.338Z"
      },
      {
        "duration": 5,
        "start_time": "2022-01-15T01:43:44.346Z"
      },
      {
        "duration": 6,
        "start_time": "2022-01-15T01:43:44.352Z"
      },
      {
        "duration": 4,
        "start_time": "2022-01-15T01:43:44.359Z"
      },
      {
        "duration": 53,
        "start_time": "2022-01-15T01:43:44.366Z"
      },
      {
        "duration": 47,
        "start_time": "2022-01-15T01:43:44.420Z"
      },
      {
        "duration": 9,
        "start_time": "2022-01-15T01:43:44.469Z"
      },
      {
        "duration": 361,
        "start_time": "2022-01-15T01:43:44.499Z"
      },
      {
        "duration": -926,
        "start_time": "2022-01-15T01:43:45.788Z"
      },
      {
        "duration": -931,
        "start_time": "2022-01-15T01:43:45.794Z"
      },
      {
        "duration": -931,
        "start_time": "2022-01-15T01:43:45.795Z"
      },
      {
        "duration": -932,
        "start_time": "2022-01-15T01:43:45.797Z"
      },
      {
        "duration": -932,
        "start_time": "2022-01-15T01:43:45.798Z"
      },
      {
        "duration": -934,
        "start_time": "2022-01-15T01:43:45.801Z"
      },
      {
        "duration": -934,
        "start_time": "2022-01-15T01:43:45.802Z"
      },
      {
        "duration": 220,
        "start_time": "2022-01-15T01:45:28.320Z"
      },
      {
        "duration": 19,
        "start_time": "2022-01-15T01:45:40.491Z"
      },
      {
        "duration": 10,
        "start_time": "2022-01-15T01:45:40.511Z"
      },
      {
        "duration": 21,
        "start_time": "2022-01-15T01:45:40.523Z"
      },
      {
        "duration": 15,
        "start_time": "2022-01-15T01:45:40.546Z"
      },
      {
        "duration": 6,
        "start_time": "2022-01-15T01:45:40.562Z"
      },
      {
        "duration": 4,
        "start_time": "2022-01-15T01:45:40.569Z"
      },
      {
        "duration": 3,
        "start_time": "2022-01-15T01:45:40.598Z"
      },
      {
        "duration": 4,
        "start_time": "2022-01-15T01:45:40.603Z"
      },
      {
        "duration": 3,
        "start_time": "2022-01-15T01:45:40.610Z"
      },
      {
        "duration": 48,
        "start_time": "2022-01-15T01:45:40.615Z"
      },
      {
        "duration": 3,
        "start_time": "2022-01-15T01:45:40.665Z"
      },
      {
        "duration": 245,
        "start_time": "2022-01-15T01:45:40.669Z"
      },
      {
        "duration": 3,
        "start_time": "2022-01-15T01:45:40.915Z"
      },
      {
        "duration": 26,
        "start_time": "2022-01-15T01:45:40.919Z"
      },
      {
        "duration": 11,
        "start_time": "2022-01-15T01:45:40.946Z"
      },
      {
        "duration": 9,
        "start_time": "2022-01-15T01:45:40.958Z"
      },
      {
        "duration": 30,
        "start_time": "2022-01-15T01:45:40.969Z"
      },
      {
        "duration": 8,
        "start_time": "2022-01-15T01:45:41.001Z"
      },
      {
        "duration": 7,
        "start_time": "2022-01-15T01:45:41.010Z"
      },
      {
        "duration": 282,
        "start_time": "2022-01-15T02:00:25.966Z"
      },
      {
        "duration": 6,
        "start_time": "2022-01-15T02:02:16.084Z"
      },
      {
        "duration": 1057,
        "start_time": "2022-01-15T09:03:39.800Z"
      },
      {
        "duration": 7,
        "start_time": "2022-01-15T09:03:41.063Z"
      },
      {
        "duration": 29,
        "start_time": "2022-01-15T09:03:44.083Z"
      },
      {
        "duration": 15,
        "start_time": "2022-01-15T09:03:47.331Z"
      },
      {
        "duration": 7,
        "start_time": "2022-01-15T09:24:55.180Z"
      },
      {
        "duration": 5,
        "start_time": "2022-01-15T09:24:57.517Z"
      },
      {
        "duration": 5,
        "start_time": "2022-01-15T09:26:01.440Z"
      },
      {
        "duration": 6,
        "start_time": "2022-01-15T09:26:13.018Z"
      },
      {
        "duration": 4,
        "start_time": "2022-01-15T09:26:16.961Z"
      },
      {
        "duration": 28,
        "start_time": "2022-01-15T09:33:26.224Z"
      },
      {
        "duration": 58,
        "start_time": "2022-01-15T09:34:22.054Z"
      },
      {
        "duration": 10,
        "start_time": "2022-01-15T09:42:54.500Z"
      },
      {
        "duration": 229,
        "start_time": "2022-01-15T09:42:56.197Z"
      },
      {
        "duration": 225,
        "start_time": "2022-01-15T09:45:37.985Z"
      },
      {
        "duration": 248,
        "start_time": "2022-01-15T09:45:51.967Z"
      },
      {
        "duration": 2,
        "start_time": "2022-01-15T09:46:18.028Z"
      },
      {
        "duration": 3,
        "start_time": "2022-01-15T09:46:52.722Z"
      },
      {
        "duration": 26,
        "start_time": "2022-01-15T09:46:55.645Z"
      },
      {
        "duration": 13,
        "start_time": "2022-01-15T09:51:30.957Z"
      },
      {
        "duration": 2,
        "start_time": "2022-01-15T09:55:29.102Z"
      },
      {
        "duration": 5,
        "start_time": "2022-01-15T09:55:36.892Z"
      },
      {
        "duration": 3,
        "start_time": "2022-01-15T09:56:38.332Z"
      },
      {
        "duration": 6,
        "start_time": "2022-01-15T09:56:38.972Z"
      },
      {
        "duration": 9,
        "start_time": "2022-01-15T09:56:39.531Z"
      },
      {
        "duration": 1323,
        "start_time": "2022-01-15T11:01:21.204Z"
      },
      {
        "duration": 9,
        "start_time": "2022-01-15T11:01:22.530Z"
      },
      {
        "duration": 51,
        "start_time": "2022-01-15T11:01:22.542Z"
      },
      {
        "duration": 21,
        "start_time": "2022-01-15T11:01:23.196Z"
      },
      {
        "duration": 12,
        "start_time": "2022-01-15T11:02:34.004Z"
      },
      {
        "duration": 5,
        "start_time": "2022-01-15T11:02:34.672Z"
      },
      {
        "duration": 41,
        "start_time": "2022-01-15T11:07:49.138Z"
      },
      {
        "duration": 80,
        "start_time": "2022-01-15T11:07:50.689Z"
      },
      {
        "duration": 14,
        "start_time": "2022-01-15T11:08:25.314Z"
      },
      {
        "duration": 347,
        "start_time": "2022-01-15T11:08:26.298Z"
      },
      {
        "duration": 3,
        "start_time": "2022-01-15T11:08:51.667Z"
      },
      {
        "duration": 41,
        "start_time": "2022-01-15T11:08:52.128Z"
      },
      {
        "duration": 23,
        "start_time": "2022-01-15T11:09:51.324Z"
      },
      {
        "duration": 4,
        "start_time": "2022-01-15T11:11:05.657Z"
      },
      {
        "duration": 8,
        "start_time": "2022-01-15T11:11:06.147Z"
      },
      {
        "duration": 19,
        "start_time": "2022-01-15T11:11:06.321Z"
      },
      {
        "duration": 14,
        "start_time": "2022-01-15T11:11:06.665Z"
      },
      {
        "duration": 915,
        "start_time": "2022-01-15T18:25:13.670Z"
      },
      {
        "duration": 7,
        "start_time": "2022-01-15T18:25:15.013Z"
      },
      {
        "duration": 25,
        "start_time": "2022-01-15T18:25:16.778Z"
      },
      {
        "duration": 13,
        "start_time": "2022-01-15T18:25:18.270Z"
      },
      {
        "duration": 7,
        "start_time": "2022-01-15T18:25:24.743Z"
      },
      {
        "duration": 5,
        "start_time": "2022-01-15T18:25:25.423Z"
      },
      {
        "duration": 26,
        "start_time": "2022-01-15T18:25:29.704Z"
      },
      {
        "duration": 51,
        "start_time": "2022-01-15T18:25:30.902Z"
      },
      {
        "duration": 8,
        "start_time": "2022-01-15T18:25:33.981Z"
      },
      {
        "duration": 197,
        "start_time": "2022-01-15T18:25:34.548Z"
      },
      {
        "duration": 2,
        "start_time": "2022-01-15T18:25:37.658Z"
      },
      {
        "duration": 21,
        "start_time": "2022-01-15T18:25:38.117Z"
      },
      {
        "duration": 11,
        "start_time": "2022-01-15T18:25:41.428Z"
      },
      {
        "duration": 678,
        "start_time": "2022-01-15T18:25:44.876Z"
      },
      {
        "duration": 1222,
        "start_time": "2022-01-15T18:26:17.291Z"
      },
      {
        "duration": 3310,
        "start_time": "2022-01-15T18:34:00.939Z"
      },
      {
        "duration": 3151,
        "start_time": "2022-01-15T18:35:09.432Z"
      }
    ],
    "kernelspec": {
      "display_name": "Python 3 (ipykernel)",
      "language": "python",
      "name": "python3"
    },
    "language_info": {
      "codemirror_mode": {
        "name": "ipython",
        "version": 3
      },
      "file_extension": ".py",
      "mimetype": "text/x-python",
      "name": "python",
      "nbconvert_exporter": "python",
      "pygments_lexer": "ipython3",
      "version": "3.9.7"
    },
    "toc": {
      "base_numbering": 1,
      "nav_menu": {},
      "number_sections": true,
      "sideBar": true,
      "skip_h1_title": true,
      "title_cell": "Table of Contents",
      "title_sidebar": "Contents",
      "toc_cell": false,
      "toc_position": {},
      "toc_section_display": true,
      "toc_window_display": false
    },
    "colab": {
      "name": "AutoML SberBank.ipynb",
      "provenance": [],
      "include_colab_link": true
    }
  },
  "nbformat": 4,
  "nbformat_minor": 0
}