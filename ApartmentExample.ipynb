{
  "cells": [
    {
      "cell_type": "markdown",
      "metadata": {
        "id": "view-in-github",
        "colab_type": "text"
      },
      "source": [
        "<a href=\"https://colab.research.google.com/github/mihnin/mihnin/blob/master/ApartmentExample.ipynb\" target=\"_parent\"><img src=\"https://colab.research.google.com/assets/colab-badge.svg\" alt=\"Open In Colab\"/></a>"
      ]
    },
    {
      "cell_type": "markdown",
      "metadata": {
        "id": "kS9rTT4ski3F"
      },
      "source": [
        "# Описание проекта\n",
        "В вашем распоряжении данные сервиса Яндекс.Недвижимость — архив объявлений о продаже квартир в Санкт-Петербурге и соседних населённых пунктах. Нужно научиться определять рыночную стоимость объектов недвижимости с применением машинного обучения.\n"
      ]
    },
    {
      "cell_type": "code",
      "source": [
        "from google.colab import drive\n",
        "drive.mount('/content/drive')"
      ],
      "metadata": {
        "colab": {
          "base_uri": "https://localhost:8080/"
        },
        "id": "wqS6wTYFkkzA",
        "outputId": "7af72160-11a8-4e09-b8b9-0574615243b3"
      },
      "execution_count": null,
      "outputs": [
        {
          "output_type": "stream",
          "name": "stdout",
          "text": [
            "Mounted at /content/drive\n"
          ]
        }
      ]
    },
    {
      "cell_type": "markdown",
      "source": [
        ""
      ],
      "metadata": {
        "id": "0sRlZknJ4ZXw"
      }
    },
    {
      "cell_type": "markdown",
      "metadata": {
        "id": "gom2uCRqki3J"
      },
      "source": [
        "## Откроем и изучем наш датасет по недвижимости"
      ]
    },
    {
      "cell_type": "code",
      "execution_count": null,
      "metadata": {
        "colab": {
          "base_uri": "https://localhost:8080/"
        },
        "id": "Doz0xT_lki3K",
        "outputId": "8aac4c19-8112-44e9-8c9f-fc8c73de8c75"
      },
      "outputs": [
        {
          "output_type": "stream",
          "name": "stdout",
          "text": [
            "Requirement already satisfied: pandas in /usr/local/lib/python3.7/dist-packages (1.3.5)\n",
            "Requirement already satisfied: pytz>=2017.3 in /usr/local/lib/python3.7/dist-packages (from pandas) (2018.9)\n",
            "Requirement already satisfied: numpy>=1.17.3 in /usr/local/lib/python3.7/dist-packages (from pandas) (1.19.5)\n",
            "Requirement already satisfied: python-dateutil>=2.7.3 in /usr/local/lib/python3.7/dist-packages (from pandas) (2.8.2)\n",
            "Requirement already satisfied: six>=1.5 in /usr/local/lib/python3.7/dist-packages (from python-dateutil>=2.7.3->pandas) (1.15.0)\n"
          ]
        }
      ],
      "source": [
        "!pip install --upgrade pandas\n",
        "import pandas as pd # Подгружаем нашу библиотеку по работе с табличными данными\n",
        "from pathlib import Path\n",
        "# в переменную записываем путь к файлу с которым будем работать\n",
        "#file = Path.cwd() / 'data' / 'raw' / 'train_data.csv'\n",
        "file = '/content/drive/MyDrive/datasets/apartment_spb/train_data.csv'\n",
        "#data = pd.read_csv('c:/Temp/train_data.csv') #Загружаем данные из csv в переменную data\n",
        "data = pd.read_csv(file)\n"
      ]
    },
    {
      "cell_type": "code",
      "execution_count": null,
      "metadata": {
        "colab": {
          "base_uri": "https://localhost:8080/"
        },
        "id": "tfEkfNyWki3L",
        "outputId": "8ced8c28-b8ec-4645-c65e-699e455e5453"
      },
      "outputs": [
        {
          "output_type": "stream",
          "name": "stdout",
          "text": [
            "<class 'pandas.core.frame.DataFrame'>\n",
            "RangeIndex: 6495 entries, 0 to 6494\n",
            "Data columns (total 14 columns):\n",
            " #   Column               Non-Null Count  Dtype  \n",
            "---  ------               --------------  -----  \n",
            " 0   last_price           6495 non-null   float64\n",
            " 1   total_area           6495 non-null   float64\n",
            " 2   rooms                6495 non-null   int64  \n",
            " 3   ceiling_height       6495 non-null   float64\n",
            " 4   floors_total         6495 non-null   float64\n",
            " 5   living_area          6495 non-null   float64\n",
            " 6   floor                6495 non-null   int64  \n",
            " 7   is_apartment         6495 non-null   float64\n",
            " 8   studio               6495 non-null   float64\n",
            " 9   open_plan            6495 non-null   float64\n",
            " 10  kitchen_area         6495 non-null   float64\n",
            " 11  balcony              6495 non-null   float64\n",
            " 12  airports_nearest     6495 non-null   float64\n",
            " 13  cityCenters_nearest  6495 non-null   float64\n",
            "dtypes: float64(12), int64(2)\n",
            "memory usage: 710.5 KB\n"
          ]
        }
      ],
      "source": [
        "\n",
        "\n",
        "data.info() #Анализируме наш датасет на пропущенные значения, кол-во столбцов, строк, типы данных"
      ]
    },
    {
      "cell_type": "code",
      "execution_count": null,
      "metadata": {
        "colab": {
          "base_uri": "https://localhost:8080/",
          "height": 300
        },
        "id": "zKySnMx2ki3M",
        "outputId": "9a25b1bd-7baf-41c7-abac-f6dedfc6993a"
      },
      "outputs": [
        {
          "output_type": "execute_result",
          "data": {
            "text/html": [
              "\n",
              "  <div id=\"df-66b0aaf8-2c76-459c-8874-2cf636a83363\">\n",
              "    <div class=\"colab-df-container\">\n",
              "      <div>\n",
              "<style scoped>\n",
              "    .dataframe tbody tr th:only-of-type {\n",
              "        vertical-align: middle;\n",
              "    }\n",
              "\n",
              "    .dataframe tbody tr th {\n",
              "        vertical-align: top;\n",
              "    }\n",
              "\n",
              "    .dataframe thead th {\n",
              "        text-align: right;\n",
              "    }\n",
              "</style>\n",
              "<table border=\"1\" class=\"dataframe\">\n",
              "  <thead>\n",
              "    <tr style=\"text-align: right;\">\n",
              "      <th></th>\n",
              "      <th>last_price</th>\n",
              "      <th>total_area</th>\n",
              "      <th>rooms</th>\n",
              "      <th>ceiling_height</th>\n",
              "      <th>floors_total</th>\n",
              "      <th>living_area</th>\n",
              "      <th>floor</th>\n",
              "      <th>is_apartment</th>\n",
              "      <th>studio</th>\n",
              "      <th>open_plan</th>\n",
              "      <th>kitchen_area</th>\n",
              "      <th>balcony</th>\n",
              "      <th>airports_nearest</th>\n",
              "      <th>cityCenters_nearest</th>\n",
              "    </tr>\n",
              "  </thead>\n",
              "  <tbody>\n",
              "    <tr>\n",
              "      <th>count</th>\n",
              "      <td>6.495000e+03</td>\n",
              "      <td>6495.000000</td>\n",
              "      <td>6495.000000</td>\n",
              "      <td>6495.000000</td>\n",
              "      <td>6495.000000</td>\n",
              "      <td>6495.000000</td>\n",
              "      <td>6495.000000</td>\n",
              "      <td>6495.000000</td>\n",
              "      <td>6495.0</td>\n",
              "      <td>6495.0</td>\n",
              "      <td>6495.000000</td>\n",
              "      <td>6495.000000</td>\n",
              "      <td>6495.000000</td>\n",
              "      <td>6495.000000</td>\n",
              "    </tr>\n",
              "    <tr>\n",
              "      <th>mean</th>\n",
              "      <td>8.050284e+06</td>\n",
              "      <td>65.588209</td>\n",
              "      <td>2.239569</td>\n",
              "      <td>2.780531</td>\n",
              "      <td>10.855427</td>\n",
              "      <td>38.019549</td>\n",
              "      <td>5.922248</td>\n",
              "      <td>0.002309</td>\n",
              "      <td>0.0</td>\n",
              "      <td>0.0</td>\n",
              "      <td>11.057521</td>\n",
              "      <td>0.651578</td>\n",
              "      <td>27996.794303</td>\n",
              "      <td>11460.108699</td>\n",
              "    </tr>\n",
              "    <tr>\n",
              "      <th>std</th>\n",
              "      <td>1.175864e+07</td>\n",
              "      <td>39.630351</td>\n",
              "      <td>1.163771</td>\n",
              "      <td>0.687026</td>\n",
              "      <td>6.053443</td>\n",
              "      <td>25.101307</td>\n",
              "      <td>4.635593</td>\n",
              "      <td>0.048005</td>\n",
              "      <td>0.0</td>\n",
              "      <td>0.0</td>\n",
              "      <td>6.575596</td>\n",
              "      <td>1.009999</td>\n",
              "      <td>11581.935337</td>\n",
              "      <td>4776.693612</td>\n",
              "    </tr>\n",
              "    <tr>\n",
              "      <th>min</th>\n",
              "      <td>1.219000e+04</td>\n",
              "      <td>17.000000</td>\n",
              "      <td>1.000000</td>\n",
              "      <td>1.000000</td>\n",
              "      <td>1.000000</td>\n",
              "      <td>3.000000</td>\n",
              "      <td>1.000000</td>\n",
              "      <td>0.000000</td>\n",
              "      <td>0.0</td>\n",
              "      <td>0.0</td>\n",
              "      <td>2.000000</td>\n",
              "      <td>0.000000</td>\n",
              "      <td>0.000000</td>\n",
              "      <td>181.000000</td>\n",
              "    </tr>\n",
              "    <tr>\n",
              "      <th>25%</th>\n",
              "      <td>4.350000e+06</td>\n",
              "      <td>42.500000</td>\n",
              "      <td>1.000000</td>\n",
              "      <td>2.550000</td>\n",
              "      <td>5.000000</td>\n",
              "      <td>20.000000</td>\n",
              "      <td>3.000000</td>\n",
              "      <td>0.000000</td>\n",
              "      <td>0.0</td>\n",
              "      <td>0.0</td>\n",
              "      <td>7.100000</td>\n",
              "      <td>0.000000</td>\n",
              "      <td>18446.000000</td>\n",
              "      <td>8180.000000</td>\n",
              "    </tr>\n",
              "    <tr>\n",
              "      <th>50%</th>\n",
              "      <td>5.650000e+06</td>\n",
              "      <td>56.200000</td>\n",
              "      <td>2.000000</td>\n",
              "      <td>2.700000</td>\n",
              "      <td>9.000000</td>\n",
              "      <td>32.000000</td>\n",
              "      <td>5.000000</td>\n",
              "      <td>0.000000</td>\n",
              "      <td>0.0</td>\n",
              "      <td>0.0</td>\n",
              "      <td>9.500000</td>\n",
              "      <td>0.000000</td>\n",
              "      <td>26402.000000</td>\n",
              "      <td>12255.000000</td>\n",
              "    </tr>\n",
              "    <tr>\n",
              "      <th>75%</th>\n",
              "      <td>8.300000e+06</td>\n",
              "      <td>75.150000</td>\n",
              "      <td>3.000000</td>\n",
              "      <td>2.850000</td>\n",
              "      <td>15.500000</td>\n",
              "      <td>45.500000</td>\n",
              "      <td>8.000000</td>\n",
              "      <td>0.000000</td>\n",
              "      <td>0.0</td>\n",
              "      <td>0.0</td>\n",
              "      <td>12.300000</td>\n",
              "      <td>1.000000</td>\n",
              "      <td>36421.000000</td>\n",
              "      <td>14881.000000</td>\n",
              "    </tr>\n",
              "    <tr>\n",
              "      <th>max</th>\n",
              "      <td>4.200000e+08</td>\n",
              "      <td>900.000000</td>\n",
              "      <td>16.000000</td>\n",
              "      <td>27.500000</td>\n",
              "      <td>52.000000</td>\n",
              "      <td>409.700000</td>\n",
              "      <td>29.000000</td>\n",
              "      <td>1.000000</td>\n",
              "      <td>0.0</td>\n",
              "      <td>0.0</td>\n",
              "      <td>112.000000</td>\n",
              "      <td>5.000000</td>\n",
              "      <td>54723.000000</td>\n",
              "      <td>29343.000000</td>\n",
              "    </tr>\n",
              "  </tbody>\n",
              "</table>\n",
              "</div>\n",
              "      <button class=\"colab-df-convert\" onclick=\"convertToInteractive('df-66b0aaf8-2c76-459c-8874-2cf636a83363')\"\n",
              "              title=\"Convert this dataframe to an interactive table.\"\n",
              "              style=\"display:none;\">\n",
              "        \n",
              "  <svg xmlns=\"http://www.w3.org/2000/svg\" height=\"24px\"viewBox=\"0 0 24 24\"\n",
              "       width=\"24px\">\n",
              "    <path d=\"M0 0h24v24H0V0z\" fill=\"none\"/>\n",
              "    <path d=\"M18.56 5.44l.94 2.06.94-2.06 2.06-.94-2.06-.94-.94-2.06-.94 2.06-2.06.94zm-11 1L8.5 8.5l.94-2.06 2.06-.94-2.06-.94L8.5 2.5l-.94 2.06-2.06.94zm10 10l.94 2.06.94-2.06 2.06-.94-2.06-.94-.94-2.06-.94 2.06-2.06.94z\"/><path d=\"M17.41 7.96l-1.37-1.37c-.4-.4-.92-.59-1.43-.59-.52 0-1.04.2-1.43.59L10.3 9.45l-7.72 7.72c-.78.78-.78 2.05 0 2.83L4 21.41c.39.39.9.59 1.41.59.51 0 1.02-.2 1.41-.59l7.78-7.78 2.81-2.81c.8-.78.8-2.07 0-2.86zM5.41 20L4 18.59l7.72-7.72 1.47 1.35L5.41 20z\"/>\n",
              "  </svg>\n",
              "      </button>\n",
              "      \n",
              "  <style>\n",
              "    .colab-df-container {\n",
              "      display:flex;\n",
              "      flex-wrap:wrap;\n",
              "      gap: 12px;\n",
              "    }\n",
              "\n",
              "    .colab-df-convert {\n",
              "      background-color: #E8F0FE;\n",
              "      border: none;\n",
              "      border-radius: 50%;\n",
              "      cursor: pointer;\n",
              "      display: none;\n",
              "      fill: #1967D2;\n",
              "      height: 32px;\n",
              "      padding: 0 0 0 0;\n",
              "      width: 32px;\n",
              "    }\n",
              "\n",
              "    .colab-df-convert:hover {\n",
              "      background-color: #E2EBFA;\n",
              "      box-shadow: 0px 1px 2px rgba(60, 64, 67, 0.3), 0px 1px 3px 1px rgba(60, 64, 67, 0.15);\n",
              "      fill: #174EA6;\n",
              "    }\n",
              "\n",
              "    [theme=dark] .colab-df-convert {\n",
              "      background-color: #3B4455;\n",
              "      fill: #D2E3FC;\n",
              "    }\n",
              "\n",
              "    [theme=dark] .colab-df-convert:hover {\n",
              "      background-color: #434B5C;\n",
              "      box-shadow: 0px 1px 3px 1px rgba(0, 0, 0, 0.15);\n",
              "      filter: drop-shadow(0px 1px 2px rgba(0, 0, 0, 0.3));\n",
              "      fill: #FFFFFF;\n",
              "    }\n",
              "  </style>\n",
              "\n",
              "      <script>\n",
              "        const buttonEl =\n",
              "          document.querySelector('#df-66b0aaf8-2c76-459c-8874-2cf636a83363 button.colab-df-convert');\n",
              "        buttonEl.style.display =\n",
              "          google.colab.kernel.accessAllowed ? 'block' : 'none';\n",
              "\n",
              "        async function convertToInteractive(key) {\n",
              "          const element = document.querySelector('#df-66b0aaf8-2c76-459c-8874-2cf636a83363');\n",
              "          const dataTable =\n",
              "            await google.colab.kernel.invokeFunction('convertToInteractive',\n",
              "                                                     [key], {});\n",
              "          if (!dataTable) return;\n",
              "\n",
              "          const docLinkHtml = 'Like what you see? Visit the ' +\n",
              "            '<a target=\"_blank\" href=https://colab.research.google.com/notebooks/data_table.ipynb>data table notebook</a>'\n",
              "            + ' to learn more about interactive tables.';\n",
              "          element.innerHTML = '';\n",
              "          dataTable['output_type'] = 'display_data';\n",
              "          await google.colab.output.renderOutput(dataTable, element);\n",
              "          const docLink = document.createElement('div');\n",
              "          docLink.innerHTML = docLinkHtml;\n",
              "          element.appendChild(docLink);\n",
              "        }\n",
              "      </script>\n",
              "    </div>\n",
              "  </div>\n",
              "  "
            ],
            "text/plain": [
              "         last_price   total_area  ...  airports_nearest  cityCenters_nearest\n",
              "count  6.495000e+03  6495.000000  ...       6495.000000          6495.000000\n",
              "mean   8.050284e+06    65.588209  ...      27996.794303         11460.108699\n",
              "std    1.175864e+07    39.630351  ...      11581.935337          4776.693612\n",
              "min    1.219000e+04    17.000000  ...          0.000000           181.000000\n",
              "25%    4.350000e+06    42.500000  ...      18446.000000          8180.000000\n",
              "50%    5.650000e+06    56.200000  ...      26402.000000         12255.000000\n",
              "75%    8.300000e+06    75.150000  ...      36421.000000         14881.000000\n",
              "max    4.200000e+08   900.000000  ...      54723.000000         29343.000000\n",
              "\n",
              "[8 rows x 14 columns]"
            ]
          },
          "metadata": {},
          "execution_count": 4
        }
      ],
      "source": [
        "data.describe() # Анализируем значения столбцов на аномальные значения (например отрицательные цены, кол-ва, площади или на слишком максимальные значения), чем меньше аномалий тем более точнее предсказания."
      ]
    },
    {
      "cell_type": "code",
      "execution_count": null,
      "metadata": {
        "id": "-rUW7Donki3N",
        "outputId": "c7c83ae1-8409-43fc-c3f8-95b24c6fd840",
        "colab": {
          "base_uri": "https://localhost:8080/",
          "height": 395
        }
      },
      "outputs": [
        {
          "output_type": "display_data",
          "data": {
            "text/html": [
              "\n",
              "  <div id=\"df-aacf33b1-7f4b-47b1-9a72-38a2d2ed4c4b\">\n",
              "    <div class=\"colab-df-container\">\n",
              "      <div>\n",
              "<style scoped>\n",
              "    .dataframe tbody tr th:only-of-type {\n",
              "        vertical-align: middle;\n",
              "    }\n",
              "\n",
              "    .dataframe tbody tr th {\n",
              "        vertical-align: top;\n",
              "    }\n",
              "\n",
              "    .dataframe thead th {\n",
              "        text-align: right;\n",
              "    }\n",
              "</style>\n",
              "<table border=\"1\" class=\"dataframe\">\n",
              "  <thead>\n",
              "    <tr style=\"text-align: right;\">\n",
              "      <th></th>\n",
              "      <th>last_price</th>\n",
              "      <th>total_area</th>\n",
              "      <th>rooms</th>\n",
              "      <th>ceiling_height</th>\n",
              "      <th>floors_total</th>\n",
              "      <th>living_area</th>\n",
              "      <th>floor</th>\n",
              "      <th>is_apartment</th>\n",
              "      <th>studio</th>\n",
              "      <th>open_plan</th>\n",
              "      <th>kitchen_area</th>\n",
              "      <th>balcony</th>\n",
              "      <th>airports_nearest</th>\n",
              "      <th>cityCenters_nearest</th>\n",
              "    </tr>\n",
              "  </thead>\n",
              "  <tbody>\n",
              "    <tr>\n",
              "      <th>0</th>\n",
              "      <td>5400000.0</td>\n",
              "      <td>59.0</td>\n",
              "      <td>2</td>\n",
              "      <td>2.87</td>\n",
              "      <td>4.0</td>\n",
              "      <td>31.5</td>\n",
              "      <td>2</td>\n",
              "      <td>0.0</td>\n",
              "      <td>0.0</td>\n",
              "      <td>0.0</td>\n",
              "      <td>6.6</td>\n",
              "      <td>0.0</td>\n",
              "      <td>20485.0</td>\n",
              "      <td>8180.0</td>\n",
              "    </tr>\n",
              "    <tr>\n",
              "      <th>1</th>\n",
              "      <td>13200000.0</td>\n",
              "      <td>109.0</td>\n",
              "      <td>4</td>\n",
              "      <td>3.15</td>\n",
              "      <td>5.0</td>\n",
              "      <td>72.0</td>\n",
              "      <td>2</td>\n",
              "      <td>0.0</td>\n",
              "      <td>0.0</td>\n",
              "      <td>0.0</td>\n",
              "      <td>12.2</td>\n",
              "      <td>0.0</td>\n",
              "      <td>42683.0</td>\n",
              "      <td>8643.0</td>\n",
              "    </tr>\n",
              "    <tr>\n",
              "      <th>2</th>\n",
              "      <td>7000000.0</td>\n",
              "      <td>74.5</td>\n",
              "      <td>3</td>\n",
              "      <td>2.58</td>\n",
              "      <td>10.0</td>\n",
              "      <td>49.0</td>\n",
              "      <td>9</td>\n",
              "      <td>0.0</td>\n",
              "      <td>0.0</td>\n",
              "      <td>0.0</td>\n",
              "      <td>10.8</td>\n",
              "      <td>0.0</td>\n",
              "      <td>14078.0</td>\n",
              "      <td>16670.0</td>\n",
              "    </tr>\n",
              "    <tr>\n",
              "      <th>3</th>\n",
              "      <td>3200000.0</td>\n",
              "      <td>37.4</td>\n",
              "      <td>1</td>\n",
              "      <td>2.50</td>\n",
              "      <td>9.0</td>\n",
              "      <td>20.0</td>\n",
              "      <td>4</td>\n",
              "      <td>0.0</td>\n",
              "      <td>0.0</td>\n",
              "      <td>0.0</td>\n",
              "      <td>6.2</td>\n",
              "      <td>2.0</td>\n",
              "      <td>17792.0</td>\n",
              "      <td>17699.0</td>\n",
              "    </tr>\n",
              "    <tr>\n",
              "      <th>4</th>\n",
              "      <td>6650000.0</td>\n",
              "      <td>64.9</td>\n",
              "      <td>3</td>\n",
              "      <td>2.65</td>\n",
              "      <td>12.0</td>\n",
              "      <td>41.9</td>\n",
              "      <td>11</td>\n",
              "      <td>0.0</td>\n",
              "      <td>0.0</td>\n",
              "      <td>0.0</td>\n",
              "      <td>10.4</td>\n",
              "      <td>0.0</td>\n",
              "      <td>14767.0</td>\n",
              "      <td>10573.0</td>\n",
              "    </tr>\n",
              "  </tbody>\n",
              "</table>\n",
              "</div>\n",
              "      <button class=\"colab-df-convert\" onclick=\"convertToInteractive('df-aacf33b1-7f4b-47b1-9a72-38a2d2ed4c4b')\"\n",
              "              title=\"Convert this dataframe to an interactive table.\"\n",
              "              style=\"display:none;\">\n",
              "        \n",
              "  <svg xmlns=\"http://www.w3.org/2000/svg\" height=\"24px\"viewBox=\"0 0 24 24\"\n",
              "       width=\"24px\">\n",
              "    <path d=\"M0 0h24v24H0V0z\" fill=\"none\"/>\n",
              "    <path d=\"M18.56 5.44l.94 2.06.94-2.06 2.06-.94-2.06-.94-.94-2.06-.94 2.06-2.06.94zm-11 1L8.5 8.5l.94-2.06 2.06-.94-2.06-.94L8.5 2.5l-.94 2.06-2.06.94zm10 10l.94 2.06.94-2.06 2.06-.94-2.06-.94-.94-2.06-.94 2.06-2.06.94z\"/><path d=\"M17.41 7.96l-1.37-1.37c-.4-.4-.92-.59-1.43-.59-.52 0-1.04.2-1.43.59L10.3 9.45l-7.72 7.72c-.78.78-.78 2.05 0 2.83L4 21.41c.39.39.9.59 1.41.59.51 0 1.02-.2 1.41-.59l7.78-7.78 2.81-2.81c.8-.78.8-2.07 0-2.86zM5.41 20L4 18.59l7.72-7.72 1.47 1.35L5.41 20z\"/>\n",
              "  </svg>\n",
              "      </button>\n",
              "      \n",
              "  <style>\n",
              "    .colab-df-container {\n",
              "      display:flex;\n",
              "      flex-wrap:wrap;\n",
              "      gap: 12px;\n",
              "    }\n",
              "\n",
              "    .colab-df-convert {\n",
              "      background-color: #E8F0FE;\n",
              "      border: none;\n",
              "      border-radius: 50%;\n",
              "      cursor: pointer;\n",
              "      display: none;\n",
              "      fill: #1967D2;\n",
              "      height: 32px;\n",
              "      padding: 0 0 0 0;\n",
              "      width: 32px;\n",
              "    }\n",
              "\n",
              "    .colab-df-convert:hover {\n",
              "      background-color: #E2EBFA;\n",
              "      box-shadow: 0px 1px 2px rgba(60, 64, 67, 0.3), 0px 1px 3px 1px rgba(60, 64, 67, 0.15);\n",
              "      fill: #174EA6;\n",
              "    }\n",
              "\n",
              "    [theme=dark] .colab-df-convert {\n",
              "      background-color: #3B4455;\n",
              "      fill: #D2E3FC;\n",
              "    }\n",
              "\n",
              "    [theme=dark] .colab-df-convert:hover {\n",
              "      background-color: #434B5C;\n",
              "      box-shadow: 0px 1px 3px 1px rgba(0, 0, 0, 0.15);\n",
              "      filter: drop-shadow(0px 1px 2px rgba(0, 0, 0, 0.3));\n",
              "      fill: #FFFFFF;\n",
              "    }\n",
              "  </style>\n",
              "\n",
              "      <script>\n",
              "        const buttonEl =\n",
              "          document.querySelector('#df-aacf33b1-7f4b-47b1-9a72-38a2d2ed4c4b button.colab-df-convert');\n",
              "        buttonEl.style.display =\n",
              "          google.colab.kernel.accessAllowed ? 'block' : 'none';\n",
              "\n",
              "        async function convertToInteractive(key) {\n",
              "          const element = document.querySelector('#df-aacf33b1-7f4b-47b1-9a72-38a2d2ed4c4b');\n",
              "          const dataTable =\n",
              "            await google.colab.kernel.invokeFunction('convertToInteractive',\n",
              "                                                     [key], {});\n",
              "          if (!dataTable) return;\n",
              "\n",
              "          const docLinkHtml = 'Like what you see? Visit the ' +\n",
              "            '<a target=\"_blank\" href=https://colab.research.google.com/notebooks/data_table.ipynb>data table notebook</a>'\n",
              "            + ' to learn more about interactive tables.';\n",
              "          element.innerHTML = '';\n",
              "          dataTable['output_type'] = 'display_data';\n",
              "          await google.colab.output.renderOutput(dataTable, element);\n",
              "          const docLink = document.createElement('div');\n",
              "          docLink.innerHTML = docLinkHtml;\n",
              "          element.appendChild(docLink);\n",
              "        }\n",
              "      </script>\n",
              "    </div>\n",
              "  </div>\n",
              "  "
            ],
            "text/plain": [
              "   last_price  total_area  ...  airports_nearest  cityCenters_nearest\n",
              "0   5400000.0        59.0  ...           20485.0               8180.0\n",
              "1  13200000.0       109.0  ...           42683.0               8643.0\n",
              "2   7000000.0        74.5  ...           14078.0              16670.0\n",
              "3   3200000.0        37.4  ...           17792.0              17699.0\n",
              "4   6650000.0        64.9  ...           14767.0              10573.0\n",
              "\n",
              "[5 rows x 14 columns]"
            ]
          },
          "metadata": {}
        },
        {
          "output_type": "display_data",
          "data": {
            "text/html": [
              "\n",
              "  <div id=\"df-c0b6fb6c-1ff0-459c-aff2-7fd7b4408000\">\n",
              "    <div class=\"colab-df-container\">\n",
              "      <div>\n",
              "<style scoped>\n",
              "    .dataframe tbody tr th:only-of-type {\n",
              "        vertical-align: middle;\n",
              "    }\n",
              "\n",
              "    .dataframe tbody tr th {\n",
              "        vertical-align: top;\n",
              "    }\n",
              "\n",
              "    .dataframe thead th {\n",
              "        text-align: right;\n",
              "    }\n",
              "</style>\n",
              "<table border=\"1\" class=\"dataframe\">\n",
              "  <thead>\n",
              "    <tr style=\"text-align: right;\">\n",
              "      <th></th>\n",
              "      <th>last_price</th>\n",
              "      <th>total_area</th>\n",
              "      <th>rooms</th>\n",
              "      <th>ceiling_height</th>\n",
              "      <th>floors_total</th>\n",
              "      <th>living_area</th>\n",
              "      <th>floor</th>\n",
              "      <th>is_apartment</th>\n",
              "      <th>studio</th>\n",
              "      <th>open_plan</th>\n",
              "      <th>kitchen_area</th>\n",
              "      <th>balcony</th>\n",
              "      <th>airports_nearest</th>\n",
              "      <th>cityCenters_nearest</th>\n",
              "    </tr>\n",
              "  </thead>\n",
              "  <tbody>\n",
              "    <tr>\n",
              "      <th>6490</th>\n",
              "      <td>5000000.0</td>\n",
              "      <td>40.1</td>\n",
              "      <td>1</td>\n",
              "      <td>2.65</td>\n",
              "      <td>10.0</td>\n",
              "      <td>20.1</td>\n",
              "      <td>6</td>\n",
              "      <td>0.0</td>\n",
              "      <td>0.0</td>\n",
              "      <td>0.0</td>\n",
              "      <td>10.8</td>\n",
              "      <td>1.0</td>\n",
              "      <td>26495.0</td>\n",
              "      <td>14198.0</td>\n",
              "    </tr>\n",
              "    <tr>\n",
              "      <th>6491</th>\n",
              "      <td>15350000.0</td>\n",
              "      <td>158.5</td>\n",
              "      <td>7</td>\n",
              "      <td>2.95</td>\n",
              "      <td>7.0</td>\n",
              "      <td>57.4</td>\n",
              "      <td>7</td>\n",
              "      <td>0.0</td>\n",
              "      <td>0.0</td>\n",
              "      <td>0.0</td>\n",
              "      <td>12.4</td>\n",
              "      <td>1.0</td>\n",
              "      <td>23546.0</td>\n",
              "      <td>3088.0</td>\n",
              "    </tr>\n",
              "    <tr>\n",
              "      <th>6492</th>\n",
              "      <td>6850000.0</td>\n",
              "      <td>62.1</td>\n",
              "      <td>2</td>\n",
              "      <td>2.75</td>\n",
              "      <td>20.0</td>\n",
              "      <td>31.0</td>\n",
              "      <td>6</td>\n",
              "      <td>0.0</td>\n",
              "      <td>0.0</td>\n",
              "      <td>0.0</td>\n",
              "      <td>13.9</td>\n",
              "      <td>2.0</td>\n",
              "      <td>34506.0</td>\n",
              "      <td>14375.0</td>\n",
              "    </tr>\n",
              "    <tr>\n",
              "      <th>6493</th>\n",
              "      <td>5650000.0</td>\n",
              "      <td>66.0</td>\n",
              "      <td>3</td>\n",
              "      <td>2.50</td>\n",
              "      <td>12.0</td>\n",
              "      <td>42.2</td>\n",
              "      <td>6</td>\n",
              "      <td>0.0</td>\n",
              "      <td>0.0</td>\n",
              "      <td>0.0</td>\n",
              "      <td>10.5</td>\n",
              "      <td>0.0</td>\n",
              "      <td>12892.0</td>\n",
              "      <td>11225.0</td>\n",
              "    </tr>\n",
              "    <tr>\n",
              "      <th>6494</th>\n",
              "      <td>4500000.0</td>\n",
              "      <td>48.0</td>\n",
              "      <td>1</td>\n",
              "      <td>2.70</td>\n",
              "      <td>9.0</td>\n",
              "      <td>20.0</td>\n",
              "      <td>9</td>\n",
              "      <td>0.0</td>\n",
              "      <td>0.0</td>\n",
              "      <td>0.0</td>\n",
              "      <td>13.0</td>\n",
              "      <td>2.0</td>\n",
              "      <td>33641.0</td>\n",
              "      <td>14027.0</td>\n",
              "    </tr>\n",
              "  </tbody>\n",
              "</table>\n",
              "</div>\n",
              "      <button class=\"colab-df-convert\" onclick=\"convertToInteractive('df-c0b6fb6c-1ff0-459c-aff2-7fd7b4408000')\"\n",
              "              title=\"Convert this dataframe to an interactive table.\"\n",
              "              style=\"display:none;\">\n",
              "        \n",
              "  <svg xmlns=\"http://www.w3.org/2000/svg\" height=\"24px\"viewBox=\"0 0 24 24\"\n",
              "       width=\"24px\">\n",
              "    <path d=\"M0 0h24v24H0V0z\" fill=\"none\"/>\n",
              "    <path d=\"M18.56 5.44l.94 2.06.94-2.06 2.06-.94-2.06-.94-.94-2.06-.94 2.06-2.06.94zm-11 1L8.5 8.5l.94-2.06 2.06-.94-2.06-.94L8.5 2.5l-.94 2.06-2.06.94zm10 10l.94 2.06.94-2.06 2.06-.94-2.06-.94-.94-2.06-.94 2.06-2.06.94z\"/><path d=\"M17.41 7.96l-1.37-1.37c-.4-.4-.92-.59-1.43-.59-.52 0-1.04.2-1.43.59L10.3 9.45l-7.72 7.72c-.78.78-.78 2.05 0 2.83L4 21.41c.39.39.9.59 1.41.59.51 0 1.02-.2 1.41-.59l7.78-7.78 2.81-2.81c.8-.78.8-2.07 0-2.86zM5.41 20L4 18.59l7.72-7.72 1.47 1.35L5.41 20z\"/>\n",
              "  </svg>\n",
              "      </button>\n",
              "      \n",
              "  <style>\n",
              "    .colab-df-container {\n",
              "      display:flex;\n",
              "      flex-wrap:wrap;\n",
              "      gap: 12px;\n",
              "    }\n",
              "\n",
              "    .colab-df-convert {\n",
              "      background-color: #E8F0FE;\n",
              "      border: none;\n",
              "      border-radius: 50%;\n",
              "      cursor: pointer;\n",
              "      display: none;\n",
              "      fill: #1967D2;\n",
              "      height: 32px;\n",
              "      padding: 0 0 0 0;\n",
              "      width: 32px;\n",
              "    }\n",
              "\n",
              "    .colab-df-convert:hover {\n",
              "      background-color: #E2EBFA;\n",
              "      box-shadow: 0px 1px 2px rgba(60, 64, 67, 0.3), 0px 1px 3px 1px rgba(60, 64, 67, 0.15);\n",
              "      fill: #174EA6;\n",
              "    }\n",
              "\n",
              "    [theme=dark] .colab-df-convert {\n",
              "      background-color: #3B4455;\n",
              "      fill: #D2E3FC;\n",
              "    }\n",
              "\n",
              "    [theme=dark] .colab-df-convert:hover {\n",
              "      background-color: #434B5C;\n",
              "      box-shadow: 0px 1px 3px 1px rgba(0, 0, 0, 0.15);\n",
              "      filter: drop-shadow(0px 1px 2px rgba(0, 0, 0, 0.3));\n",
              "      fill: #FFFFFF;\n",
              "    }\n",
              "  </style>\n",
              "\n",
              "      <script>\n",
              "        const buttonEl =\n",
              "          document.querySelector('#df-c0b6fb6c-1ff0-459c-aff2-7fd7b4408000 button.colab-df-convert');\n",
              "        buttonEl.style.display =\n",
              "          google.colab.kernel.accessAllowed ? 'block' : 'none';\n",
              "\n",
              "        async function convertToInteractive(key) {\n",
              "          const element = document.querySelector('#df-c0b6fb6c-1ff0-459c-aff2-7fd7b4408000');\n",
              "          const dataTable =\n",
              "            await google.colab.kernel.invokeFunction('convertToInteractive',\n",
              "                                                     [key], {});\n",
              "          if (!dataTable) return;\n",
              "\n",
              "          const docLinkHtml = 'Like what you see? Visit the ' +\n",
              "            '<a target=\"_blank\" href=https://colab.research.google.com/notebooks/data_table.ipynb>data table notebook</a>'\n",
              "            + ' to learn more about interactive tables.';\n",
              "          element.innerHTML = '';\n",
              "          dataTable['output_type'] = 'display_data';\n",
              "          await google.colab.output.renderOutput(dataTable, element);\n",
              "          const docLink = document.createElement('div');\n",
              "          docLink.innerHTML = docLinkHtml;\n",
              "          element.appendChild(docLink);\n",
              "        }\n",
              "      </script>\n",
              "    </div>\n",
              "  </div>\n",
              "  "
            ],
            "text/plain": [
              "      last_price  total_area  ...  airports_nearest  cityCenters_nearest\n",
              "6490   5000000.0        40.1  ...           26495.0              14198.0\n",
              "6491  15350000.0       158.5  ...           23546.0               3088.0\n",
              "6492   6850000.0        62.1  ...           34506.0              14375.0\n",
              "6493   5650000.0        66.0  ...           12892.0              11225.0\n",
              "6494   4500000.0        48.0  ...           33641.0              14027.0\n",
              "\n",
              "[5 rows x 14 columns]"
            ]
          },
          "metadata": {}
        }
      ],
      "source": [
        "#просматриваем первые и последние строки нашего датасета для общего представления о содержимом.\n",
        "display(data.head())\n",
        "display(data.tail())"
      ]
    },
    {
      "cell_type": "markdown",
      "metadata": {
        "id": "Uz6Ny80gki3N"
      },
      "source": [
        "### Итого: \n",
        "загрузили датасет, проверили датасет на пропущенные значения, проанализировали данные и статистические параметры т.е. минимальное и максимальное значение - аномалий не выявили, следовательно, проводить операции по актуализации датасета как в части устранения пропущенных значений, изменения типов и аномалий ненужно. Из анализа датасета мы видим, что планируется обучить модель и предсказать целевой признак - last_price. Целевой признак - колличественный, следовательно решается задача -  регрессии.\n",
        "\n",
        "Для информации: Целевой признак бывает категориальным и количественным. Если он категориальный, то решается задача классификации; если количественный — регрессии."
      ]
    },
    {
      "cell_type": "markdown",
      "metadata": {
        "id": "B-BaTcKGki3O"
      },
      "source": [
        "Можно провести корреляционный анализ факторов, как мы видим высокая положительная корреляция между кол-вом комнат и общей площадью. Площадью кухни и общей площадью и т.п.\n",
        "Корреляция - это лишь описание того, есть ли линейная зависимость между признаками. Ее отсутствие говорит, что для линейных моделей (линейная регрессия, логистическая регрессия) этот признак бесполезен. При этом в реальности зависимость может быть очень сильной, просто нелинейной. Сложные алгоритмы типа случайного леса могут эту нелинейную зависимость использовать и выдавать более точный результат. Поэтому на основе только лишь нулевого коэффициента корреляции нельзя отбрасывать признаки.\n",
        "Корреляция бывает отрицательной так и положительной и принимает значения от -1 до 1."
      ]
    },
    {
      "cell_type": "code",
      "source": [
        ""
      ],
      "metadata": {
        "id": "7BRTxlglqMMw"
      },
      "execution_count": null,
      "outputs": []
    },
    {
      "cell_type": "code",
      "execution_count": null,
      "metadata": {
        "id": "KvfwE8dski3P",
        "outputId": "3684133b-ff73-449e-fe0a-8d5ae9e781c0"
      },
      "outputs": [
        {
          "data": {
            "text/html": [
              "<div>\n",
              "<style scoped>\n",
              "    .dataframe tbody tr th:only-of-type {\n",
              "        vertical-align: middle;\n",
              "    }\n",
              "\n",
              "    .dataframe tbody tr th {\n",
              "        vertical-align: top;\n",
              "    }\n",
              "\n",
              "    .dataframe thead th {\n",
              "        text-align: right;\n",
              "    }\n",
              "</style>\n",
              "<table border=\"1\" class=\"dataframe\">\n",
              "  <thead>\n",
              "    <tr style=\"text-align: right;\">\n",
              "      <th></th>\n",
              "      <th>last_price</th>\n",
              "      <th>total_area</th>\n",
              "      <th>rooms</th>\n",
              "      <th>ceiling_height</th>\n",
              "      <th>floors_total</th>\n",
              "      <th>living_area</th>\n",
              "      <th>floor</th>\n",
              "      <th>is_apartment</th>\n",
              "      <th>studio</th>\n",
              "      <th>open_plan</th>\n",
              "      <th>kitchen_area</th>\n",
              "      <th>balcony</th>\n",
              "      <th>airports_nearest</th>\n",
              "      <th>cityCenters_nearest</th>\n",
              "    </tr>\n",
              "  </thead>\n",
              "  <tbody>\n",
              "    <tr>\n",
              "      <th>last_price</th>\n",
              "      <td>1.000000</td>\n",
              "      <td>0.690985</td>\n",
              "      <td>0.401289</td>\n",
              "      <td>0.143590</td>\n",
              "      <td>-0.043105</td>\n",
              "      <td>0.586246</td>\n",
              "      <td>0.016424</td>\n",
              "      <td>0.001725</td>\n",
              "      <td>NaN</td>\n",
              "      <td>NaN</td>\n",
              "      <td>0.551718</td>\n",
              "      <td>-0.020138</td>\n",
              "      <td>-0.019294</td>\n",
              "      <td>-0.282104</td>\n",
              "    </tr>\n",
              "    <tr>\n",
              "      <th>total_area</th>\n",
              "      <td>0.690985</td>\n",
              "      <td>1.000000</td>\n",
              "      <td>0.786492</td>\n",
              "      <td>0.200534</td>\n",
              "      <td>-0.097935</td>\n",
              "      <td>0.944422</td>\n",
              "      <td>-0.014566</td>\n",
              "      <td>-0.007330</td>\n",
              "      <td>NaN</td>\n",
              "      <td>NaN</td>\n",
              "      <td>0.636764</td>\n",
              "      <td>-0.017995</td>\n",
              "      <td>-0.030509</td>\n",
              "      <td>-0.359766</td>\n",
              "    </tr>\n",
              "    <tr>\n",
              "      <th>rooms</th>\n",
              "      <td>0.401289</td>\n",
              "      <td>0.786492</td>\n",
              "      <td>1.000000</td>\n",
              "      <td>0.132938</td>\n",
              "      <td>-0.252181</td>\n",
              "      <td>0.858931</td>\n",
              "      <td>-0.149514</td>\n",
              "      <td>-0.023687</td>\n",
              "      <td>NaN</td>\n",
              "      <td>NaN</td>\n",
              "      <td>0.315568</td>\n",
              "      <td>-0.044524</td>\n",
              "      <td>-0.056490</td>\n",
              "      <td>-0.302575</td>\n",
              "    </tr>\n",
              "    <tr>\n",
              "      <th>ceiling_height</th>\n",
              "      <td>0.143590</td>\n",
              "      <td>0.200534</td>\n",
              "      <td>0.132938</td>\n",
              "      <td>1.000000</td>\n",
              "      <td>-0.071115</td>\n",
              "      <td>0.193102</td>\n",
              "      <td>-0.025375</td>\n",
              "      <td>0.111506</td>\n",
              "      <td>NaN</td>\n",
              "      <td>NaN</td>\n",
              "      <td>0.168639</td>\n",
              "      <td>-0.017185</td>\n",
              "      <td>-0.049065</td>\n",
              "      <td>-0.245258</td>\n",
              "    </tr>\n",
              "    <tr>\n",
              "      <th>floors_total</th>\n",
              "      <td>-0.043105</td>\n",
              "      <td>-0.097935</td>\n",
              "      <td>-0.252181</td>\n",
              "      <td>-0.071115</td>\n",
              "      <td>1.000000</td>\n",
              "      <td>-0.194121</td>\n",
              "      <td>0.641985</td>\n",
              "      <td>-0.012098</td>\n",
              "      <td>NaN</td>\n",
              "      <td>NaN</td>\n",
              "      <td>0.114246</td>\n",
              "      <td>0.253471</td>\n",
              "      <td>0.129451</td>\n",
              "      <td>0.375241</td>\n",
              "    </tr>\n",
              "    <tr>\n",
              "      <th>living_area</th>\n",
              "      <td>0.586246</td>\n",
              "      <td>0.944422</td>\n",
              "      <td>0.858931</td>\n",
              "      <td>0.193102</td>\n",
              "      <td>-0.194121</td>\n",
              "      <td>1.000000</td>\n",
              "      <td>-0.088492</td>\n",
              "      <td>-0.010745</td>\n",
              "      <td>NaN</td>\n",
              "      <td>NaN</td>\n",
              "      <td>0.468889</td>\n",
              "      <td>-0.045201</td>\n",
              "      <td>-0.052952</td>\n",
              "      <td>-0.365492</td>\n",
              "    </tr>\n",
              "    <tr>\n",
              "      <th>floor</th>\n",
              "      <td>0.016424</td>\n",
              "      <td>-0.014566</td>\n",
              "      <td>-0.149514</td>\n",
              "      <td>-0.025375</td>\n",
              "      <td>0.641985</td>\n",
              "      <td>-0.088492</td>\n",
              "      <td>1.000000</td>\n",
              "      <td>0.003575</td>\n",
              "      <td>NaN</td>\n",
              "      <td>NaN</td>\n",
              "      <td>0.119549</td>\n",
              "      <td>0.238255</td>\n",
              "      <td>0.093441</td>\n",
              "      <td>0.224057</td>\n",
              "    </tr>\n",
              "    <tr>\n",
              "      <th>is_apartment</th>\n",
              "      <td>0.001725</td>\n",
              "      <td>-0.007330</td>\n",
              "      <td>-0.023687</td>\n",
              "      <td>0.111506</td>\n",
              "      <td>-0.012098</td>\n",
              "      <td>-0.010745</td>\n",
              "      <td>0.003575</td>\n",
              "      <td>1.000000</td>\n",
              "      <td>NaN</td>\n",
              "      <td>NaN</td>\n",
              "      <td>0.002360</td>\n",
              "      <td>0.042007</td>\n",
              "      <td>0.012462</td>\n",
              "      <td>0.023974</td>\n",
              "    </tr>\n",
              "    <tr>\n",
              "      <th>studio</th>\n",
              "      <td>NaN</td>\n",
              "      <td>NaN</td>\n",
              "      <td>NaN</td>\n",
              "      <td>NaN</td>\n",
              "      <td>NaN</td>\n",
              "      <td>NaN</td>\n",
              "      <td>NaN</td>\n",
              "      <td>NaN</td>\n",
              "      <td>NaN</td>\n",
              "      <td>NaN</td>\n",
              "      <td>NaN</td>\n",
              "      <td>NaN</td>\n",
              "      <td>NaN</td>\n",
              "      <td>NaN</td>\n",
              "    </tr>\n",
              "    <tr>\n",
              "      <th>open_plan</th>\n",
              "      <td>NaN</td>\n",
              "      <td>NaN</td>\n",
              "      <td>NaN</td>\n",
              "      <td>NaN</td>\n",
              "      <td>NaN</td>\n",
              "      <td>NaN</td>\n",
              "      <td>NaN</td>\n",
              "      <td>NaN</td>\n",
              "      <td>NaN</td>\n",
              "      <td>NaN</td>\n",
              "      <td>NaN</td>\n",
              "      <td>NaN</td>\n",
              "      <td>NaN</td>\n",
              "      <td>NaN</td>\n",
              "    </tr>\n",
              "    <tr>\n",
              "      <th>kitchen_area</th>\n",
              "      <td>0.551718</td>\n",
              "      <td>0.636764</td>\n",
              "      <td>0.315568</td>\n",
              "      <td>0.168639</td>\n",
              "      <td>0.114246</td>\n",
              "      <td>0.468889</td>\n",
              "      <td>0.119549</td>\n",
              "      <td>0.002360</td>\n",
              "      <td>NaN</td>\n",
              "      <td>NaN</td>\n",
              "      <td>1.000000</td>\n",
              "      <td>0.023468</td>\n",
              "      <td>0.005221</td>\n",
              "      <td>-0.255140</td>\n",
              "    </tr>\n",
              "    <tr>\n",
              "      <th>balcony</th>\n",
              "      <td>-0.020138</td>\n",
              "      <td>-0.017995</td>\n",
              "      <td>-0.044524</td>\n",
              "      <td>-0.017185</td>\n",
              "      <td>0.253471</td>\n",
              "      <td>-0.045201</td>\n",
              "      <td>0.238255</td>\n",
              "      <td>0.042007</td>\n",
              "      <td>NaN</td>\n",
              "      <td>NaN</td>\n",
              "      <td>0.023468</td>\n",
              "      <td>1.000000</td>\n",
              "      <td>0.070240</td>\n",
              "      <td>0.188725</td>\n",
              "    </tr>\n",
              "    <tr>\n",
              "      <th>airports_nearest</th>\n",
              "      <td>-0.019294</td>\n",
              "      <td>-0.030509</td>\n",
              "      <td>-0.056490</td>\n",
              "      <td>-0.049065</td>\n",
              "      <td>0.129451</td>\n",
              "      <td>-0.052952</td>\n",
              "      <td>0.093441</td>\n",
              "      <td>0.012462</td>\n",
              "      <td>NaN</td>\n",
              "      <td>NaN</td>\n",
              "      <td>0.005221</td>\n",
              "      <td>0.070240</td>\n",
              "      <td>1.000000</td>\n",
              "      <td>0.177518</td>\n",
              "    </tr>\n",
              "    <tr>\n",
              "      <th>cityCenters_nearest</th>\n",
              "      <td>-0.282104</td>\n",
              "      <td>-0.359766</td>\n",
              "      <td>-0.302575</td>\n",
              "      <td>-0.245258</td>\n",
              "      <td>0.375241</td>\n",
              "      <td>-0.365492</td>\n",
              "      <td>0.224057</td>\n",
              "      <td>0.023974</td>\n",
              "      <td>NaN</td>\n",
              "      <td>NaN</td>\n",
              "      <td>-0.255140</td>\n",
              "      <td>0.188725</td>\n",
              "      <td>0.177518</td>\n",
              "      <td>1.000000</td>\n",
              "    </tr>\n",
              "  </tbody>\n",
              "</table>\n",
              "</div>"
            ],
            "text/plain": [
              "                     last_price  total_area     rooms  ceiling_height  \\\n",
              "last_price             1.000000    0.690985  0.401289        0.143590   \n",
              "total_area             0.690985    1.000000  0.786492        0.200534   \n",
              "rooms                  0.401289    0.786492  1.000000        0.132938   \n",
              "ceiling_height         0.143590    0.200534  0.132938        1.000000   \n",
              "floors_total          -0.043105   -0.097935 -0.252181       -0.071115   \n",
              "living_area            0.586246    0.944422  0.858931        0.193102   \n",
              "floor                  0.016424   -0.014566 -0.149514       -0.025375   \n",
              "is_apartment           0.001725   -0.007330 -0.023687        0.111506   \n",
              "studio                      NaN         NaN       NaN             NaN   \n",
              "open_plan                   NaN         NaN       NaN             NaN   \n",
              "kitchen_area           0.551718    0.636764  0.315568        0.168639   \n",
              "balcony               -0.020138   -0.017995 -0.044524       -0.017185   \n",
              "airports_nearest      -0.019294   -0.030509 -0.056490       -0.049065   \n",
              "cityCenters_nearest   -0.282104   -0.359766 -0.302575       -0.245258   \n",
              "\n",
              "                     floors_total  living_area     floor  is_apartment  \\\n",
              "last_price              -0.043105     0.586246  0.016424      0.001725   \n",
              "total_area              -0.097935     0.944422 -0.014566     -0.007330   \n",
              "rooms                   -0.252181     0.858931 -0.149514     -0.023687   \n",
              "ceiling_height          -0.071115     0.193102 -0.025375      0.111506   \n",
              "floors_total             1.000000    -0.194121  0.641985     -0.012098   \n",
              "living_area             -0.194121     1.000000 -0.088492     -0.010745   \n",
              "floor                    0.641985    -0.088492  1.000000      0.003575   \n",
              "is_apartment            -0.012098    -0.010745  0.003575      1.000000   \n",
              "studio                        NaN          NaN       NaN           NaN   \n",
              "open_plan                     NaN          NaN       NaN           NaN   \n",
              "kitchen_area             0.114246     0.468889  0.119549      0.002360   \n",
              "balcony                  0.253471    -0.045201  0.238255      0.042007   \n",
              "airports_nearest         0.129451    -0.052952  0.093441      0.012462   \n",
              "cityCenters_nearest      0.375241    -0.365492  0.224057      0.023974   \n",
              "\n",
              "                     studio  open_plan  kitchen_area   balcony  \\\n",
              "last_price              NaN        NaN      0.551718 -0.020138   \n",
              "total_area              NaN        NaN      0.636764 -0.017995   \n",
              "rooms                   NaN        NaN      0.315568 -0.044524   \n",
              "ceiling_height          NaN        NaN      0.168639 -0.017185   \n",
              "floors_total            NaN        NaN      0.114246  0.253471   \n",
              "living_area             NaN        NaN      0.468889 -0.045201   \n",
              "floor                   NaN        NaN      0.119549  0.238255   \n",
              "is_apartment            NaN        NaN      0.002360  0.042007   \n",
              "studio                  NaN        NaN           NaN       NaN   \n",
              "open_plan               NaN        NaN           NaN       NaN   \n",
              "kitchen_area            NaN        NaN      1.000000  0.023468   \n",
              "balcony                 NaN        NaN      0.023468  1.000000   \n",
              "airports_nearest        NaN        NaN      0.005221  0.070240   \n",
              "cityCenters_nearest     NaN        NaN     -0.255140  0.188725   \n",
              "\n",
              "                     airports_nearest  cityCenters_nearest  \n",
              "last_price                  -0.019294            -0.282104  \n",
              "total_area                  -0.030509            -0.359766  \n",
              "rooms                       -0.056490            -0.302575  \n",
              "ceiling_height              -0.049065            -0.245258  \n",
              "floors_total                 0.129451             0.375241  \n",
              "living_area                 -0.052952            -0.365492  \n",
              "floor                        0.093441             0.224057  \n",
              "is_apartment                 0.012462             0.023974  \n",
              "studio                            NaN                  NaN  \n",
              "open_plan                         NaN                  NaN  \n",
              "kitchen_area                 0.005221            -0.255140  \n",
              "balcony                      0.070240             0.188725  \n",
              "airports_nearest             1.000000             0.177518  \n",
              "cityCenters_nearest          0.177518             1.000000  "
            ]
          },
          "execution_count": 6,
          "metadata": {},
          "output_type": "execute_result"
        }
      ],
      "source": [
        "data.corr()"
      ]
    },
    {
      "cell_type": "markdown",
      "metadata": {
        "id": "Y-FufpgCki3Q"
      },
      "source": [
        "## Необходимо наш датасет разбить на 3 части (20-25%(тестовая) + 75-80%(учебная (75-80%), валидационная(20-25%)))"
      ]
    },
    {
      "cell_type": "code",
      "execution_count": null,
      "metadata": {
        "id": "yXj-OodYki3Q"
      },
      "outputs": [],
      "source": [
        "from sklearn.model_selection import train_test_split #подключаем библиотеку, которая умеет нарезать датасет на учебный, валидационный датасеты\n",
        "\n",
        "data_test = data.loc[0: 1200, :] # 20%  датасета заранее отщипываем и записываем в тестовую выборку, тестовую выборку. \n",
        "# Тестовую выборку применяем только когда уже обучили модель и получили желаемые результаты гиперпараметров (т.е. другими словами это как дипломный проект наших обученных моделей)\n",
        "\n",
        "data_train_valid = data.loc[1201: 6494, :] # отсавшиеся 80% записываем в переменную из которой будум выделять тренировочную и валидационную выборку\n",
        "# избавляемся от целевого признака итоговая стоимость квартиры\n",
        "features = data_train_valid.drop(['last_price'], axis=1)  # извлекаем целевой признак в целевую переменную\n",
        "target = data_train_valid['last_price']  # создаем перменную target из значений целевого признаков\n",
        "\n",
        "features_train, features_valid, target_train, target_valid = train_test_split(\n",
        "    features, target , test_size=0.25, random_state=12345) # начинаем разбивать наши 80% данных на учебные и валидационные переменные в пропорции 75 и 25%, где 25% относим на валидационную выборку."
      ]
    },
    {
      "cell_type": "code",
      "execution_count": null,
      "metadata": {
        "id": "scqdPEILki3R",
        "outputId": "49e5be89-aa7c-4d2a-a5df-1df2e625bfbc"
      },
      "outputs": [
        {
          "name": "stdout",
          "output_type": "stream",
          "text": [
            "кол-во строк и столбцов в тестовом датасете (1201, 14)\n",
            "кол-во строк и столбцов в обучающейся выборке (3970, 13) (3970,)\n",
            "кол-во строк и столбцов в валидационной выборке (1324, 13) (1324,)\n"
          ]
        }
      ],
      "source": [
        "# Анализируем сколько строк и столбцов нашего первоначального датасета приходится на тестовую, учебную и валидационную выборку\n",
        "print('кол-во строк и столбцов в тестовом датасете',data_test.shape)\n",
        "print('кол-во строк и столбцов в обучающейся выборке',features_train.shape, target_train.shape)\n",
        "print('кол-во строк и столбцов в валидационной выборке',features_valid.shape, target_valid.shape)"
      ]
    },
    {
      "cell_type": "markdown",
      "metadata": {
        "id": "fxDbhi2Lki3R"
      },
      "source": [
        "### Итого:\n",
        "Разбили наш датасет на тестовый и (обучающий + валидационный) в пропорции 20% на 80%. где из 80% выделили 25% на валидационный  датасет.\n",
        "Определили целевой признак в переменной target и обучающие признаки в переменной features"
      ]
    },
    {
      "cell_type": "markdown",
      "metadata": {
        "id": "ssQkLY5iki3S"
      },
      "source": [
        "## Исследуйте модели"
      ]
    },
    {
      "cell_type": "markdown",
      "metadata": {
        "id": "yv1J999oki3S"
      },
      "source": [
        "### Рассмотрим одну популярную модель — решающее дерево. Оно может описывать процесс принятия решения почти в любой ситуации."
      ]
    },
    {
      "cell_type": "code",
      "execution_count": null,
      "metadata": {
        "id": "TOk9_4mgki3S"
      },
      "outputs": [],
      "source": [
        "# Для работы с моделью решающее дерево как обычно подгружаем необходимые библиотеки\n",
        "from sklearn.tree import DecisionTreeRegressor # библиотека отвечающая за создание модели решающего дерева\n",
        "# библиотека отвечающая за проверку качества модели в нашем случае это параметр MAE (средняя абсолютная ошибка)\n",
        "from sklearn.metrics import mean_absolute_error\n"
      ]
    },
    {
      "cell_type": "markdown",
      "metadata": {
        "id": "14YoAexKki3T"
      },
      "source": [
        "Каким должен быть гиперпараметр maх_depth, чтобы улучшить нашу модель? Неизвестно. Поэтому в цикле перебираем разные значения и сравниваем качество моделей в разных вариантах. Сейчас мы будем проверять автоматически, не дожидаясь проверки на тестовой выборке."
      ]
    },
    {
      "cell_type": "code",
      "execution_count": null,
      "metadata": {
        "id": "F4oAxQILki3T",
        "outputId": "f73d638f-d5c9-498f-9325-28b933c611c7"
      },
      "outputs": [
        {
          "name": "stdout",
          "output_type": "stream",
          "text": [
            "DecisionTreeRegressor(max_depth=1, random_state=12345) Глубина дерева: 1 погрешность в руб 4282452.2\n",
            "DecisionTreeRegressor(max_depth=2, random_state=12345) Глубина дерева: 2 погрешность в руб 3334364.7\n",
            "DecisionTreeRegressor(max_depth=3, random_state=12345) Глубина дерева: 3 погрешность в руб 2720106.4\n",
            "DecisionTreeRegressor(max_depth=4, random_state=12345) Глубина дерева: 4 погрешность в руб 2538132.4\n",
            "DecisionTreeRegressor(max_depth=5, random_state=12345) Глубина дерева: 5 погрешность в руб 2532280.6\n",
            "DecisionTreeRegressor(max_depth=6, random_state=12345) Глубина дерева: 6 погрешность в руб 2373743.7\n",
            "DecisionTreeRegressor(max_depth=7, random_state=12345) Глубина дерева: 7 погрешность в руб 2287309.7\n",
            "DecisionTreeRegressor(max_depth=8, random_state=12345) Глубина дерева: 8 погрешность в руб 2358411.0\n",
            "DecisionTreeRegressor(max_depth=9, random_state=12345) Глубина дерева: 9 погрешность в руб 2345640.6\n",
            "Wall time: 125 ms\n"
          ]
        }
      ],
      "source": [
        "%%time  \n",
        "# для информации поставим таймер и замерим как долго обучается модель на учебном датасете\n",
        "best_model = None\n",
        "best_result = 10000\n",
        "best_depth = 0\n",
        "best_error = 0\n",
        "for depth in range(1, 10):\n",
        "    #создаем модель, с 2-мя глобальными гиперпараметрами, где с помощью цикла нйдем значение глубины решающего дерева переменной depth\n",
        "    model_tree = DecisionTreeRegressor(random_state=12345, max_depth=depth)\n",
        "    # обучаем нашу модель на учебной выборке\n",
        "    model_tree.fit(features_train, target_train)\n",
        "    # Проверяме нашу модель, т.е. подставляя занчения features_valid\n",
        "    predictions_valid_tree = model_tree.predict(features_valid)# < найдите предсказания на валидационной выборке >\n",
        "    # проверяем качество нашей модели т.е. сраниваем предсказания модели с результатами target_valid и находим MAE (среднюю абсолютную ошибку)\n",
        "    result_tree_1 = mean_absolute_error(target_valid, predictions_valid_tree)\n",
        "    best_model = model_tree\n",
        "    best_depth = depth\n",
        "    best_error = result_tree_1\n",
        "    print(best_model,\"Глубина дерева:\", best_depth, \"погрешность в руб\", best_error.round(decimals=1))\n"
      ]
    },
    {
      "cell_type": "markdown",
      "metadata": {
        "id": "dLf8jLluki3T"
      },
      "source": [
        "#### Наилучший показатель качества модели \"решающее дерево\" достигается при значении  гиперпараметров max_depth=7, ошибка предсказания модели в среднем составляет +- 2,3 млн.руб"
      ]
    },
    {
      "cell_type": "markdown",
      "metadata": {
        "id": "ii5ldkA2ki3U"
      },
      "source": [
        "### Попробуем новый алгоритм классификации — случайный лес (англ. random forest). Алгоритм обучает большое количество независимых друг от друга деревьев, а потом принимает решение на основе голосования. Случайный лес помогает улучшить результат предсказания и избежать переобучения."
      ]
    },
    {
      "cell_type": "code",
      "execution_count": null,
      "metadata": {
        "id": "NMdAXLJtki3U"
      },
      "outputs": [],
      "source": [
        "# Для работы с моделью случайный лес как обычно подгружаем необходимые библиотеки\n",
        "from sklearn.ensemble import RandomForestRegressor\n",
        "from sklearn.metrics import mean_absolute_error\n"
      ]
    },
    {
      "cell_type": "code",
      "execution_count": null,
      "metadata": {
        "id": "t2xg4HOski3U",
        "outputId": "a6a95b4c-f382-41df-c45d-c67c31371465"
      },
      "outputs": [
        {
          "name": "stdout",
          "output_type": "stream",
          "text": [
            "RandomForestRegressor(max_depth=10, n_estimators=50, random_state=12345) Количество деревьев: 50 Максимальная глубина: 10 погрешность в руб 1870648.3\n",
            "Wall time: 9.42 s\n"
          ]
        }
      ],
      "source": [
        "%%time\n",
        "best_model = None\n",
        "best_est = 0\n",
        "best_depth = 0\n",
        "best_error = 0\n",
        "# Обучаем модель случайного леса для задачи регрессии:\n",
        "for est in range(10, 51, 10):  # с количеством деревьев: от 10 до 50 с шагом 10,\n",
        "    for depth in range(1, 11): # с максимальной глубиной от 1 до 10.\n",
        "        # обучите модель с заданным количеством деревьев\n",
        "        model_forest = RandomForestRegressor(\n",
        "            random_state=12345, n_estimators=est, max_depth=depth)\n",
        "        # обучаем модель на тренировочной выборке\n",
        "        model_forest.fit(features_train, target_train)\n",
        "        # получаем предсказания модели на валидационной выборке\n",
        "        predictions_valid_forest = model_forest.predict(features_valid)\n",
        "        result_forest_1 = mean_absolute_error(\n",
        "            target_valid, predictions_valid_forest)  # находим MAE (средняя абсолютная ошибка)\n",
        "        if result_forest_1 < 2000000:  # MAE (средняя абсолютная ошибка) не более 2 млн рублей\n",
        "            best_model = model_forest  # сохраните наилучшую модель\n",
        "            best_est = est\n",
        "            best_depth = depth\n",
        "            best_error = result_forest_1\n",
        "print(best_model, \"Количество деревьев:\", best_est, \"Максимальная глубина:\",\n",
        "      depth, \"погрешность в руб\", best_error.round(decimals=1))\n"
      ]
    },
    {
      "cell_type": "markdown",
      "metadata": {
        "id": "51MEKcbEki3U"
      },
      "source": [
        "#### Наилучший показатель качества модели \"случайный лес\" достигается при значении  гиперпараметров n_estimators=50, глубины max_depth=10 и параметра random_state=12345\n",
        "Чтобы управлять количеством деревьев в лесу, гиперпараметр n_estimators* (от англ. number of estimators, «количество оценщиков»). \n",
        "Чем больше деревьев, тем дольше модель будет учиться, но результат станет лучше (и наоборот)."
      ]
    },
    {
      "cell_type": "markdown",
      "metadata": {
        "id": "PCsLCLiZki3V"
      },
      "source": [
        "### Если сделать гиперпараметр n_estimators больше, модель начнёт разрастаться и медленно обучаться. Это плохо. Мало деревьев и результаты не лучше. Тоже плохо. Сколько можно быть зависимым от деревьев? Попробуем ещё один алгоритм — логистическую регрессию."
      ]
    },
    {
      "cell_type": "code",
      "execution_count": null,
      "metadata": {
        "id": "kYm_XeThki3V"
      },
      "outputs": [],
      "source": [
        "# Для работы с моделью линейная регрессия как обычно подгружаем необходимые библиотеки\n",
        "from sklearn.linear_model import LinearRegression\n",
        "from sklearn.metrics import mean_absolute_error"
      ]
    },
    {
      "cell_type": "code",
      "execution_count": null,
      "metadata": {
        "id": "6-A4eTK8ki3V",
        "outputId": "c3120dbb-bcb1-4533-a00a-b725f4e02065"
      },
      "outputs": [
        {
          "name": "stdout",
          "output_type": "stream",
          "text": [
            "LinearRegression() погрешность в руб 2781574.3\n",
            "Wall time: 58.6 ms\n"
          ]
        }
      ],
      "source": [
        "%%time\n",
        "# создаем модель линейной регрессии\n",
        "model_reg = LinearRegression()\n",
        "model_reg.fit(features_train,target_train ) # Обучаем модель линейно регрессии \n",
        "# получите предсказания модели на валидационной выборке\n",
        "predictions_valid_reg = model_reg.predict(features_valid)\n",
        "# находим MAE (средняя абсолютная ошибка)\n",
        "result_reg1 = mean_absolute_error(target_valid, predictions_valid_reg)\n",
        "\n",
        "print(model_reg, \"погрешность в руб\", result_reg1.round(decimals=1))\n"
      ]
    },
    {
      "cell_type": "markdown",
      "metadata": {
        "id": "0Ub2V_31ki3W"
      },
      "source": [
        "### Итого: \n",
        "Cредняя абсолютная ошибка (англ. Mean Absolute Error, MAE). Это один из важных критериев для бизнеса: чем меньше значение, тем лучше.\n",
        "Самое высокое качество у модели случайный лес.\n",
        "На втором месте модель — решающее дерево.\n",
        "Самое низкое качество  у модели линейной  регрессии. \n",
        "\n",
        "https://neerc.ifmo.ru/wiki/index.php?title=Оценка_качества_в_задачах_классификации_и_регрессии "
      ]
    },
    {
      "cell_type": "markdown",
      "metadata": {
        "id": "hWvzgW85ki3W"
      },
      "source": [
        "## Проверьте модель на тестовой выборке"
      ]
    },
    {
      "cell_type": "code",
      "execution_count": null,
      "metadata": {
        "id": "VzP9CPJiki3W"
      },
      "outputs": [],
      "source": [
        "# Когда наши модели обучены и мы уже знаем какие гипер параметры необходимо использовать, чтобы добиться максимальной результативности. Пришла пора провести итоговый экзамен наших моделей на тестовой выборке\n",
        "\n",
        "# извлекаем целевой признак из тестовой выборки\n",
        "test_features = data_test.drop(['last_price'], axis=1)\n",
        "test_target = data_test['last_price']   # отражаем целевой признак в целевой переменной\n"
      ]
    },
    {
      "cell_type": "markdown",
      "metadata": {
        "id": "WueMkR32ki3W"
      },
      "source": [
        "Обьединяем выборку train + valid т.е. обьем обучения увеличиваем на величину валидационный выборки,  \n",
        "которую ранее использовали для проверки, т.к. сейчас все будем проверять на тестовой выборке + подставим уже известные нам гипер параметры и проверим полученный результат"
      ]
    },
    {
      "cell_type": "code",
      "execution_count": null,
      "metadata": {
        "id": "25GarDqEki3W",
        "outputId": "a58d29ca-e4ef-49c0-914d-f63aabc72a2e"
      },
      "outputs": [
        {
          "name": "stdout",
          "output_type": "stream",
          "text": [
            "Тестовая выборка: решающее дерево обученная на train+valid 2442096.8\n",
            "Тестовая выборка: случайный лес обученная на train+valid 1990532.6\n",
            "Тестовая выборка: линейная регрессия обученная на train+valid 2948783.8\n"
          ]
        }
      ],
      "source": [
        "model_tree_v2 = DecisionTreeRegressor(random_state=12345, max_depth=7) # создаем модель решающее дерево с уже известными нам параметрами\n",
        "model_tree_v2.fit(features, target) # обучаем нашу модель на данных учебной и валидационной выборки\n",
        "test_predictions_tree_v2 = model_tree_v2.predict(test_features) # подставляем в обученную нами модель тестовые данные для предсказания цены квартир\n",
        "test_result_tree_v2 = mean_absolute_error(test_target, test_predictions_tree_v2)  # проверяем качество модели в нашем случае это параметр MAE (средняя абсолютная ошибка)\n",
        "\n",
        "print(\"Тестовая выборка: решающее дерево обученная на train+valid\",\n",
        "      test_result_tree_v2.round(decimals=1))  # выводим полученный результат\n",
        "\n",
        "model_forest_v2 = RandomForestRegressor(\n",
        "    random_state=12345, n_estimators=50, max_depth=10)  # создаем модель случайный лес с уже известными нам параметрами\n",
        "# обучаем нашу модель на данных учебной и валидационной выборки\n",
        "model_forest_v2.fit(features, target)\n",
        "\n",
        "# подставляем в обученную нами модель тестовые данные для предсказания цены квартир\n",
        "test_predictions_forest_v2 = model_forest_v2.predict(test_features)\n",
        "test_result_forest_v2 = mean_absolute_error(\n",
        "    test_target, test_predictions_forest_v2)  # проверяем качество модели в нашем случае это параметр MAE (средняя абсолютная ошибка)\n",
        "\n",
        "print(\"Тестовая выборка: случайный лес обученная на train+valid\",\n",
        "      test_result_forest_v2.round(decimals=1))  # выводим полученный результат\n",
        "\n",
        "# создаем модель линейная регрессия\n",
        "model_reg_v2 = LinearRegression()\n",
        "model_reg_v2.fit(features,target ) # обучаем нашу модель\n",
        "# подставляем в обученную нами модель тестовые данные для предсказания цены квартир\n",
        "test_predictions_reg_v2 = model_reg_v2.predict(test_features)\n",
        "test_accuracy_reg_v2 = mean_absolute_error(\n",
        "    test_target, test_predictions_reg_v2)  # проверяем качество модели в нашем случае это параметр MAE (средняя абсолютная ошибка)\n",
        "\n",
        "print(\"Тестовая выборка: линейная регрессия обученная на train+valid\",\n",
        "      test_accuracy_reg_v2.round(decimals=1))  # выводим полученный результат\n"
      ]
    },
    {
      "cell_type": "markdown",
      "metadata": {
        "id": "BwxxIwp7ki3X"
      },
      "source": [
        "Наилучший результат показала модель - случайный лес"
      ]
    },
    {
      "cell_type": "markdown",
      "metadata": {
        "id": "63iN23twki3X"
      },
      "source": [
        "### Итого:\n",
        "Лучше себя показала как на тестовой так и на валидационной выборке - модель случайный лес"
      ]
    },
    {
      "cell_type": "markdown",
      "metadata": {
        "id": "ibAceJTski3X"
      },
      "source": [
        "## (бонус) Проверьте модели на адекватность"
      ]
    },
    {
      "cell_type": "code",
      "execution_count": null,
      "metadata": {
        "id": "I_NDDpdkki3X",
        "outputId": "8823a597-b0b7-4934-fb9d-8f9e6e3eae7b"
      },
      "outputs": [
        {
          "name": "stdout",
          "output_type": "stream",
          "text": [
            "Результаты модели решающее дерево [ 6418563.8 12694286.9]\n",
            "Результаты модели случайный лес [ 6513437.2 10073919. ]\n",
            "Результаты модели линейная регрессия [ 7826357.4 13927168.5]\n"
          ]
        }
      ],
      "source": [
        "# Создаем тестовые данные для предсказания стоимости квартиры\n",
        "new_features3 = new_features = pd.DataFrame(\n",
        "    [[59.0, 2, 2.87, 4.0, 31.5, 2, 0.0, 0.0, 0.0, 6.6, 0.0, 20485.0, 8180.0],\n",
        "     [109.0, 4, 3.15, 5.0, 72.0, 2, 0.0, 0.0, 0.0, 12.2, 0.0, 42683.0, 8643.0]],\n",
        "    columns=features.columns)\n",
        "\n",
        "\n",
        "\n",
        "result_my_model = model_forest_v2.predict(new_features3)\n",
        "result_my_model2 = model_tree_v2.predict(new_features3)\n",
        "result_my_model3 = model_reg_v2.predict(new_features3)\n",
        "print('Результаты модели решающее дерево', result_my_model.round(decimals=1))\n",
        "print('Результаты модели случайный лес', result_my_model2.round(decimals=1))\n",
        "print('Результаты модели линейная регрессия',\n",
        "      result_my_model3.round(decimals=1))\n"
      ]
    },
    {
      "cell_type": "code",
      "execution_count": null,
      "metadata": {
        "id": "q0Rbhg5dki3Y",
        "outputId": "256578b2-a4bc-4e43-fe77-3eeeec203eaf"
      },
      "outputs": [
        {
          "data": {
            "text/html": [
              "<div>\n",
              "<style scoped>\n",
              "    .dataframe tbody tr th:only-of-type {\n",
              "        vertical-align: middle;\n",
              "    }\n",
              "\n",
              "    .dataframe tbody tr th {\n",
              "        vertical-align: top;\n",
              "    }\n",
              "\n",
              "    .dataframe thead th {\n",
              "        text-align: right;\n",
              "    }\n",
              "</style>\n",
              "<table border=\"1\" class=\"dataframe\">\n",
              "  <thead>\n",
              "    <tr style=\"text-align: right;\">\n",
              "      <th></th>\n",
              "      <th>last_price</th>\n",
              "      <th>total_area</th>\n",
              "      <th>rooms</th>\n",
              "      <th>ceiling_height</th>\n",
              "      <th>floors_total</th>\n",
              "      <th>living_area</th>\n",
              "      <th>floor</th>\n",
              "      <th>is_apartment</th>\n",
              "      <th>studio</th>\n",
              "      <th>open_plan</th>\n",
              "      <th>kitchen_area</th>\n",
              "      <th>balcony</th>\n",
              "      <th>airports_nearest</th>\n",
              "      <th>cityCenters_nearest</th>\n",
              "    </tr>\n",
              "  </thead>\n",
              "  <tbody>\n",
              "    <tr>\n",
              "      <th>0</th>\n",
              "      <td>5400000.0</td>\n",
              "      <td>59.0</td>\n",
              "      <td>2</td>\n",
              "      <td>2.87</td>\n",
              "      <td>4.0</td>\n",
              "      <td>31.5</td>\n",
              "      <td>2</td>\n",
              "      <td>0.0</td>\n",
              "      <td>0.0</td>\n",
              "      <td>0.0</td>\n",
              "      <td>6.6</td>\n",
              "      <td>0.0</td>\n",
              "      <td>20485.0</td>\n",
              "      <td>8180.0</td>\n",
              "    </tr>\n",
              "    <tr>\n",
              "      <th>1</th>\n",
              "      <td>13200000.0</td>\n",
              "      <td>109.0</td>\n",
              "      <td>4</td>\n",
              "      <td>3.15</td>\n",
              "      <td>5.0</td>\n",
              "      <td>72.0</td>\n",
              "      <td>2</td>\n",
              "      <td>0.0</td>\n",
              "      <td>0.0</td>\n",
              "      <td>0.0</td>\n",
              "      <td>12.2</td>\n",
              "      <td>0.0</td>\n",
              "      <td>42683.0</td>\n",
              "      <td>8643.0</td>\n",
              "    </tr>\n",
              "  </tbody>\n",
              "</table>\n",
              "</div>"
            ],
            "text/plain": [
              "   last_price  total_area  rooms  ceiling_height  floors_total  living_area  \\\n",
              "0   5400000.0        59.0      2            2.87           4.0         31.5   \n",
              "1  13200000.0       109.0      4            3.15           5.0         72.0   \n",
              "\n",
              "   floor  is_apartment  studio  open_plan  kitchen_area  balcony  \\\n",
              "0      2           0.0     0.0        0.0           6.6      0.0   \n",
              "1      2           0.0     0.0        0.0          12.2      0.0   \n",
              "\n",
              "   airports_nearest  cityCenters_nearest  \n",
              "0           20485.0               8180.0  \n",
              "1           42683.0               8643.0  "
            ]
          },
          "execution_count": 18,
          "metadata": {},
          "output_type": "execute_result"
        }
      ],
      "source": [
        "data.head(2) #проверяме наши результаты, сколько на самом деле стоят квартиры \n"
      ]
    },
    {
      "cell_type": "markdown",
      "metadata": {
        "id": "EIeRMSSeki3Y"
      },
      "source": [
        "### Итого: \n",
        "Фокусник был пьян, фокус не удался)))\n",
        "Ну а если серьезно, на точное качество предсказания влияет множество факторов (1: обьем обучающего датасета 2: Качество данных 3: Модели предсказания (мы рассмотрели только 3, не прибегая еще к нейроным сетям и т.п. )"
      ]
    }
  ],
  "metadata": {
    "ExecuteTimeLog": [
      {
        "duration": 897,
        "start_time": "2022-01-14T12:45:54.174Z"
      },
      {
        "duration": 4,
        "start_time": "2022-01-14T12:45:59.854Z"
      },
      {
        "duration": 23,
        "start_time": "2022-01-14T12:46:48.536Z"
      },
      {
        "duration": 14,
        "start_time": "2022-01-14T12:48:55.384Z"
      },
      {
        "duration": 46,
        "start_time": "2022-01-14T13:58:29.873Z"
      },
      {
        "duration": 23,
        "start_time": "2022-01-14T13:59:35.867Z"
      },
      {
        "duration": 1051,
        "start_time": "2022-01-14T23:14:17.019Z"
      },
      {
        "duration": 7,
        "start_time": "2022-01-14T23:14:23.806Z"
      },
      {
        "duration": 8,
        "start_time": "2022-01-14T23:15:06.986Z"
      },
      {
        "duration": 4,
        "start_time": "2022-01-14T23:15:37.455Z"
      },
      {
        "duration": 4,
        "start_time": "2022-01-14T23:16:09.607Z"
      },
      {
        "duration": 43,
        "start_time": "2022-01-14T23:31:51.239Z"
      },
      {
        "duration": 384,
        "start_time": "2022-01-14T23:31:59.830Z"
      },
      {
        "duration": 17,
        "start_time": "2022-01-14T23:32:30.034Z"
      },
      {
        "duration": 272,
        "start_time": "2022-01-14T23:32:33.058Z"
      },
      {
        "duration": 7,
        "start_time": "2022-01-14T23:33:16.973Z"
      },
      {
        "duration": 275,
        "start_time": "2022-01-14T23:33:22.444Z"
      },
      {
        "duration": 19,
        "start_time": "2022-01-14T23:33:28.475Z"
      },
      {
        "duration": 9,
        "start_time": "2022-01-14T23:33:39.602Z"
      },
      {
        "duration": 20,
        "start_time": "2022-01-14T23:33:48.586Z"
      },
      {
        "duration": 266,
        "start_time": "2022-01-14T23:34:53.845Z"
      },
      {
        "duration": 1511,
        "start_time": "2022-01-14T23:35:16.424Z"
      },
      {
        "duration": 34,
        "start_time": "2022-01-14T23:44:12.010Z"
      },
      {
        "duration": 15,
        "start_time": "2022-01-14T23:44:12.046Z"
      },
      {
        "duration": 29,
        "start_time": "2022-01-14T23:44:12.070Z"
      },
      {
        "duration": 16,
        "start_time": "2022-01-14T23:44:12.102Z"
      },
      {
        "duration": 11,
        "start_time": "2022-01-14T23:44:12.119Z"
      },
      {
        "duration": 552,
        "start_time": "2022-01-14T23:44:12.133Z"
      },
      {
        "duration": -870,
        "start_time": "2022-01-14T23:44:13.558Z"
      },
      {
        "duration": -873,
        "start_time": "2022-01-14T23:44:13.562Z"
      },
      {
        "duration": -872,
        "start_time": "2022-01-14T23:44:13.563Z"
      },
      {
        "duration": -872,
        "start_time": "2022-01-14T23:44:13.564Z"
      },
      {
        "duration": -871,
        "start_time": "2022-01-14T23:44:13.565Z"
      },
      {
        "duration": 927,
        "start_time": "2022-01-14T23:49:28.059Z"
      },
      {
        "duration": 10,
        "start_time": "2022-01-14T23:49:28.988Z"
      },
      {
        "duration": 36,
        "start_time": "2022-01-14T23:49:29.002Z"
      },
      {
        "duration": 14,
        "start_time": "2022-01-14T23:49:29.040Z"
      },
      {
        "duration": 5,
        "start_time": "2022-01-14T23:49:29.056Z"
      },
      {
        "duration": 8,
        "start_time": "2022-01-14T23:49:29.062Z"
      },
      {
        "duration": 27,
        "start_time": "2022-01-14T23:49:29.071Z"
      },
      {
        "duration": 5,
        "start_time": "2022-01-14T23:49:29.101Z"
      },
      {
        "duration": 384,
        "start_time": "2022-01-14T23:49:29.110Z"
      },
      {
        "duration": -872,
        "start_time": "2022-01-14T23:49:30.368Z"
      },
      {
        "duration": -870,
        "start_time": "2022-01-14T23:49:30.368Z"
      },
      {
        "duration": -879,
        "start_time": "2022-01-14T23:49:30.378Z"
      },
      {
        "duration": 30,
        "start_time": "2022-01-14T23:49:44.213Z"
      },
      {
        "duration": 304,
        "start_time": "2022-01-14T23:50:26.409Z"
      },
      {
        "duration": 9,
        "start_time": "2022-01-15T00:04:20.903Z"
      },
      {
        "duration": 4,
        "start_time": "2022-01-15T00:04:24.553Z"
      },
      {
        "duration": 2,
        "start_time": "2022-01-15T00:04:35.830Z"
      },
      {
        "duration": 37,
        "start_time": "2022-01-15T00:05:06.389Z"
      },
      {
        "duration": 42,
        "start_time": "2022-01-15T00:05:31.151Z"
      },
      {
        "duration": 60,
        "start_time": "2022-01-15T00:05:53.158Z"
      },
      {
        "duration": 9,
        "start_time": "2022-01-15T00:11:22.025Z"
      },
      {
        "duration": 280,
        "start_time": "2022-01-15T00:11:23.764Z"
      },
      {
        "duration": 2,
        "start_time": "2022-01-15T00:17:57.029Z"
      },
      {
        "duration": 19,
        "start_time": "2022-01-15T00:17:58.301Z"
      },
      {
        "duration": 177,
        "start_time": "2022-01-15T00:20:58.329Z"
      },
      {
        "duration": 36,
        "start_time": "2022-01-15T00:21:11.777Z"
      },
      {
        "duration": 10,
        "start_time": "2022-01-15T00:40:36.500Z"
      },
      {
        "duration": 6,
        "start_time": "2022-01-15T00:42:04.285Z"
      },
      {
        "duration": 4,
        "start_time": "2022-01-15T00:42:10.522Z"
      },
      {
        "duration": 4,
        "start_time": "2022-01-15T00:42:15.629Z"
      },
      {
        "duration": 6,
        "start_time": "2022-01-15T00:51:33.789Z"
      },
      {
        "duration": 7,
        "start_time": "2022-01-15T00:52:28.469Z"
      },
      {
        "duration": 3,
        "start_time": "2022-01-15T00:52:30.421Z"
      },
      {
        "duration": 8,
        "start_time": "2022-01-15T00:55:06.815Z"
      },
      {
        "duration": 8,
        "start_time": "2022-01-15T00:56:04.152Z"
      },
      {
        "duration": 296,
        "start_time": "2022-01-15T00:56:10.641Z"
      },
      {
        "duration": 4,
        "start_time": "2022-01-15T00:56:21.400Z"
      },
      {
        "duration": 48,
        "start_time": "2022-01-15T00:56:25.828Z"
      },
      {
        "duration": 7,
        "start_time": "2022-01-15T00:56:55.970Z"
      },
      {
        "duration": 3,
        "start_time": "2022-01-15T00:57:46.694Z"
      },
      {
        "duration": 231,
        "start_time": "2022-01-15T00:57:49.179Z"
      },
      {
        "duration": 8,
        "start_time": "2022-01-15T00:57:55.478Z"
      },
      {
        "duration": 3,
        "start_time": "2022-01-15T00:58:08.866Z"
      },
      {
        "duration": 27,
        "start_time": "2022-01-15T00:58:08.870Z"
      },
      {
        "duration": 6,
        "start_time": "2022-01-15T00:58:13.570Z"
      },
      {
        "duration": 55,
        "start_time": "2022-01-15T00:59:55.681Z"
      },
      {
        "duration": 229,
        "start_time": "2022-01-15T01:01:47.932Z"
      },
      {
        "duration": 33,
        "start_time": "2022-01-15T01:02:30.804Z"
      },
      {
        "duration": 287,
        "start_time": "2022-01-15T01:06:41.125Z"
      },
      {
        "duration": 52,
        "start_time": "2022-01-15T01:11:33.602Z"
      },
      {
        "duration": 25,
        "start_time": "2022-01-15T01:16:50.869Z"
      },
      {
        "duration": 232,
        "start_time": "2022-01-15T01:16:54.983Z"
      },
      {
        "duration": 11,
        "start_time": "2022-01-15T01:16:58.766Z"
      },
      {
        "duration": 3,
        "start_time": "2022-01-15T01:23:48.818Z"
      },
      {
        "duration": 9,
        "start_time": "2022-01-15T01:28:46.505Z"
      },
      {
        "duration": 5,
        "start_time": "2022-01-15T01:33:22.745Z"
      },
      {
        "duration": 262,
        "start_time": "2022-01-15T01:38:35.382Z"
      },
      {
        "duration": 6,
        "start_time": "2022-01-15T01:39:16.928Z"
      },
      {
        "duration": 6,
        "start_time": "2022-01-15T01:40:31.858Z"
      },
      {
        "duration": 6,
        "start_time": "2022-01-15T01:41:27.286Z"
      },
      {
        "duration": 6,
        "start_time": "2022-01-15T01:41:50.115Z"
      },
      {
        "duration": 884,
        "start_time": "2022-01-15T01:42:38.799Z"
      },
      {
        "duration": 11,
        "start_time": "2022-01-15T01:42:39.685Z"
      },
      {
        "duration": 30,
        "start_time": "2022-01-15T01:42:39.700Z"
      },
      {
        "duration": 16,
        "start_time": "2022-01-15T01:42:39.731Z"
      },
      {
        "duration": 6,
        "start_time": "2022-01-15T01:42:39.749Z"
      },
      {
        "duration": 5,
        "start_time": "2022-01-15T01:42:39.756Z"
      },
      {
        "duration": 5,
        "start_time": "2022-01-15T01:42:39.763Z"
      },
      {
        "duration": 3,
        "start_time": "2022-01-15T01:42:39.800Z"
      },
      {
        "duration": 379,
        "start_time": "2022-01-15T01:42:39.805Z"
      },
      {
        "duration": -832,
        "start_time": "2022-01-15T01:42:41.018Z"
      },
      {
        "duration": -833,
        "start_time": "2022-01-15T01:42:41.020Z"
      },
      {
        "duration": -833,
        "start_time": "2022-01-15T01:42:41.021Z"
      },
      {
        "duration": -834,
        "start_time": "2022-01-15T01:42:41.023Z"
      },
      {
        "duration": -840,
        "start_time": "2022-01-15T01:42:41.030Z"
      },
      {
        "duration": -841,
        "start_time": "2022-01-15T01:42:41.032Z"
      },
      {
        "duration": -841,
        "start_time": "2022-01-15T01:42:41.033Z"
      },
      {
        "duration": -842,
        "start_time": "2022-01-15T01:42:41.034Z"
      },
      {
        "duration": -842,
        "start_time": "2022-01-15T01:42:41.035Z"
      },
      {
        "duration": -842,
        "start_time": "2022-01-15T01:42:41.036Z"
      },
      {
        "duration": -842,
        "start_time": "2022-01-15T01:42:41.037Z"
      },
      {
        "duration": 889,
        "start_time": "2022-01-15T01:43:43.379Z"
      },
      {
        "duration": 10,
        "start_time": "2022-01-15T01:43:44.270Z"
      },
      {
        "duration": 36,
        "start_time": "2022-01-15T01:43:44.282Z"
      },
      {
        "duration": 17,
        "start_time": "2022-01-15T01:43:44.319Z"
      },
      {
        "duration": 6,
        "start_time": "2022-01-15T01:43:44.338Z"
      },
      {
        "duration": 5,
        "start_time": "2022-01-15T01:43:44.346Z"
      },
      {
        "duration": 6,
        "start_time": "2022-01-15T01:43:44.352Z"
      },
      {
        "duration": 4,
        "start_time": "2022-01-15T01:43:44.359Z"
      },
      {
        "duration": 53,
        "start_time": "2022-01-15T01:43:44.366Z"
      },
      {
        "duration": 47,
        "start_time": "2022-01-15T01:43:44.420Z"
      },
      {
        "duration": 9,
        "start_time": "2022-01-15T01:43:44.469Z"
      },
      {
        "duration": 361,
        "start_time": "2022-01-15T01:43:44.499Z"
      },
      {
        "duration": -926,
        "start_time": "2022-01-15T01:43:45.788Z"
      },
      {
        "duration": -931,
        "start_time": "2022-01-15T01:43:45.794Z"
      },
      {
        "duration": -931,
        "start_time": "2022-01-15T01:43:45.795Z"
      },
      {
        "duration": -932,
        "start_time": "2022-01-15T01:43:45.797Z"
      },
      {
        "duration": -932,
        "start_time": "2022-01-15T01:43:45.798Z"
      },
      {
        "duration": -934,
        "start_time": "2022-01-15T01:43:45.801Z"
      },
      {
        "duration": -934,
        "start_time": "2022-01-15T01:43:45.802Z"
      },
      {
        "duration": 220,
        "start_time": "2022-01-15T01:45:28.320Z"
      },
      {
        "duration": 19,
        "start_time": "2022-01-15T01:45:40.491Z"
      },
      {
        "duration": 10,
        "start_time": "2022-01-15T01:45:40.511Z"
      },
      {
        "duration": 21,
        "start_time": "2022-01-15T01:45:40.523Z"
      },
      {
        "duration": 15,
        "start_time": "2022-01-15T01:45:40.546Z"
      },
      {
        "duration": 6,
        "start_time": "2022-01-15T01:45:40.562Z"
      },
      {
        "duration": 4,
        "start_time": "2022-01-15T01:45:40.569Z"
      },
      {
        "duration": 3,
        "start_time": "2022-01-15T01:45:40.598Z"
      },
      {
        "duration": 4,
        "start_time": "2022-01-15T01:45:40.603Z"
      },
      {
        "duration": 3,
        "start_time": "2022-01-15T01:45:40.610Z"
      },
      {
        "duration": 48,
        "start_time": "2022-01-15T01:45:40.615Z"
      },
      {
        "duration": 3,
        "start_time": "2022-01-15T01:45:40.665Z"
      },
      {
        "duration": 245,
        "start_time": "2022-01-15T01:45:40.669Z"
      },
      {
        "duration": 3,
        "start_time": "2022-01-15T01:45:40.915Z"
      },
      {
        "duration": 26,
        "start_time": "2022-01-15T01:45:40.919Z"
      },
      {
        "duration": 11,
        "start_time": "2022-01-15T01:45:40.946Z"
      },
      {
        "duration": 9,
        "start_time": "2022-01-15T01:45:40.958Z"
      },
      {
        "duration": 30,
        "start_time": "2022-01-15T01:45:40.969Z"
      },
      {
        "duration": 8,
        "start_time": "2022-01-15T01:45:41.001Z"
      },
      {
        "duration": 7,
        "start_time": "2022-01-15T01:45:41.010Z"
      },
      {
        "duration": 282,
        "start_time": "2022-01-15T02:00:25.966Z"
      },
      {
        "duration": 6,
        "start_time": "2022-01-15T02:02:16.084Z"
      },
      {
        "duration": 1057,
        "start_time": "2022-01-15T09:03:39.800Z"
      },
      {
        "duration": 7,
        "start_time": "2022-01-15T09:03:41.063Z"
      },
      {
        "duration": 29,
        "start_time": "2022-01-15T09:03:44.083Z"
      },
      {
        "duration": 15,
        "start_time": "2022-01-15T09:03:47.331Z"
      },
      {
        "duration": 7,
        "start_time": "2022-01-15T09:24:55.180Z"
      },
      {
        "duration": 5,
        "start_time": "2022-01-15T09:24:57.517Z"
      },
      {
        "duration": 5,
        "start_time": "2022-01-15T09:26:01.440Z"
      },
      {
        "duration": 6,
        "start_time": "2022-01-15T09:26:13.018Z"
      },
      {
        "duration": 4,
        "start_time": "2022-01-15T09:26:16.961Z"
      },
      {
        "duration": 28,
        "start_time": "2022-01-15T09:33:26.224Z"
      },
      {
        "duration": 58,
        "start_time": "2022-01-15T09:34:22.054Z"
      },
      {
        "duration": 10,
        "start_time": "2022-01-15T09:42:54.500Z"
      },
      {
        "duration": 229,
        "start_time": "2022-01-15T09:42:56.197Z"
      },
      {
        "duration": 225,
        "start_time": "2022-01-15T09:45:37.985Z"
      },
      {
        "duration": 248,
        "start_time": "2022-01-15T09:45:51.967Z"
      },
      {
        "duration": 2,
        "start_time": "2022-01-15T09:46:18.028Z"
      },
      {
        "duration": 3,
        "start_time": "2022-01-15T09:46:52.722Z"
      },
      {
        "duration": 26,
        "start_time": "2022-01-15T09:46:55.645Z"
      },
      {
        "duration": 13,
        "start_time": "2022-01-15T09:51:30.957Z"
      },
      {
        "duration": 2,
        "start_time": "2022-01-15T09:55:29.102Z"
      },
      {
        "duration": 5,
        "start_time": "2022-01-15T09:55:36.892Z"
      },
      {
        "duration": 3,
        "start_time": "2022-01-15T09:56:38.332Z"
      },
      {
        "duration": 6,
        "start_time": "2022-01-15T09:56:38.972Z"
      },
      {
        "duration": 9,
        "start_time": "2022-01-15T09:56:39.531Z"
      },
      {
        "duration": 1323,
        "start_time": "2022-01-15T11:01:21.204Z"
      },
      {
        "duration": 9,
        "start_time": "2022-01-15T11:01:22.530Z"
      },
      {
        "duration": 51,
        "start_time": "2022-01-15T11:01:22.542Z"
      },
      {
        "duration": 21,
        "start_time": "2022-01-15T11:01:23.196Z"
      },
      {
        "duration": 12,
        "start_time": "2022-01-15T11:02:34.004Z"
      },
      {
        "duration": 5,
        "start_time": "2022-01-15T11:02:34.672Z"
      },
      {
        "duration": 41,
        "start_time": "2022-01-15T11:07:49.138Z"
      },
      {
        "duration": 80,
        "start_time": "2022-01-15T11:07:50.689Z"
      },
      {
        "duration": 14,
        "start_time": "2022-01-15T11:08:25.314Z"
      },
      {
        "duration": 347,
        "start_time": "2022-01-15T11:08:26.298Z"
      },
      {
        "duration": 3,
        "start_time": "2022-01-15T11:08:51.667Z"
      },
      {
        "duration": 41,
        "start_time": "2022-01-15T11:08:52.128Z"
      },
      {
        "duration": 23,
        "start_time": "2022-01-15T11:09:51.324Z"
      },
      {
        "duration": 4,
        "start_time": "2022-01-15T11:11:05.657Z"
      },
      {
        "duration": 8,
        "start_time": "2022-01-15T11:11:06.147Z"
      },
      {
        "duration": 19,
        "start_time": "2022-01-15T11:11:06.321Z"
      },
      {
        "duration": 14,
        "start_time": "2022-01-15T11:11:06.665Z"
      },
      {
        "duration": 915,
        "start_time": "2022-01-15T18:25:13.670Z"
      },
      {
        "duration": 7,
        "start_time": "2022-01-15T18:25:15.013Z"
      },
      {
        "duration": 25,
        "start_time": "2022-01-15T18:25:16.778Z"
      },
      {
        "duration": 13,
        "start_time": "2022-01-15T18:25:18.270Z"
      },
      {
        "duration": 7,
        "start_time": "2022-01-15T18:25:24.743Z"
      },
      {
        "duration": 5,
        "start_time": "2022-01-15T18:25:25.423Z"
      },
      {
        "duration": 26,
        "start_time": "2022-01-15T18:25:29.704Z"
      },
      {
        "duration": 51,
        "start_time": "2022-01-15T18:25:30.902Z"
      },
      {
        "duration": 8,
        "start_time": "2022-01-15T18:25:33.981Z"
      },
      {
        "duration": 197,
        "start_time": "2022-01-15T18:25:34.548Z"
      },
      {
        "duration": 2,
        "start_time": "2022-01-15T18:25:37.658Z"
      },
      {
        "duration": 21,
        "start_time": "2022-01-15T18:25:38.117Z"
      },
      {
        "duration": 11,
        "start_time": "2022-01-15T18:25:41.428Z"
      },
      {
        "duration": 678,
        "start_time": "2022-01-15T18:25:44.876Z"
      },
      {
        "duration": 1222,
        "start_time": "2022-01-15T18:26:17.291Z"
      },
      {
        "duration": 3310,
        "start_time": "2022-01-15T18:34:00.939Z"
      },
      {
        "duration": 3151,
        "start_time": "2022-01-15T18:35:09.432Z"
      }
    ],
    "kernelspec": {
      "display_name": "Python 3 (ipykernel)",
      "language": "python",
      "name": "python3"
    },
    "language_info": {
      "codemirror_mode": {
        "name": "ipython",
        "version": 3
      },
      "file_extension": ".py",
      "mimetype": "text/x-python",
      "name": "python",
      "nbconvert_exporter": "python",
      "pygments_lexer": "ipython3",
      "version": "3.9.7"
    },
    "toc": {
      "base_numbering": 1,
      "nav_menu": {},
      "number_sections": true,
      "sideBar": true,
      "skip_h1_title": true,
      "title_cell": "Table of Contents",
      "title_sidebar": "Contents",
      "toc_cell": false,
      "toc_position": {},
      "toc_section_display": true,
      "toc_window_display": false
    },
    "colab": {
      "name": "ApartmentExample.ipynb",
      "provenance": [],
      "collapsed_sections": [],
      "include_colab_link": true
    }
  },
  "nbformat": 4,
  "nbformat_minor": 0
}