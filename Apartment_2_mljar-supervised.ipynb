{
  "cells": [
    {
      "cell_type": "markdown",
      "metadata": {
        "id": "view-in-github",
        "colab_type": "text"
      },
      "source": [
        "<a href=\"https://colab.research.google.com/github/mihnin/mihnin/blob/master/Apartment_2_mljar-supervised.ipynb\" target=\"_parent\"><img src=\"https://colab.research.google.com/assets/colab-badge.svg\" alt=\"Open In Colab\"/></a>"
      ]
    },
    {
      "cell_type": "markdown",
      "metadata": {
        "id": "mGhQTyj01qAB"
      },
      "source": [
        "# Описание проекта\n",
        "В вашем распоряжении данные сервиса Яндекс.Недвижимость — архив объявлений о продаже квартир в Санкт-Петербурге и соседних населённых пунктах. Нужно научиться определять рыночную стоимость объектов недвижимости с применением машинного обучения.\n"
      ]
    },
    {
      "cell_type": "markdown",
      "metadata": {
        "id": "i_0f1Jrv1qAG"
      },
      "source": [
        "## Откроем и изучем наш датасет по недвижимости"
      ]
    },
    {
      "cell_type": "code",
      "source": [
        "!pip install pandas -U"
      ],
      "metadata": {
        "colab": {
          "base_uri": "https://localhost:8080/"
        },
        "id": "eAcQi-yOD9pU",
        "outputId": "cb2446ab-2cf0-4117-fdca-b16424055e37"
      },
      "execution_count": null,
      "outputs": [
        {
          "output_type": "stream",
          "name": "stdout",
          "text": [
            "Requirement already satisfied: pandas in /usr/local/lib/python3.7/dist-packages (1.3.5)\n",
            "Requirement already satisfied: pytz>=2017.3 in /usr/local/lib/python3.7/dist-packages (from pandas) (2018.9)\n",
            "Requirement already satisfied: numpy>=1.17.3 in /usr/local/lib/python3.7/dist-packages (from pandas) (1.19.5)\n",
            "Requirement already satisfied: python-dateutil>=2.7.3 in /usr/local/lib/python3.7/dist-packages (from pandas) (2.8.2)\n",
            "Requirement already satisfied: six>=1.5 in /usr/local/lib/python3.7/dist-packages (from python-dateutil>=2.7.3->pandas) (1.15.0)\n"
          ]
        }
      ]
    },
    {
      "cell_type": "code",
      "source": [
        "!pip install mljar-supervised"
      ],
      "metadata": {
        "colab": {
          "base_uri": "https://localhost:8080/"
        },
        "id": "lplCNaSXAB8K",
        "outputId": "4e17748e-6a9a-4352-c985-16326c81d834"
      },
      "execution_count": null,
      "outputs": [
        {
          "output_type": "stream",
          "name": "stdout",
          "text": [
            "Requirement already satisfied: mljar-supervised in /usr/local/lib/python3.7/dist-packages (0.11.1)\n",
            "Requirement already satisfied: scikit-plot==0.3.7 in /usr/local/lib/python3.7/dist-packages (from mljar-supervised) (0.3.7)\n",
            "Requirement already satisfied: pandas>=1.2.0 in /usr/local/lib/python3.7/dist-packages (from mljar-supervised) (1.3.5)\n",
            "Requirement already satisfied: catboost>=0.24.4 in /usr/local/lib/python3.7/dist-packages (from mljar-supervised) (1.0.4)\n",
            "Requirement already satisfied: optuna>=2.7.0 in /usr/local/lib/python3.7/dist-packages (from mljar-supervised) (2.10.0)\n",
            "Requirement already satisfied: shap==0.36.0 in /usr/local/lib/python3.7/dist-packages (from mljar-supervised) (0.36.0)\n",
            "Requirement already satisfied: markdown in /usr/local/lib/python3.7/dist-packages (from mljar-supervised) (3.3.6)\n",
            "Requirement already satisfied: numba==0.53.0 in /usr/local/lib/python3.7/dist-packages (from mljar-supervised) (0.53.0)\n",
            "Requirement already satisfied: category-encoders>=2.2.2 in /usr/local/lib/python3.7/dist-packages (from mljar-supervised) (2.3.0)\n",
            "Requirement already satisfied: scikit-learn>=0.24.2 in /usr/local/lib/python3.7/dist-packages (from mljar-supervised) (1.0.2)\n",
            "Requirement already satisfied: matplotlib>=3.2.2 in /usr/local/lib/python3.7/dist-packages (from mljar-supervised) (3.2.2)\n",
            "Requirement already satisfied: xgboost>=1.3.3 in /usr/local/lib/python3.7/dist-packages (from mljar-supervised) (1.5.2)\n",
            "Requirement already satisfied: wordcloud>=1.8.1 in /usr/local/lib/python3.7/dist-packages (from mljar-supervised) (1.8.1)\n",
            "Requirement already satisfied: dtreeviz>=1.3 in /usr/local/lib/python3.7/dist-packages (from mljar-supervised) (1.3.2)\n",
            "Requirement already satisfied: numpy>=1.19.5 in /usr/local/lib/python3.7/dist-packages (from mljar-supervised) (1.19.5)\n",
            "Requirement already satisfied: lightgbm>=3.0.0 in /usr/local/lib/python3.7/dist-packages (from mljar-supervised) (3.3.2)\n",
            "Requirement already satisfied: joblib>=1.0.1 in /usr/local/lib/python3.7/dist-packages (from mljar-supervised) (1.1.0)\n",
            "Requirement already satisfied: tabulate>=0.8.7 in /usr/local/lib/python3.7/dist-packages (from mljar-supervised) (0.8.9)\n",
            "Requirement already satisfied: scipy>=1.6.1 in /usr/local/lib/python3.7/dist-packages (from mljar-supervised) (1.7.3)\n",
            "Requirement already satisfied: seaborn>=0.11.1 in /usr/local/lib/python3.7/dist-packages (from mljar-supervised) (0.11.2)\n",
            "Requirement already satisfied: setuptools in /usr/local/lib/python3.7/dist-packages (from numba==0.53.0->mljar-supervised) (57.4.0)\n",
            "Requirement already satisfied: llvmlite<0.37,>=0.36.0rc1 in /usr/local/lib/python3.7/dist-packages (from numba==0.53.0->mljar-supervised) (0.36.0)\n",
            "Requirement already satisfied: tqdm>4.25.0 in /usr/local/lib/python3.7/dist-packages (from shap==0.36.0->mljar-supervised) (4.62.3)\n",
            "Requirement already satisfied: slicer in /usr/local/lib/python3.7/dist-packages (from shap==0.36.0->mljar-supervised) (0.0.7)\n",
            "Requirement already satisfied: graphviz in /usr/local/lib/python3.7/dist-packages (from catboost>=0.24.4->mljar-supervised) (0.10.1)\n",
            "Requirement already satisfied: plotly in /usr/local/lib/python3.7/dist-packages (from catboost>=0.24.4->mljar-supervised) (4.4.1)\n",
            "Requirement already satisfied: six in /usr/local/lib/python3.7/dist-packages (from catboost>=0.24.4->mljar-supervised) (1.15.0)\n",
            "Requirement already satisfied: patsy>=0.5.1 in /usr/local/lib/python3.7/dist-packages (from category-encoders>=2.2.2->mljar-supervised) (0.5.2)\n",
            "Requirement already satisfied: statsmodels>=0.9.0 in /usr/local/lib/python3.7/dist-packages (from category-encoders>=2.2.2->mljar-supervised) (0.10.2)\n",
            "Requirement already satisfied: pytest in /usr/local/lib/python3.7/dist-packages (from dtreeviz>=1.3->mljar-supervised) (3.6.4)\n",
            "Requirement already satisfied: colour in /usr/local/lib/python3.7/dist-packages (from dtreeviz>=1.3->mljar-supervised) (0.1.5)\n",
            "Requirement already satisfied: wheel in /usr/local/lib/python3.7/dist-packages (from lightgbm>=3.0.0->mljar-supervised) (0.37.1)\n",
            "Requirement already satisfied: pyparsing!=2.0.4,!=2.1.2,!=2.1.6,>=2.0.1 in /usr/local/lib/python3.7/dist-packages (from matplotlib>=3.2.2->mljar-supervised) (3.0.6)\n",
            "Requirement already satisfied: kiwisolver>=1.0.1 in /usr/local/lib/python3.7/dist-packages (from matplotlib>=3.2.2->mljar-supervised) (1.3.2)\n",
            "Requirement already satisfied: python-dateutil>=2.1 in /usr/local/lib/python3.7/dist-packages (from matplotlib>=3.2.2->mljar-supervised) (2.8.2)\n",
            "Requirement already satisfied: cycler>=0.10 in /usr/local/lib/python3.7/dist-packages (from matplotlib>=3.2.2->mljar-supervised) (0.11.0)\n",
            "Requirement already satisfied: cliff in /usr/local/lib/python3.7/dist-packages (from optuna>=2.7.0->mljar-supervised) (3.10.0)\n",
            "Requirement already satisfied: cmaes>=0.8.2 in /usr/local/lib/python3.7/dist-packages (from optuna>=2.7.0->mljar-supervised) (0.8.2)\n",
            "Requirement already satisfied: sqlalchemy>=1.1.0 in /usr/local/lib/python3.7/dist-packages (from optuna>=2.7.0->mljar-supervised) (1.4.29)\n",
            "Requirement already satisfied: packaging>=20.0 in /usr/local/lib/python3.7/dist-packages (from optuna>=2.7.0->mljar-supervised) (21.3)\n",
            "Requirement already satisfied: alembic in /usr/local/lib/python3.7/dist-packages (from optuna>=2.7.0->mljar-supervised) (1.7.5)\n",
            "Requirement already satisfied: colorlog in /usr/local/lib/python3.7/dist-packages (from optuna>=2.7.0->mljar-supervised) (6.6.0)\n",
            "Requirement already satisfied: PyYAML in /usr/local/lib/python3.7/dist-packages (from optuna>=2.7.0->mljar-supervised) (3.13)\n",
            "Requirement already satisfied: pytz>=2017.3 in /usr/local/lib/python3.7/dist-packages (from pandas>=1.2.0->mljar-supervised) (2018.9)\n",
            "Requirement already satisfied: threadpoolctl>=2.0.0 in /usr/local/lib/python3.7/dist-packages (from scikit-learn>=0.24.2->mljar-supervised) (3.0.0)\n",
            "Requirement already satisfied: importlib-metadata in /usr/local/lib/python3.7/dist-packages (from sqlalchemy>=1.1.0->optuna>=2.7.0->mljar-supervised) (4.10.0)\n",
            "Requirement already satisfied: greenlet!=0.4.17 in /usr/local/lib/python3.7/dist-packages (from sqlalchemy>=1.1.0->optuna>=2.7.0->mljar-supervised) (1.1.2)\n",
            "Requirement already satisfied: pillow in /usr/local/lib/python3.7/dist-packages (from wordcloud>=1.8.1->mljar-supervised) (7.1.2)\n",
            "Requirement already satisfied: Mako in /usr/local/lib/python3.7/dist-packages (from alembic->optuna>=2.7.0->mljar-supervised) (1.1.6)\n",
            "Requirement already satisfied: importlib-resources in /usr/local/lib/python3.7/dist-packages (from alembic->optuna>=2.7.0->mljar-supervised) (5.4.0)\n",
            "Requirement already satisfied: PrettyTable>=0.7.2 in /usr/local/lib/python3.7/dist-packages (from cliff->optuna>=2.7.0->mljar-supervised) (3.0.0)\n",
            "Requirement already satisfied: autopage>=0.4.0 in /usr/local/lib/python3.7/dist-packages (from cliff->optuna>=2.7.0->mljar-supervised) (0.5.0)\n",
            "Requirement already satisfied: pbr!=2.1.0,>=2.0.0 in /usr/local/lib/python3.7/dist-packages (from cliff->optuna>=2.7.0->mljar-supervised) (5.8.0)\n",
            "Requirement already satisfied: stevedore>=2.0.1 in /usr/local/lib/python3.7/dist-packages (from cliff->optuna>=2.7.0->mljar-supervised) (3.5.0)\n",
            "Requirement already satisfied: cmd2>=1.0.0 in /usr/local/lib/python3.7/dist-packages (from cliff->optuna>=2.7.0->mljar-supervised) (2.3.3)\n",
            "Requirement already satisfied: attrs>=16.3.0 in /usr/local/lib/python3.7/dist-packages (from cmd2>=1.0.0->cliff->optuna>=2.7.0->mljar-supervised) (21.4.0)\n",
            "Requirement already satisfied: pyperclip>=1.6 in /usr/local/lib/python3.7/dist-packages (from cmd2>=1.0.0->cliff->optuna>=2.7.0->mljar-supervised) (1.8.2)\n",
            "Requirement already satisfied: wcwidth>=0.1.7 in /usr/local/lib/python3.7/dist-packages (from cmd2>=1.0.0->cliff->optuna>=2.7.0->mljar-supervised) (0.2.5)\n",
            "Requirement already satisfied: typing-extensions in /usr/local/lib/python3.7/dist-packages (from cmd2>=1.0.0->cliff->optuna>=2.7.0->mljar-supervised) (3.10.0.2)\n",
            "Requirement already satisfied: zipp>=0.5 in /usr/local/lib/python3.7/dist-packages (from importlib-metadata->sqlalchemy>=1.1.0->optuna>=2.7.0->mljar-supervised) (3.7.0)\n",
            "Requirement already satisfied: MarkupSafe>=0.9.2 in /usr/local/lib/python3.7/dist-packages (from Mako->alembic->optuna>=2.7.0->mljar-supervised) (2.0.1)\n",
            "Requirement already satisfied: retrying>=1.3.3 in /usr/local/lib/python3.7/dist-packages (from plotly->catboost>=0.24.4->mljar-supervised) (1.3.3)\n",
            "Requirement already satisfied: pluggy<0.8,>=0.5 in /usr/local/lib/python3.7/dist-packages (from pytest->dtreeviz>=1.3->mljar-supervised) (0.7.1)\n",
            "Requirement already satisfied: py>=1.5.0 in /usr/local/lib/python3.7/dist-packages (from pytest->dtreeviz>=1.3->mljar-supervised) (1.11.0)\n",
            "Requirement already satisfied: more-itertools>=4.0.0 in /usr/local/lib/python3.7/dist-packages (from pytest->dtreeviz>=1.3->mljar-supervised) (8.12.0)\n",
            "Requirement already satisfied: atomicwrites>=1.0 in /usr/local/lib/python3.7/dist-packages (from pytest->dtreeviz>=1.3->mljar-supervised) (1.4.0)\n"
          ]
        }
      ]
    },
    {
      "cell_type": "code",
      "source": [
        "from google.colab import drive\n",
        "drive.mount('/content/gdrive', force_remount=True)"
      ],
      "metadata": {
        "colab": {
          "base_uri": "https://localhost:8080/"
        },
        "outputId": "aa67dba9-25a3-409e-fdf8-c449c0e95eb0",
        "id": "2ZrLJpzyB4Xs"
      },
      "execution_count": null,
      "outputs": [
        {
          "output_type": "stream",
          "name": "stdout",
          "text": [
            "Mounted at /content/gdrive\n"
          ]
        }
      ]
    },
    {
      "cell_type": "code",
      "source": [
        "pip install pandas --upgrade"
      ],
      "metadata": {
        "colab": {
          "base_uri": "https://localhost:8080/"
        },
        "id": "Gy6Fl-MoIkqv",
        "outputId": "134f5f08-ec3d-47aa-aa39-5d0a92a45855"
      },
      "execution_count": null,
      "outputs": [
        {
          "output_type": "stream",
          "name": "stdout",
          "text": [
            "Requirement already satisfied: pandas in /usr/local/lib/python3.7/dist-packages (1.3.5)\n",
            "Requirement already satisfied: pytz>=2017.3 in /usr/local/lib/python3.7/dist-packages (from pandas) (2018.9)\n",
            "Requirement already satisfied: python-dateutil>=2.7.3 in /usr/local/lib/python3.7/dist-packages (from pandas) (2.8.2)\n",
            "Requirement already satisfied: numpy>=1.17.3 in /usr/local/lib/python3.7/dist-packages (from pandas) (1.19.5)\n",
            "Requirement already satisfied: six>=1.5 in /usr/local/lib/python3.7/dist-packages (from python-dateutil>=2.7.3->pandas) (1.15.0)\n"
          ]
        }
      ]
    },
    {
      "cell_type": "code",
      "source": [
        "import numpy as np\n",
        "import pandas as pd\n",
        "from sklearn.datasets import load_boston\n",
        "from sklearn.model_selection import train_test_split\n",
        "from sklearn.metrics import mean_squared_error\n",
        "from supervised.automl import AutoML # mljar-supervised\n",
        "\n",
        "\n",
        "\n",
        "#file = Path.cwd() / 'data' / 'raw' / 'train_data.csv'\n",
        "file = '/content/gdrive/MyDrive/datasets/apartment_spb/train_data.csv'\n",
        "df = pd.read_csv(file)\n",
        "\n",
        "features = df.drop(['last_price'], axis=1)  # извлекаем целевой признак в целевую переменную\n",
        "target = df['last_price']\n",
        "\n",
        "\n",
        "X_train, X_test, y_train, y_test = train_test_split(features, target, test_size=0.25, random_state=123)\n",
        "\n",
        "automl = AutoML(ml_task='regression', mode='Optuna')\n",
        "automl.fit(X_train, y_train)\n",
        "\n",
        "predictions = automl.predict(X_test)\n",
        "print(\"Test MSE:\", mean_squared_error(y_test, predictions))"
      ],
      "metadata": {
        "colab": {
          "base_uri": "https://localhost:8080/"
        },
        "id": "cAqD_qaUBtA1",
        "outputId": "d98f0871-9d28-4f2c-fd93-d14e52bea63a"
      },
      "execution_count": null,
      "outputs": [
        {
          "output_type": "stream",
          "name": "stdout",
          "text": [
            "6_Optuna_ExtraTrees rmse 8489794.712762 trained in 78.82 seconds\n",
            "* Step ensemble will try to check up to 1 model\n",
            "Ensemble rmse 7687598.063944 trained in 0.28 seconds\n",
            "* Step stack will try to check up to 6 models\n"
          ]
        },
        {
          "output_type": "stream",
          "name": "stderr",
          "text": [
            "/usr/local/lib/python3.7/dist-packages/lightgbm/engine.py:181: UserWarning:\n",
            "\n",
            "'early_stopping_rounds' argument is deprecated and will be removed in a future release of LightGBM. Pass 'early_stopping()' callback via 'callbacks' argument instead.\n",
            "\n",
            "/usr/local/lib/python3.7/dist-packages/lightgbm/engine.py:239: UserWarning:\n",
            "\n",
            "'verbose_eval' argument is deprecated and will be removed in a future release of LightGBM. Pass 'log_evaluation()' callback via 'callbacks' argument instead.\n",
            "\n",
            "/usr/local/lib/python3.7/dist-packages/lightgbm/engine.py:260: UserWarning:\n",
            "\n",
            "'evals_result' argument is deprecated and will be removed in a future release of LightGBM. Pass 'record_evaluation()' callback via 'callbacks' argument instead.\n",
            "\n",
            "/usr/local/lib/python3.7/dist-packages/lightgbm/engine.py:181: UserWarning:\n",
            "\n",
            "'early_stopping_rounds' argument is deprecated and will be removed in a future release of LightGBM. Pass 'early_stopping()' callback via 'callbacks' argument instead.\n",
            "\n",
            "/usr/local/lib/python3.7/dist-packages/lightgbm/engine.py:239: UserWarning:\n",
            "\n",
            "'verbose_eval' argument is deprecated and will be removed in a future release of LightGBM. Pass 'log_evaluation()' callback via 'callbacks' argument instead.\n",
            "\n",
            "/usr/local/lib/python3.7/dist-packages/lightgbm/engine.py:260: UserWarning:\n",
            "\n",
            "'evals_result' argument is deprecated and will be removed in a future release of LightGBM. Pass 'record_evaluation()' callback via 'callbacks' argument instead.\n",
            "\n",
            "/usr/local/lib/python3.7/dist-packages/lightgbm/engine.py:181: UserWarning:\n",
            "\n",
            "'early_stopping_rounds' argument is deprecated and will be removed in a future release of LightGBM. Pass 'early_stopping()' callback via 'callbacks' argument instead.\n",
            "\n",
            "/usr/local/lib/python3.7/dist-packages/lightgbm/engine.py:239: UserWarning:\n",
            "\n",
            "'verbose_eval' argument is deprecated and will be removed in a future release of LightGBM. Pass 'log_evaluation()' callback via 'callbacks' argument instead.\n",
            "\n",
            "/usr/local/lib/python3.7/dist-packages/lightgbm/engine.py:260: UserWarning:\n",
            "\n",
            "'evals_result' argument is deprecated and will be removed in a future release of LightGBM. Pass 'record_evaluation()' callback via 'callbacks' argument instead.\n",
            "\n",
            "/usr/local/lib/python3.7/dist-packages/lightgbm/engine.py:181: UserWarning:\n",
            "\n",
            "'early_stopping_rounds' argument is deprecated and will be removed in a future release of LightGBM. Pass 'early_stopping()' callback via 'callbacks' argument instead.\n",
            "\n",
            "/usr/local/lib/python3.7/dist-packages/lightgbm/engine.py:239: UserWarning:\n",
            "\n",
            "'verbose_eval' argument is deprecated and will be removed in a future release of LightGBM. Pass 'log_evaluation()' callback via 'callbacks' argument instead.\n",
            "\n",
            "/usr/local/lib/python3.7/dist-packages/lightgbm/engine.py:260: UserWarning:\n",
            "\n",
            "'evals_result' argument is deprecated and will be removed in a future release of LightGBM. Pass 'record_evaluation()' callback via 'callbacks' argument instead.\n",
            "\n",
            "/usr/local/lib/python3.7/dist-packages/lightgbm/engine.py:181: UserWarning:\n",
            "\n",
            "'early_stopping_rounds' argument is deprecated and will be removed in a future release of LightGBM. Pass 'early_stopping()' callback via 'callbacks' argument instead.\n",
            "\n",
            "/usr/local/lib/python3.7/dist-packages/lightgbm/engine.py:239: UserWarning:\n",
            "\n",
            "'verbose_eval' argument is deprecated and will be removed in a future release of LightGBM. Pass 'log_evaluation()' callback via 'callbacks' argument instead.\n",
            "\n",
            "/usr/local/lib/python3.7/dist-packages/lightgbm/engine.py:260: UserWarning:\n",
            "\n",
            "'evals_result' argument is deprecated and will be removed in a future release of LightGBM. Pass 'record_evaluation()' callback via 'callbacks' argument instead.\n",
            "\n",
            "/usr/local/lib/python3.7/dist-packages/lightgbm/engine.py:181: UserWarning:\n",
            "\n",
            "'early_stopping_rounds' argument is deprecated and will be removed in a future release of LightGBM. Pass 'early_stopping()' callback via 'callbacks' argument instead.\n",
            "\n",
            "/usr/local/lib/python3.7/dist-packages/lightgbm/engine.py:239: UserWarning:\n",
            "\n",
            "'verbose_eval' argument is deprecated and will be removed in a future release of LightGBM. Pass 'log_evaluation()' callback via 'callbacks' argument instead.\n",
            "\n",
            "/usr/local/lib/python3.7/dist-packages/lightgbm/engine.py:260: UserWarning:\n",
            "\n",
            "'evals_result' argument is deprecated and will be removed in a future release of LightGBM. Pass 'record_evaluation()' callback via 'callbacks' argument instead.\n",
            "\n",
            "/usr/local/lib/python3.7/dist-packages/lightgbm/engine.py:181: UserWarning:\n",
            "\n",
            "'early_stopping_rounds' argument is deprecated and will be removed in a future release of LightGBM. Pass 'early_stopping()' callback via 'callbacks' argument instead.\n",
            "\n",
            "/usr/local/lib/python3.7/dist-packages/lightgbm/engine.py:239: UserWarning:\n",
            "\n",
            "'verbose_eval' argument is deprecated and will be removed in a future release of LightGBM. Pass 'log_evaluation()' callback via 'callbacks' argument instead.\n",
            "\n",
            "/usr/local/lib/python3.7/dist-packages/lightgbm/engine.py:260: UserWarning:\n",
            "\n",
            "'evals_result' argument is deprecated and will be removed in a future release of LightGBM. Pass 'record_evaluation()' callback via 'callbacks' argument instead.\n",
            "\n",
            "/usr/local/lib/python3.7/dist-packages/lightgbm/engine.py:181: UserWarning:\n",
            "\n",
            "'early_stopping_rounds' argument is deprecated and will be removed in a future release of LightGBM. Pass 'early_stopping()' callback via 'callbacks' argument instead.\n",
            "\n",
            "/usr/local/lib/python3.7/dist-packages/lightgbm/engine.py:239: UserWarning:\n",
            "\n",
            "'verbose_eval' argument is deprecated and will be removed in a future release of LightGBM. Pass 'log_evaluation()' callback via 'callbacks' argument instead.\n",
            "\n",
            "/usr/local/lib/python3.7/dist-packages/lightgbm/engine.py:260: UserWarning:\n",
            "\n",
            "'evals_result' argument is deprecated and will be removed in a future release of LightGBM. Pass 'record_evaluation()' callback via 'callbacks' argument instead.\n",
            "\n",
            "/usr/local/lib/python3.7/dist-packages/lightgbm/engine.py:181: UserWarning:\n",
            "\n",
            "'early_stopping_rounds' argument is deprecated and will be removed in a future release of LightGBM. Pass 'early_stopping()' callback via 'callbacks' argument instead.\n",
            "\n",
            "/usr/local/lib/python3.7/dist-packages/lightgbm/engine.py:239: UserWarning:\n",
            "\n",
            "'verbose_eval' argument is deprecated and will be removed in a future release of LightGBM. Pass 'log_evaluation()' callback via 'callbacks' argument instead.\n",
            "\n",
            "/usr/local/lib/python3.7/dist-packages/lightgbm/engine.py:260: UserWarning:\n",
            "\n",
            "'evals_result' argument is deprecated and will be removed in a future release of LightGBM. Pass 'record_evaluation()' callback via 'callbacks' argument instead.\n",
            "\n",
            "/usr/local/lib/python3.7/dist-packages/lightgbm/engine.py:181: UserWarning:\n",
            "\n",
            "'early_stopping_rounds' argument is deprecated and will be removed in a future release of LightGBM. Pass 'early_stopping()' callback via 'callbacks' argument instead.\n",
            "\n",
            "/usr/local/lib/python3.7/dist-packages/lightgbm/engine.py:239: UserWarning:\n",
            "\n",
            "'verbose_eval' argument is deprecated and will be removed in a future release of LightGBM. Pass 'log_evaluation()' callback via 'callbacks' argument instead.\n",
            "\n",
            "/usr/local/lib/python3.7/dist-packages/lightgbm/engine.py:260: UserWarning:\n",
            "\n",
            "'evals_result' argument is deprecated and will be removed in a future release of LightGBM. Pass 'record_evaluation()' callback via 'callbacks' argument instead.\n",
            "\n"
          ]
        },
        {
          "output_type": "stream",
          "name": "stdout",
          "text": [
            "1_Optuna_LightGBM_Stacked rmse 7598776.598335 trained in 66.9 seconds\n",
            "4_Optuna_NeuralNetwork_Stacked rmse 68562168877.682335 trained in 63.64 seconds\n",
            "3_Optuna_CatBoost_Stacked rmse 8211865.665396 trained in 59.85 seconds\n",
            "6_Optuna_ExtraTrees_Stacked rmse 7079612.998853 trained in 71.53 seconds\n",
            "5_Optuna_RandomForest_Stacked rmse 7074707.995913 trained in 68.95 seconds\n",
            "2_Optuna_Xgboost_Stacked rmse 9230439.854815 trained in 82.47 seconds\n",
            "* Step ensemble_stacked will try to check up to 1 model\n",
            "Ensemble_Stacked rmse 6682098.353883 trained in 0.64 seconds\n",
            "AutoML fit time: 25690.98 seconds\n",
            "AutoML best model: Ensemble_Stacked\n",
            "Test MSE: 44153510993492.195\n"
          ]
        }
      ]
    },
    {
      "cell_type": "code",
      "execution_count": null,
      "metadata": {
        "colab": {
          "base_uri": "https://localhost:8080/"
        },
        "id": "d2zEnrrJ1qAK",
        "outputId": "0dea2f41-eea0-4909-a6de-9ec2fc0c62a0"
      },
      "outputs": [
        {
          "output_type": "stream",
          "name": "stdout",
          "text": [
            "Результаты модели automl [ 5404502.8 12996597.7  3561916.9  6946314.3]\n"
          ]
        }
      ],
      "source": [
        "new_features3 = new_features = pd.DataFrame(\n",
        "    [[59.0, 2, 2.87, 4.0, 31.5, 2, 0.0, 0.0, 0.0, 6.6, 0.0, 20485.0, 8180.0],\n",
        "     [109.0, 4, 3.15, 5.0, 72.0, 2, 0.0, 0.0, 0.0, 12.2, 0.0, 42683.0, 8643.0],\n",
        "     [37.4, 1, 2.50, 9.0, 20.0, 4, 0.0, 0.0, 0.0, 6.2, 2.0, 17792.0, 17699.0],\n",
        "     [74.5, 3, 2.58, 10.0, 49.0, 9, 0.0, 0.0, 0.0, 10.8, 0.0, 14078.0, 16670.0]],\n",
        "    columns=features.columns)\n",
        "\n",
        "\n",
        "\n",
        "result_my_model = automl.predict(new_features3)\n",
        "\n",
        "print('Результаты модели automl', result_my_model.round(decimals=1))\n"
      ]
    },
    {
      "cell_type": "code",
      "execution_count": null,
      "metadata": {
        "colab": {
          "base_uri": "https://localhost:8080/",
          "height": 206
        },
        "id": "ZoO9Xm6a1qAK",
        "outputId": "2150ff1c-de18-40c7-e913-e7ed7b5a0ffc"
      },
      "outputs": [
        {
          "output_type": "execute_result",
          "data": {
            "text/html": [
              "\n",
              "  <div id=\"df-e962079d-e8ff-4ed2-b9d8-b9d39279bc60\">\n",
              "    <div class=\"colab-df-container\">\n",
              "      <div>\n",
              "<style scoped>\n",
              "    .dataframe tbody tr th:only-of-type {\n",
              "        vertical-align: middle;\n",
              "    }\n",
              "\n",
              "    .dataframe tbody tr th {\n",
              "        vertical-align: top;\n",
              "    }\n",
              "\n",
              "    .dataframe thead th {\n",
              "        text-align: right;\n",
              "    }\n",
              "</style>\n",
              "<table border=\"1\" class=\"dataframe\">\n",
              "  <thead>\n",
              "    <tr style=\"text-align: right;\">\n",
              "      <th></th>\n",
              "      <th>last_price</th>\n",
              "      <th>total_area</th>\n",
              "      <th>rooms</th>\n",
              "      <th>ceiling_height</th>\n",
              "      <th>floors_total</th>\n",
              "      <th>living_area</th>\n",
              "      <th>floor</th>\n",
              "      <th>is_apartment</th>\n",
              "      <th>studio</th>\n",
              "      <th>open_plan</th>\n",
              "      <th>kitchen_area</th>\n",
              "      <th>balcony</th>\n",
              "      <th>airports_nearest</th>\n",
              "      <th>cityCenters_nearest</th>\n",
              "    </tr>\n",
              "  </thead>\n",
              "  <tbody>\n",
              "    <tr>\n",
              "      <th>0</th>\n",
              "      <td>5400000.0</td>\n",
              "      <td>59.0</td>\n",
              "      <td>2</td>\n",
              "      <td>2.87</td>\n",
              "      <td>4.0</td>\n",
              "      <td>31.5</td>\n",
              "      <td>2</td>\n",
              "      <td>0.0</td>\n",
              "      <td>0.0</td>\n",
              "      <td>0.0</td>\n",
              "      <td>6.6</td>\n",
              "      <td>0.0</td>\n",
              "      <td>20485.0</td>\n",
              "      <td>8180.0</td>\n",
              "    </tr>\n",
              "    <tr>\n",
              "      <th>1</th>\n",
              "      <td>13200000.0</td>\n",
              "      <td>109.0</td>\n",
              "      <td>4</td>\n",
              "      <td>3.15</td>\n",
              "      <td>5.0</td>\n",
              "      <td>72.0</td>\n",
              "      <td>2</td>\n",
              "      <td>0.0</td>\n",
              "      <td>0.0</td>\n",
              "      <td>0.0</td>\n",
              "      <td>12.2</td>\n",
              "      <td>0.0</td>\n",
              "      <td>42683.0</td>\n",
              "      <td>8643.0</td>\n",
              "    </tr>\n",
              "    <tr>\n",
              "      <th>2</th>\n",
              "      <td>7000000.0</td>\n",
              "      <td>74.5</td>\n",
              "      <td>3</td>\n",
              "      <td>2.58</td>\n",
              "      <td>10.0</td>\n",
              "      <td>49.0</td>\n",
              "      <td>9</td>\n",
              "      <td>0.0</td>\n",
              "      <td>0.0</td>\n",
              "      <td>0.0</td>\n",
              "      <td>10.8</td>\n",
              "      <td>0.0</td>\n",
              "      <td>14078.0</td>\n",
              "      <td>16670.0</td>\n",
              "    </tr>\n",
              "    <tr>\n",
              "      <th>3</th>\n",
              "      <td>3200000.0</td>\n",
              "      <td>37.4</td>\n",
              "      <td>1</td>\n",
              "      <td>2.50</td>\n",
              "      <td>9.0</td>\n",
              "      <td>20.0</td>\n",
              "      <td>4</td>\n",
              "      <td>0.0</td>\n",
              "      <td>0.0</td>\n",
              "      <td>0.0</td>\n",
              "      <td>6.2</td>\n",
              "      <td>2.0</td>\n",
              "      <td>17792.0</td>\n",
              "      <td>17699.0</td>\n",
              "    </tr>\n",
              "    <tr>\n",
              "      <th>4</th>\n",
              "      <td>6650000.0</td>\n",
              "      <td>64.9</td>\n",
              "      <td>3</td>\n",
              "      <td>2.65</td>\n",
              "      <td>12.0</td>\n",
              "      <td>41.9</td>\n",
              "      <td>11</td>\n",
              "      <td>0.0</td>\n",
              "      <td>0.0</td>\n",
              "      <td>0.0</td>\n",
              "      <td>10.4</td>\n",
              "      <td>0.0</td>\n",
              "      <td>14767.0</td>\n",
              "      <td>10573.0</td>\n",
              "    </tr>\n",
              "  </tbody>\n",
              "</table>\n",
              "</div>\n",
              "      <button class=\"colab-df-convert\" onclick=\"convertToInteractive('df-e962079d-e8ff-4ed2-b9d8-b9d39279bc60')\"\n",
              "              title=\"Convert this dataframe to an interactive table.\"\n",
              "              style=\"display:none;\">\n",
              "        \n",
              "  <svg xmlns=\"http://www.w3.org/2000/svg\" height=\"24px\"viewBox=\"0 0 24 24\"\n",
              "       width=\"24px\">\n",
              "    <path d=\"M0 0h24v24H0V0z\" fill=\"none\"/>\n",
              "    <path d=\"M18.56 5.44l.94 2.06.94-2.06 2.06-.94-2.06-.94-.94-2.06-.94 2.06-2.06.94zm-11 1L8.5 8.5l.94-2.06 2.06-.94-2.06-.94L8.5 2.5l-.94 2.06-2.06.94zm10 10l.94 2.06.94-2.06 2.06-.94-2.06-.94-.94-2.06-.94 2.06-2.06.94z\"/><path d=\"M17.41 7.96l-1.37-1.37c-.4-.4-.92-.59-1.43-.59-.52 0-1.04.2-1.43.59L10.3 9.45l-7.72 7.72c-.78.78-.78 2.05 0 2.83L4 21.41c.39.39.9.59 1.41.59.51 0 1.02-.2 1.41-.59l7.78-7.78 2.81-2.81c.8-.78.8-2.07 0-2.86zM5.41 20L4 18.59l7.72-7.72 1.47 1.35L5.41 20z\"/>\n",
              "  </svg>\n",
              "      </button>\n",
              "      \n",
              "  <style>\n",
              "    .colab-df-container {\n",
              "      display:flex;\n",
              "      flex-wrap:wrap;\n",
              "      gap: 12px;\n",
              "    }\n",
              "\n",
              "    .colab-df-convert {\n",
              "      background-color: #E8F0FE;\n",
              "      border: none;\n",
              "      border-radius: 50%;\n",
              "      cursor: pointer;\n",
              "      display: none;\n",
              "      fill: #1967D2;\n",
              "      height: 32px;\n",
              "      padding: 0 0 0 0;\n",
              "      width: 32px;\n",
              "    }\n",
              "\n",
              "    .colab-df-convert:hover {\n",
              "      background-color: #E2EBFA;\n",
              "      box-shadow: 0px 1px 2px rgba(60, 64, 67, 0.3), 0px 1px 3px 1px rgba(60, 64, 67, 0.15);\n",
              "      fill: #174EA6;\n",
              "    }\n",
              "\n",
              "    [theme=dark] .colab-df-convert {\n",
              "      background-color: #3B4455;\n",
              "      fill: #D2E3FC;\n",
              "    }\n",
              "\n",
              "    [theme=dark] .colab-df-convert:hover {\n",
              "      background-color: #434B5C;\n",
              "      box-shadow: 0px 1px 3px 1px rgba(0, 0, 0, 0.15);\n",
              "      filter: drop-shadow(0px 1px 2px rgba(0, 0, 0, 0.3));\n",
              "      fill: #FFFFFF;\n",
              "    }\n",
              "  </style>\n",
              "\n",
              "      <script>\n",
              "        const buttonEl =\n",
              "          document.querySelector('#df-e962079d-e8ff-4ed2-b9d8-b9d39279bc60 button.colab-df-convert');\n",
              "        buttonEl.style.display =\n",
              "          google.colab.kernel.accessAllowed ? 'block' : 'none';\n",
              "\n",
              "        async function convertToInteractive(key) {\n",
              "          const element = document.querySelector('#df-e962079d-e8ff-4ed2-b9d8-b9d39279bc60');\n",
              "          const dataTable =\n",
              "            await google.colab.kernel.invokeFunction('convertToInteractive',\n",
              "                                                     [key], {});\n",
              "          if (!dataTable) return;\n",
              "\n",
              "          const docLinkHtml = 'Like what you see? Visit the ' +\n",
              "            '<a target=\"_blank\" href=https://colab.research.google.com/notebooks/data_table.ipynb>data table notebook</a>'\n",
              "            + ' to learn more about interactive tables.';\n",
              "          element.innerHTML = '';\n",
              "          dataTable['output_type'] = 'display_data';\n",
              "          await google.colab.output.renderOutput(dataTable, element);\n",
              "          const docLink = document.createElement('div');\n",
              "          docLink.innerHTML = docLinkHtml;\n",
              "          element.appendChild(docLink);\n",
              "        }\n",
              "      </script>\n",
              "    </div>\n",
              "  </div>\n",
              "  "
            ],
            "text/plain": [
              "   last_price  total_area  ...  airports_nearest  cityCenters_nearest\n",
              "0   5400000.0        59.0  ...           20485.0               8180.0\n",
              "1  13200000.0       109.0  ...           42683.0               8643.0\n",
              "2   7000000.0        74.5  ...           14078.0              16670.0\n",
              "3   3200000.0        37.4  ...           17792.0              17699.0\n",
              "4   6650000.0        64.9  ...           14767.0              10573.0\n",
              "\n",
              "[5 rows x 14 columns]"
            ]
          },
          "metadata": {},
          "execution_count": 12
        }
      ],
      "source": [
        "df.head()"
      ]
    },
    {
      "cell_type": "markdown",
      "metadata": {
        "id": "Jbdde0kK1qAQ"
      },
      "source": [
        "## (бонус) Проверьте модели на адекватность"
      ]
    }
  ],
  "metadata": {
    "ExecuteTimeLog": [
      {
        "duration": 897,
        "start_time": "2022-01-14T12:45:54.174Z"
      },
      {
        "duration": 4,
        "start_time": "2022-01-14T12:45:59.854Z"
      },
      {
        "duration": 23,
        "start_time": "2022-01-14T12:46:48.536Z"
      },
      {
        "duration": 14,
        "start_time": "2022-01-14T12:48:55.384Z"
      },
      {
        "duration": 46,
        "start_time": "2022-01-14T13:58:29.873Z"
      },
      {
        "duration": 23,
        "start_time": "2022-01-14T13:59:35.867Z"
      },
      {
        "duration": 1051,
        "start_time": "2022-01-14T23:14:17.019Z"
      },
      {
        "duration": 7,
        "start_time": "2022-01-14T23:14:23.806Z"
      },
      {
        "duration": 8,
        "start_time": "2022-01-14T23:15:06.986Z"
      },
      {
        "duration": 4,
        "start_time": "2022-01-14T23:15:37.455Z"
      },
      {
        "duration": 4,
        "start_time": "2022-01-14T23:16:09.607Z"
      },
      {
        "duration": 43,
        "start_time": "2022-01-14T23:31:51.239Z"
      },
      {
        "duration": 384,
        "start_time": "2022-01-14T23:31:59.830Z"
      },
      {
        "duration": 17,
        "start_time": "2022-01-14T23:32:30.034Z"
      },
      {
        "duration": 272,
        "start_time": "2022-01-14T23:32:33.058Z"
      },
      {
        "duration": 7,
        "start_time": "2022-01-14T23:33:16.973Z"
      },
      {
        "duration": 275,
        "start_time": "2022-01-14T23:33:22.444Z"
      },
      {
        "duration": 19,
        "start_time": "2022-01-14T23:33:28.475Z"
      },
      {
        "duration": 9,
        "start_time": "2022-01-14T23:33:39.602Z"
      },
      {
        "duration": 20,
        "start_time": "2022-01-14T23:33:48.586Z"
      },
      {
        "duration": 266,
        "start_time": "2022-01-14T23:34:53.845Z"
      },
      {
        "duration": 1511,
        "start_time": "2022-01-14T23:35:16.424Z"
      },
      {
        "duration": 34,
        "start_time": "2022-01-14T23:44:12.010Z"
      },
      {
        "duration": 15,
        "start_time": "2022-01-14T23:44:12.046Z"
      },
      {
        "duration": 29,
        "start_time": "2022-01-14T23:44:12.070Z"
      },
      {
        "duration": 16,
        "start_time": "2022-01-14T23:44:12.102Z"
      },
      {
        "duration": 11,
        "start_time": "2022-01-14T23:44:12.119Z"
      },
      {
        "duration": 552,
        "start_time": "2022-01-14T23:44:12.133Z"
      },
      {
        "duration": -870,
        "start_time": "2022-01-14T23:44:13.558Z"
      },
      {
        "duration": -873,
        "start_time": "2022-01-14T23:44:13.562Z"
      },
      {
        "duration": -872,
        "start_time": "2022-01-14T23:44:13.563Z"
      },
      {
        "duration": -872,
        "start_time": "2022-01-14T23:44:13.564Z"
      },
      {
        "duration": -871,
        "start_time": "2022-01-14T23:44:13.565Z"
      },
      {
        "duration": 927,
        "start_time": "2022-01-14T23:49:28.059Z"
      },
      {
        "duration": 10,
        "start_time": "2022-01-14T23:49:28.988Z"
      },
      {
        "duration": 36,
        "start_time": "2022-01-14T23:49:29.002Z"
      },
      {
        "duration": 14,
        "start_time": "2022-01-14T23:49:29.040Z"
      },
      {
        "duration": 5,
        "start_time": "2022-01-14T23:49:29.056Z"
      },
      {
        "duration": 8,
        "start_time": "2022-01-14T23:49:29.062Z"
      },
      {
        "duration": 27,
        "start_time": "2022-01-14T23:49:29.071Z"
      },
      {
        "duration": 5,
        "start_time": "2022-01-14T23:49:29.101Z"
      },
      {
        "duration": 384,
        "start_time": "2022-01-14T23:49:29.110Z"
      },
      {
        "duration": -872,
        "start_time": "2022-01-14T23:49:30.368Z"
      },
      {
        "duration": -870,
        "start_time": "2022-01-14T23:49:30.368Z"
      },
      {
        "duration": -879,
        "start_time": "2022-01-14T23:49:30.378Z"
      },
      {
        "duration": 30,
        "start_time": "2022-01-14T23:49:44.213Z"
      },
      {
        "duration": 304,
        "start_time": "2022-01-14T23:50:26.409Z"
      },
      {
        "duration": 9,
        "start_time": "2022-01-15T00:04:20.903Z"
      },
      {
        "duration": 4,
        "start_time": "2022-01-15T00:04:24.553Z"
      },
      {
        "duration": 2,
        "start_time": "2022-01-15T00:04:35.830Z"
      },
      {
        "duration": 37,
        "start_time": "2022-01-15T00:05:06.389Z"
      },
      {
        "duration": 42,
        "start_time": "2022-01-15T00:05:31.151Z"
      },
      {
        "duration": 60,
        "start_time": "2022-01-15T00:05:53.158Z"
      },
      {
        "duration": 9,
        "start_time": "2022-01-15T00:11:22.025Z"
      },
      {
        "duration": 280,
        "start_time": "2022-01-15T00:11:23.764Z"
      },
      {
        "duration": 2,
        "start_time": "2022-01-15T00:17:57.029Z"
      },
      {
        "duration": 19,
        "start_time": "2022-01-15T00:17:58.301Z"
      },
      {
        "duration": 177,
        "start_time": "2022-01-15T00:20:58.329Z"
      },
      {
        "duration": 36,
        "start_time": "2022-01-15T00:21:11.777Z"
      },
      {
        "duration": 10,
        "start_time": "2022-01-15T00:40:36.500Z"
      },
      {
        "duration": 6,
        "start_time": "2022-01-15T00:42:04.285Z"
      },
      {
        "duration": 4,
        "start_time": "2022-01-15T00:42:10.522Z"
      },
      {
        "duration": 4,
        "start_time": "2022-01-15T00:42:15.629Z"
      },
      {
        "duration": 6,
        "start_time": "2022-01-15T00:51:33.789Z"
      },
      {
        "duration": 7,
        "start_time": "2022-01-15T00:52:28.469Z"
      },
      {
        "duration": 3,
        "start_time": "2022-01-15T00:52:30.421Z"
      },
      {
        "duration": 8,
        "start_time": "2022-01-15T00:55:06.815Z"
      },
      {
        "duration": 8,
        "start_time": "2022-01-15T00:56:04.152Z"
      },
      {
        "duration": 296,
        "start_time": "2022-01-15T00:56:10.641Z"
      },
      {
        "duration": 4,
        "start_time": "2022-01-15T00:56:21.400Z"
      },
      {
        "duration": 48,
        "start_time": "2022-01-15T00:56:25.828Z"
      },
      {
        "duration": 7,
        "start_time": "2022-01-15T00:56:55.970Z"
      },
      {
        "duration": 3,
        "start_time": "2022-01-15T00:57:46.694Z"
      },
      {
        "duration": 231,
        "start_time": "2022-01-15T00:57:49.179Z"
      },
      {
        "duration": 8,
        "start_time": "2022-01-15T00:57:55.478Z"
      },
      {
        "duration": 3,
        "start_time": "2022-01-15T00:58:08.866Z"
      },
      {
        "duration": 27,
        "start_time": "2022-01-15T00:58:08.870Z"
      },
      {
        "duration": 6,
        "start_time": "2022-01-15T00:58:13.570Z"
      },
      {
        "duration": 55,
        "start_time": "2022-01-15T00:59:55.681Z"
      },
      {
        "duration": 229,
        "start_time": "2022-01-15T01:01:47.932Z"
      },
      {
        "duration": 33,
        "start_time": "2022-01-15T01:02:30.804Z"
      },
      {
        "duration": 287,
        "start_time": "2022-01-15T01:06:41.125Z"
      },
      {
        "duration": 52,
        "start_time": "2022-01-15T01:11:33.602Z"
      },
      {
        "duration": 25,
        "start_time": "2022-01-15T01:16:50.869Z"
      },
      {
        "duration": 232,
        "start_time": "2022-01-15T01:16:54.983Z"
      },
      {
        "duration": 11,
        "start_time": "2022-01-15T01:16:58.766Z"
      },
      {
        "duration": 3,
        "start_time": "2022-01-15T01:23:48.818Z"
      },
      {
        "duration": 9,
        "start_time": "2022-01-15T01:28:46.505Z"
      },
      {
        "duration": 5,
        "start_time": "2022-01-15T01:33:22.745Z"
      },
      {
        "duration": 262,
        "start_time": "2022-01-15T01:38:35.382Z"
      },
      {
        "duration": 6,
        "start_time": "2022-01-15T01:39:16.928Z"
      },
      {
        "duration": 6,
        "start_time": "2022-01-15T01:40:31.858Z"
      },
      {
        "duration": 6,
        "start_time": "2022-01-15T01:41:27.286Z"
      },
      {
        "duration": 6,
        "start_time": "2022-01-15T01:41:50.115Z"
      },
      {
        "duration": 884,
        "start_time": "2022-01-15T01:42:38.799Z"
      },
      {
        "duration": 11,
        "start_time": "2022-01-15T01:42:39.685Z"
      },
      {
        "duration": 30,
        "start_time": "2022-01-15T01:42:39.700Z"
      },
      {
        "duration": 16,
        "start_time": "2022-01-15T01:42:39.731Z"
      },
      {
        "duration": 6,
        "start_time": "2022-01-15T01:42:39.749Z"
      },
      {
        "duration": 5,
        "start_time": "2022-01-15T01:42:39.756Z"
      },
      {
        "duration": 5,
        "start_time": "2022-01-15T01:42:39.763Z"
      },
      {
        "duration": 3,
        "start_time": "2022-01-15T01:42:39.800Z"
      },
      {
        "duration": 379,
        "start_time": "2022-01-15T01:42:39.805Z"
      },
      {
        "duration": -832,
        "start_time": "2022-01-15T01:42:41.018Z"
      },
      {
        "duration": -833,
        "start_time": "2022-01-15T01:42:41.020Z"
      },
      {
        "duration": -833,
        "start_time": "2022-01-15T01:42:41.021Z"
      },
      {
        "duration": -834,
        "start_time": "2022-01-15T01:42:41.023Z"
      },
      {
        "duration": -840,
        "start_time": "2022-01-15T01:42:41.030Z"
      },
      {
        "duration": -841,
        "start_time": "2022-01-15T01:42:41.032Z"
      },
      {
        "duration": -841,
        "start_time": "2022-01-15T01:42:41.033Z"
      },
      {
        "duration": -842,
        "start_time": "2022-01-15T01:42:41.034Z"
      },
      {
        "duration": -842,
        "start_time": "2022-01-15T01:42:41.035Z"
      },
      {
        "duration": -842,
        "start_time": "2022-01-15T01:42:41.036Z"
      },
      {
        "duration": -842,
        "start_time": "2022-01-15T01:42:41.037Z"
      },
      {
        "duration": 889,
        "start_time": "2022-01-15T01:43:43.379Z"
      },
      {
        "duration": 10,
        "start_time": "2022-01-15T01:43:44.270Z"
      },
      {
        "duration": 36,
        "start_time": "2022-01-15T01:43:44.282Z"
      },
      {
        "duration": 17,
        "start_time": "2022-01-15T01:43:44.319Z"
      },
      {
        "duration": 6,
        "start_time": "2022-01-15T01:43:44.338Z"
      },
      {
        "duration": 5,
        "start_time": "2022-01-15T01:43:44.346Z"
      },
      {
        "duration": 6,
        "start_time": "2022-01-15T01:43:44.352Z"
      },
      {
        "duration": 4,
        "start_time": "2022-01-15T01:43:44.359Z"
      },
      {
        "duration": 53,
        "start_time": "2022-01-15T01:43:44.366Z"
      },
      {
        "duration": 47,
        "start_time": "2022-01-15T01:43:44.420Z"
      },
      {
        "duration": 9,
        "start_time": "2022-01-15T01:43:44.469Z"
      },
      {
        "duration": 361,
        "start_time": "2022-01-15T01:43:44.499Z"
      },
      {
        "duration": -926,
        "start_time": "2022-01-15T01:43:45.788Z"
      },
      {
        "duration": -931,
        "start_time": "2022-01-15T01:43:45.794Z"
      },
      {
        "duration": -931,
        "start_time": "2022-01-15T01:43:45.795Z"
      },
      {
        "duration": -932,
        "start_time": "2022-01-15T01:43:45.797Z"
      },
      {
        "duration": -932,
        "start_time": "2022-01-15T01:43:45.798Z"
      },
      {
        "duration": -934,
        "start_time": "2022-01-15T01:43:45.801Z"
      },
      {
        "duration": -934,
        "start_time": "2022-01-15T01:43:45.802Z"
      },
      {
        "duration": 220,
        "start_time": "2022-01-15T01:45:28.320Z"
      },
      {
        "duration": 19,
        "start_time": "2022-01-15T01:45:40.491Z"
      },
      {
        "duration": 10,
        "start_time": "2022-01-15T01:45:40.511Z"
      },
      {
        "duration": 21,
        "start_time": "2022-01-15T01:45:40.523Z"
      },
      {
        "duration": 15,
        "start_time": "2022-01-15T01:45:40.546Z"
      },
      {
        "duration": 6,
        "start_time": "2022-01-15T01:45:40.562Z"
      },
      {
        "duration": 4,
        "start_time": "2022-01-15T01:45:40.569Z"
      },
      {
        "duration": 3,
        "start_time": "2022-01-15T01:45:40.598Z"
      },
      {
        "duration": 4,
        "start_time": "2022-01-15T01:45:40.603Z"
      },
      {
        "duration": 3,
        "start_time": "2022-01-15T01:45:40.610Z"
      },
      {
        "duration": 48,
        "start_time": "2022-01-15T01:45:40.615Z"
      },
      {
        "duration": 3,
        "start_time": "2022-01-15T01:45:40.665Z"
      },
      {
        "duration": 245,
        "start_time": "2022-01-15T01:45:40.669Z"
      },
      {
        "duration": 3,
        "start_time": "2022-01-15T01:45:40.915Z"
      },
      {
        "duration": 26,
        "start_time": "2022-01-15T01:45:40.919Z"
      },
      {
        "duration": 11,
        "start_time": "2022-01-15T01:45:40.946Z"
      },
      {
        "duration": 9,
        "start_time": "2022-01-15T01:45:40.958Z"
      },
      {
        "duration": 30,
        "start_time": "2022-01-15T01:45:40.969Z"
      },
      {
        "duration": 8,
        "start_time": "2022-01-15T01:45:41.001Z"
      },
      {
        "duration": 7,
        "start_time": "2022-01-15T01:45:41.010Z"
      },
      {
        "duration": 282,
        "start_time": "2022-01-15T02:00:25.966Z"
      },
      {
        "duration": 6,
        "start_time": "2022-01-15T02:02:16.084Z"
      },
      {
        "duration": 1057,
        "start_time": "2022-01-15T09:03:39.800Z"
      },
      {
        "duration": 7,
        "start_time": "2022-01-15T09:03:41.063Z"
      },
      {
        "duration": 29,
        "start_time": "2022-01-15T09:03:44.083Z"
      },
      {
        "duration": 15,
        "start_time": "2022-01-15T09:03:47.331Z"
      },
      {
        "duration": 7,
        "start_time": "2022-01-15T09:24:55.180Z"
      },
      {
        "duration": 5,
        "start_time": "2022-01-15T09:24:57.517Z"
      },
      {
        "duration": 5,
        "start_time": "2022-01-15T09:26:01.440Z"
      },
      {
        "duration": 6,
        "start_time": "2022-01-15T09:26:13.018Z"
      },
      {
        "duration": 4,
        "start_time": "2022-01-15T09:26:16.961Z"
      },
      {
        "duration": 28,
        "start_time": "2022-01-15T09:33:26.224Z"
      },
      {
        "duration": 58,
        "start_time": "2022-01-15T09:34:22.054Z"
      },
      {
        "duration": 10,
        "start_time": "2022-01-15T09:42:54.500Z"
      },
      {
        "duration": 229,
        "start_time": "2022-01-15T09:42:56.197Z"
      },
      {
        "duration": 225,
        "start_time": "2022-01-15T09:45:37.985Z"
      },
      {
        "duration": 248,
        "start_time": "2022-01-15T09:45:51.967Z"
      },
      {
        "duration": 2,
        "start_time": "2022-01-15T09:46:18.028Z"
      },
      {
        "duration": 3,
        "start_time": "2022-01-15T09:46:52.722Z"
      },
      {
        "duration": 26,
        "start_time": "2022-01-15T09:46:55.645Z"
      },
      {
        "duration": 13,
        "start_time": "2022-01-15T09:51:30.957Z"
      },
      {
        "duration": 2,
        "start_time": "2022-01-15T09:55:29.102Z"
      },
      {
        "duration": 5,
        "start_time": "2022-01-15T09:55:36.892Z"
      },
      {
        "duration": 3,
        "start_time": "2022-01-15T09:56:38.332Z"
      },
      {
        "duration": 6,
        "start_time": "2022-01-15T09:56:38.972Z"
      },
      {
        "duration": 9,
        "start_time": "2022-01-15T09:56:39.531Z"
      },
      {
        "duration": 1323,
        "start_time": "2022-01-15T11:01:21.204Z"
      },
      {
        "duration": 9,
        "start_time": "2022-01-15T11:01:22.530Z"
      },
      {
        "duration": 51,
        "start_time": "2022-01-15T11:01:22.542Z"
      },
      {
        "duration": 21,
        "start_time": "2022-01-15T11:01:23.196Z"
      },
      {
        "duration": 12,
        "start_time": "2022-01-15T11:02:34.004Z"
      },
      {
        "duration": 5,
        "start_time": "2022-01-15T11:02:34.672Z"
      },
      {
        "duration": 41,
        "start_time": "2022-01-15T11:07:49.138Z"
      },
      {
        "duration": 80,
        "start_time": "2022-01-15T11:07:50.689Z"
      },
      {
        "duration": 14,
        "start_time": "2022-01-15T11:08:25.314Z"
      },
      {
        "duration": 347,
        "start_time": "2022-01-15T11:08:26.298Z"
      },
      {
        "duration": 3,
        "start_time": "2022-01-15T11:08:51.667Z"
      },
      {
        "duration": 41,
        "start_time": "2022-01-15T11:08:52.128Z"
      },
      {
        "duration": 23,
        "start_time": "2022-01-15T11:09:51.324Z"
      },
      {
        "duration": 4,
        "start_time": "2022-01-15T11:11:05.657Z"
      },
      {
        "duration": 8,
        "start_time": "2022-01-15T11:11:06.147Z"
      },
      {
        "duration": 19,
        "start_time": "2022-01-15T11:11:06.321Z"
      },
      {
        "duration": 14,
        "start_time": "2022-01-15T11:11:06.665Z"
      },
      {
        "duration": 915,
        "start_time": "2022-01-15T18:25:13.670Z"
      },
      {
        "duration": 7,
        "start_time": "2022-01-15T18:25:15.013Z"
      },
      {
        "duration": 25,
        "start_time": "2022-01-15T18:25:16.778Z"
      },
      {
        "duration": 13,
        "start_time": "2022-01-15T18:25:18.270Z"
      },
      {
        "duration": 7,
        "start_time": "2022-01-15T18:25:24.743Z"
      },
      {
        "duration": 5,
        "start_time": "2022-01-15T18:25:25.423Z"
      },
      {
        "duration": 26,
        "start_time": "2022-01-15T18:25:29.704Z"
      },
      {
        "duration": 51,
        "start_time": "2022-01-15T18:25:30.902Z"
      },
      {
        "duration": 8,
        "start_time": "2022-01-15T18:25:33.981Z"
      },
      {
        "duration": 197,
        "start_time": "2022-01-15T18:25:34.548Z"
      },
      {
        "duration": 2,
        "start_time": "2022-01-15T18:25:37.658Z"
      },
      {
        "duration": 21,
        "start_time": "2022-01-15T18:25:38.117Z"
      },
      {
        "duration": 11,
        "start_time": "2022-01-15T18:25:41.428Z"
      },
      {
        "duration": 678,
        "start_time": "2022-01-15T18:25:44.876Z"
      },
      {
        "duration": 1222,
        "start_time": "2022-01-15T18:26:17.291Z"
      },
      {
        "duration": 3310,
        "start_time": "2022-01-15T18:34:00.939Z"
      },
      {
        "duration": 3151,
        "start_time": "2022-01-15T18:35:09.432Z"
      }
    ],
    "kernelspec": {
      "display_name": "Python 3 (ipykernel)",
      "language": "python",
      "name": "python3"
    },
    "language_info": {
      "codemirror_mode": {
        "name": "ipython",
        "version": 3
      },
      "file_extension": ".py",
      "mimetype": "text/x-python",
      "name": "python",
      "nbconvert_exporter": "python",
      "pygments_lexer": "ipython3",
      "version": "3.9.7"
    },
    "toc": {
      "base_numbering": 1,
      "nav_menu": {},
      "number_sections": true,
      "sideBar": true,
      "skip_h1_title": true,
      "title_cell": "Table of Contents",
      "title_sidebar": "Contents",
      "toc_cell": false,
      "toc_position": {},
      "toc_section_display": true,
      "toc_window_display": false
    },
    "colab": {
      "name": "Apartment_2.ipynb",
      "provenance": [],
      "collapsed_sections": [],
      "machine_shape": "hm",
      "background_execution": "on",
      "include_colab_link": true
    },
    "accelerator": "TPU"
  },
  "nbformat": 4,
  "nbformat_minor": 0
}